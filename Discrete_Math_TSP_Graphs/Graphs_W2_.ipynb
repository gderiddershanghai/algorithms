{
 "cells": [
  {
   "cell_type": "code",
   "execution_count": null,
   "id": "6f3f94cb-6b7c-47cc-a306-ce4ab92b2aa0",
   "metadata": {},
   "outputs": [],
   "source": [
    "def dfs(at):\n",
    "    # print('at', at)\n",
    "    if visited[at]: return \n",
    "    visited[at] = True\n",
    "    neighbors = adj[at]\n",
    "    for next in neighbors:\n",
    "        # print(next)\n",
    "        dfs(next)\n",
    "\n",
    "dfs(x)"
   ]
  },
  {
   "cell_type": "code",
   "execution_count": 177,
   "id": "fa53432d-2df1-4443-a8b2-52b812ca9f8d",
   "metadata": {},
   "outputs": [],
   "source": [
    "def acyclic(adj):\n",
    "    n = len(adj)\n",
    "    visited = [False] * n\n",
    "    recStack = [False] * n\n",
    "\n",
    "    def dfs(v):\n",
    "        visited[v] = True\n",
    "        recStack[v] = True\n",
    "\n",
    "        neighbors = adj[v]\n",
    "        for next in neighbors:\n",
    "            if not visited[next]:\n",
    "                if dfs(next):\n",
    "                    return True\n",
    "            elif recStack[next]:\n",
    "                return True\n",
    "        recStack[v] = False\n",
    "        return False\n",
    "\n",
    "    for v in range(n):\n",
    "        if dfs(v):\n",
    "            return 0\n",
    "    \n",
    "    return 1\n"
   ]
  },
  {
   "cell_type": "code",
   "execution_count": 177,
   "id": "65beeeee-f584-4677-9b40-a90737978416",
   "metadata": {},
   "outputs": [],
   "source": [
    "def acyclic(adj):\n",
    "    n = len(adj)\n",
    "    visited = [False] * n\n",
    "    recStack = [False] * n\n",
    "\n",
    "    def dfs(v):\n",
    "        visited[v] = True\n",
    "        recStack[v] = True\n",
    "\n",
    "        neighbors = adj[v]\n",
    "        for next in neighbors:\n",
    "            if not visited[next]:\n",
    "                if dfs(next):\n",
    "                    return True\n",
    "            elif recStack[next]:\n",
    "                return True\n",
    "        recStack[v] = False\n",
    "        return False\n",
    "\n",
    "    for v in range(n):\n",
    "        if dfs(v):\n",
    "            return 0\n",
    "    \n",
    "    return 1\n"
   ]
  },
  {
   "cell_type": "code",
   "execution_count": null,
   "id": "5dfbc735-4dbf-413a-885a-9618500facb5",
   "metadata": {},
   "outputs": [],
   "source": []
  },
  {
   "cell_type": "code",
   "execution_count": 178,
   "id": "925b8a10-697a-4824-b2bb-a2a128fdbe37",
   "metadata": {},
   "outputs": [
    {
     "data": {
      "text/plain": [
       "1"
      ]
     },
     "execution_count": 178,
     "metadata": {},
     "output_type": "execute_result"
    }
   ],
   "source": [
    "# adj = [[1], [2], []]  # 0 -> 1 -> 2\n",
    "# adj = [[1], [2], [3, 4], [5], [1], [0]]  # multiple cycles involving all nodes\n",
    "# adj = [[1], [], [3], []]  # 0 -> 1 and 2 -> 3\n",
    "adj = [[1], [], [3], []]  # 0 -> 1 and 2 -> 3\n",
    "acyclic(adj) "
   ]
  },
  {
   "cell_type": "code",
   "execution_count": null,
   "id": "24d9cc2f-ffc7-4838-9a14-46a01255c5f2",
   "metadata": {},
   "outputs": [],
   "source": []
  },
  {
   "cell_type": "code",
   "execution_count": 179,
   "id": "079519d3-e405-4b41-96ae-4235175ab773",
   "metadata": {},
   "outputs": [
    {
     "name": "stdout",
     "output_type": "stream",
     "text": [
      "All test cases passed.\n"
     ]
    }
   ],
   "source": [
    "def test_acyclic():\n",
    "    # Test case 1: Simple acyclic graph (tree structure)\n",
    "    adj = [[1], [2], []]  # 0 -> 1 -> 2\n",
    "    assert acyclic(adj) == 1, \"Test case 1 failed: Expected 1, found 0\"\n",
    "\n",
    "    # Test case 2: Simple cyclic graph (single cycle)\n",
    "    adj = [[1], [2], [0]]  # 0 -> 1 -> 2 -> 0\n",
    "    assert acyclic(adj) == 0, \"Test case 2 failed: Expected 0, found 1\"\n",
    "\n",
    "    # Test case 3: Graph with a self-loop\n",
    "    adj = [[1], [2], [2]]  # 2 -> 2 (self-loop)\n",
    "    assert acyclic(adj) == 0, \"Test case 3 failed: Expected 0, found 1\"\n",
    "\n",
    "    # Test case 4: Disconnected acyclic graph\n",
    "    adj = [[1], [], [3], []]  # 0 -> 1 and 2 -> 3\n",
    "    assert acyclic(adj) == 1, \"Test case 4 failed: Expected 1, found 0\"\n",
    "\n",
    "    # Test case 5: Disconnected graph with a cycle\n",
    "    adj = [[1], [0], [3], [4], [2]]  # 0 -> 1 -> 0 and 2 -> 3 -> 4 -> 2\n",
    "    assert acyclic(adj) == 0, \"Test case 5 failed: Expected 0, found 1\"\n",
    "\n",
    "    # Test case 6: Large acyclic graph\n",
    "    adj = [[1, 2], [3], [4], [], []]  # 0 -> 1 -> 3 and 0 -> 2 -> 4\n",
    "    assert acyclic(adj) == 1, \"Test case 6 failed: Expected 1, found 0\"\n",
    "\n",
    "    # Test case 7: Large graph with multiple cycles\n",
    "    adj = [[1], [2], [3, 4], [5], [1], [0]]  # multiple cycles involving all nodes\n",
    "    assert acyclic(adj) == 0, \"Test case 7 failed: Expected 0, found 1\"\n",
    "\n",
    "    print(\"All test cases passed.\")\n",
    "\n",
    "test_acyclic()\n"
   ]
  },
  {
   "cell_type": "markdown",
   "id": "e12d7c70-341c-44a2-b997-9e71c95bd56a",
   "metadata": {},
   "source": [
    "## Topological Sort"
   ]
  },
  {
   "cell_type": "code",
   "execution_count": null,
   "id": "468b67c8-4936-4439-9536-eb017a78f7fc",
   "metadata": {},
   "outputs": [],
   "source": [
    "def dfs(adj, used, order, x):\n",
    "    #write your code here\n",
    "    pass\n",
    "\n",
    "\n",
    "def toposort(adj):\n",
    "    used = [0] * len(adj)\n",
    "    order = []\n",
    "    #write your code here\n",
    "    return order"
   ]
  },
  {
   "cell_type": "code",
   "execution_count": null,
   "id": "9bf61b5c-d088-4116-99cc-c69ceea6136a",
   "metadata": {},
   "outputs": [],
   "source": []
  },
  {
   "cell_type": "code",
   "execution_count": null,
   "id": "fa8f4561-a92c-41d6-bf02-ed973261c339",
   "metadata": {},
   "outputs": [],
   "source": [
    "def test_toposort():\n",
    "    # Test case 1: Simple DAG\n",
    "    adj = [[1, 2], [3], [3], []]\n",
    "    expected_output = [0, 2, 1, 3]  # or [0, 1, 2, 3]\n",
    "    assert toposort(adj) in [expected_output, expected_output[::-1]], \\\n",
    "        \"Test case 1 failed\"\n",
    "\n",
    "    # Test case 2: Another simple DAG\n",
    "    adj = [[], [0], [1], [2]]\n",
    "    expected_output = [3, 2, 1, 0]  # or any other valid topological order\n",
    "    assert toposort(adj) in [expected_output, expected_output[::-1]], \\\n",
    "        \"Test case 2 failed\"\n",
    "\n",
    "    # Test case 3: Single node graph\n",
    "    adj = [[]]\n",
    "    expected_output = [0]\n",
    "    assert toposort(adj) == expected_output, \"Test case 3 failed\"\n",
    "\n",
    "    # Test case 4: Two disconnected nodes\n",
    "    adj = [[], []]\n",
    "    expected_output = [0, 1]  # or [1, 0]\n",
    "    assert toposort(adj) in [expected_output, expected_output[::-1]], \\\n",
    "        \"Test case 4 failed\"\n",
    "\n",
    "    # Test case 5: Graph with a self-loop (not a DAG)\n",
    "    adj = [[0], [2], [1]]\n",
    "    # Topological sort should not be possible for a graph with cycles\n",
    "    # The function could return an empty list or partial ordering in such cases\n",
    "    assert toposort(adj) == [], \"Test case 5 failed: Expected empty result due to cycle\"\n",
    "\n",
    "    # Test case 6: More complex DAG\n",
    "    adj = [[1, 2], [2], [3], []]\n",
    "    expected_output = [0, 1, 2, 3]\n",
    "    assert toposort(adj) == expected_output, \"Test case 6 failed\"\n",
    "\n",
    "    # Test case 7: DAG with multiple valid topological orders\n",
    "    adj = [[1], [2], [3], [4], []]\n",
    "    expected_output = [0, 1, 2, 3, 4]  # or any other valid topological order\n",
    "    assert toposort(adj) == expected_output, \"Test case 7 failed\"\n",
    "\n",
    "    print(\"All test cases passed.\")\n",
    "\n",
    "test_toposort()\n"
   ]
  },
  {
   "cell_type": "code",
   "execution_count": null,
   "id": "00d9f014-872c-4c06-898d-1bdb23ba63f5",
   "metadata": {},
   "outputs": [],
   "source": []
  }
 ],
 "metadata": {
  "kernelspec": {
   "display_name": "Python 3 (ipykernel)",
   "language": "python",
   "name": "python3"
  },
  "language_info": {
   "codemirror_mode": {
    "name": "ipython",
    "version": 3
   },
   "file_extension": ".py",
   "mimetype": "text/x-python",
   "name": "python",
   "nbconvert_exporter": "python",
   "pygments_lexer": "ipython3",
   "version": "3.10.6"
  }
 },
 "nbformat": 4,
 "nbformat_minor": 5
}
