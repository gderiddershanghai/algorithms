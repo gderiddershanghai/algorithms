{
 "cells": [
  {
   "cell_type": "markdown",
   "id": "68606984-abc3-477d-869d-8aa66a6cbd64",
   "metadata": {},
   "source": [
    "## Connected Components"
   ]
  },
  {
   "cell_type": "code",
   "execution_count": 2,
   "id": "e5b6c306-db49-479c-b881-dc6f7d3e28f7",
   "metadata": {},
   "outputs": [
    {
     "ename": "AttributeError",
     "evalue": "'Graph' object has no attribute 'number_of_selfloops'",
     "output_type": "error",
     "traceback": [
      "\u001b[0;31m---------------------------------------------------------------------------\u001b[0m",
      "\u001b[0;31mAttributeError\u001b[0m                            Traceback (most recent call last)",
      "Cell \u001b[0;32mIn [2], line 9\u001b[0m\n\u001b[1;32m      7\u001b[0m G \u001b[38;5;241m=\u001b[39m nx\u001b[38;5;241m.\u001b[39mGraph()\n\u001b[1;32m      8\u001b[0m G\u001b[38;5;241m.\u001b[39madd_edges_from([(\u001b[38;5;124m'\u001b[39m\u001b[38;5;124ma\u001b[39m\u001b[38;5;124m'\u001b[39m, \u001b[38;5;124m'\u001b[39m\u001b[38;5;124mb\u001b[39m\u001b[38;5;124m'\u001b[39m), (\u001b[38;5;124m'\u001b[39m\u001b[38;5;124mt\u001b[39m\u001b[38;5;124m'\u001b[39m, \u001b[38;5;124m'\u001b[39m\u001b[38;5;124mc\u001b[39m\u001b[38;5;124m'\u001b[39m), (\u001b[38;5;124m'\u001b[39m\u001b[38;5;124mb\u001b[39m\u001b[38;5;124m'\u001b[39m, \u001b[38;5;124m'\u001b[39m\u001b[38;5;124mx\u001b[39m\u001b[38;5;124m'\u001b[39m), (\u001b[38;5;124m'\u001b[39m\u001b[38;5;124mc\u001b[39m\u001b[38;5;124m'\u001b[39m, \u001b[38;5;124m'\u001b[39m\u001b[38;5;124mq\u001b[39m\u001b[38;5;124m'\u001b[39m), (\u001b[38;5;124m'\u001b[39m\u001b[38;5;124mq\u001b[39m\u001b[38;5;124m'\u001b[39m, \u001b[38;5;124m'\u001b[39m\u001b[38;5;124mt\u001b[39m\u001b[38;5;124m'\u001b[39m)])\n\u001b[0;32m----> 9\u001b[0m \u001b[43mdraw\u001b[49m\u001b[43m(\u001b[49m\u001b[43mG\u001b[49m\u001b[43m,\u001b[49m\u001b[43m \u001b[49m\u001b[43mlayout\u001b[49m\u001b[38;5;241;43m=\u001b[39;49m\u001b[38;5;124;43m'\u001b[39;49m\u001b[38;5;124;43mcirco\u001b[39;49m\u001b[38;5;124;43m'\u001b[39;49m\u001b[43m)\u001b[49m\n",
      "File \u001b[0;32m~/.pyenv/versions/3.10.6/lib/python3.10/site-packages/nxpd/nx_pydot.py:457\u001b[0m, in \u001b[0;36mdraw_pydot\u001b[0;34m(G, filename, format, prefix, suffix, layout, args, show)\u001b[0m\n\u001b[1;32m    454\u001b[0m     prog \u001b[38;5;241m=\u001b[39m [layout] \u001b[38;5;241m+\u001b[39m args\n\u001b[1;32m    456\u001b[0m \u001b[38;5;66;03m# Draw the image.\u001b[39;00m\n\u001b[0;32m--> 457\u001b[0m G2 \u001b[38;5;241m=\u001b[39m \u001b[43mto_pydot\u001b[49m\u001b[43m(\u001b[49m\u001b[43mG\u001b[49m\u001b[43m)\u001b[49m\n\u001b[1;32m    458\u001b[0m G2\u001b[38;5;241m.\u001b[39mwrite(fobj, prog\u001b[38;5;241m=\u001b[39mprog, \u001b[38;5;28mformat\u001b[39m\u001b[38;5;241m=\u001b[39mext)\n\u001b[1;32m    459\u001b[0m \u001b[38;5;28;01mif\u001b[39;00m close:\n",
      "File \u001b[0;32m~/.pyenv/versions/3.10.6/lib/python3.10/site-packages/nxpd/nx_pydot.py:249\u001b[0m, in \u001b[0;36mto_pydot\u001b[0;34m(G, raise_exceptions)\u001b[0m\n\u001b[1;32m    246\u001b[0m \u001b[38;5;28;01melse\u001b[39;00m:\n\u001b[1;32m    247\u001b[0m     graph_type \u001b[38;5;241m=\u001b[39m \u001b[38;5;124m'\u001b[39m\u001b[38;5;124mgraph\u001b[39m\u001b[38;5;124m'\u001b[39m\n\u001b[0;32m--> 249\u001b[0m strict \u001b[38;5;241m=\u001b[39m \u001b[43mG\u001b[49m\u001b[38;5;241;43m.\u001b[39;49m\u001b[43mnumber_of_selfloops\u001b[49m() \u001b[38;5;241m==\u001b[39m \u001b[38;5;241m0\u001b[39m \u001b[38;5;129;01mand\u001b[39;00m \u001b[38;5;129;01mnot\u001b[39;00m G\u001b[38;5;241m.\u001b[39mis_multigraph()\n\u001b[1;32m    251\u001b[0m \u001b[38;5;66;03m# Create the Pydot graph.\u001b[39;00m\n\u001b[1;32m    252\u001b[0m name \u001b[38;5;241m=\u001b[39m G\u001b[38;5;241m.\u001b[39mgraph\u001b[38;5;241m.\u001b[39mget(\u001b[38;5;124m'\u001b[39m\u001b[38;5;124mname\u001b[39m\u001b[38;5;124m'\u001b[39m)\n",
      "\u001b[0;31mAttributeError\u001b[0m: 'Graph' object has no attribute 'number_of_selfloops'"
     ]
    }
   ],
   "source": [
    "import networkx as nx\n",
    "import pygraphviz as pgv\n",
    "from nxpd import draw, nxpdParams\n",
    "nxpdParams['show'] = 'ipynb'\n",
    "\n",
    "\n",
    "G = nx.Graph()\n",
    "G.add_edges_from([('a', 'b'), ('t', 'c'), ('b', 'x'), ('c', 'q'), ('q', 't')])\n",
    "draw(G, layout='circo')"
   ]
  },
  {
   "cell_type": "code",
   "execution_count": null,
   "id": "daca61b1-ab28-4e02-b79a-21ca6aa15122",
   "metadata": {},
   "outputs": [],
   "source": [
    "print(\"G has {} connected components\".format(nx.number_connected_components(G)))\n",
    "for cc in nx.connected_components(G):\n",
    "    print(cc)"
   ]
  },
  {
   "cell_type": "code",
   "execution_count": 3,
   "id": "acf4e6a6-f9d1-4a49-852c-e8a01b7ff798",
   "metadata": {},
   "outputs": [
    {
     "ename": "AttributeError",
     "evalue": "'Graph' object has no attribute 'number_of_selfloops'",
     "output_type": "error",
     "traceback": [
      "\u001b[0;31m---------------------------------------------------------------------------\u001b[0m",
      "\u001b[0;31mAttributeError\u001b[0m                            Traceback (most recent call last)",
      "Cell \u001b[0;32mIn [3], line 9\u001b[0m\n\u001b[1;32m      7\u001b[0m G \u001b[38;5;241m=\u001b[39m nx\u001b[38;5;241m.\u001b[39mGraph()\n\u001b[1;32m      8\u001b[0m G\u001b[38;5;241m.\u001b[39madd_edges_from([(\u001b[38;5;124m'\u001b[39m\u001b[38;5;124ma\u001b[39m\u001b[38;5;124m'\u001b[39m, \u001b[38;5;124m'\u001b[39m\u001b[38;5;124mb\u001b[39m\u001b[38;5;124m'\u001b[39m), (\u001b[38;5;124m'\u001b[39m\u001b[38;5;124mt\u001b[39m\u001b[38;5;124m'\u001b[39m, \u001b[38;5;124m'\u001b[39m\u001b[38;5;124mc\u001b[39m\u001b[38;5;124m'\u001b[39m), (\u001b[38;5;124m'\u001b[39m\u001b[38;5;124mb\u001b[39m\u001b[38;5;124m'\u001b[39m, \u001b[38;5;124m'\u001b[39m\u001b[38;5;124mx\u001b[39m\u001b[38;5;124m'\u001b[39m), (\u001b[38;5;124m'\u001b[39m\u001b[38;5;124mc\u001b[39m\u001b[38;5;124m'\u001b[39m, \u001b[38;5;124m'\u001b[39m\u001b[38;5;124mq\u001b[39m\u001b[38;5;124m'\u001b[39m), (\u001b[38;5;124m'\u001b[39m\u001b[38;5;124mq\u001b[39m\u001b[38;5;124m'\u001b[39m, \u001b[38;5;124m'\u001b[39m\u001b[38;5;124mt\u001b[39m\u001b[38;5;124m'\u001b[39m)])\n\u001b[0;32m----> 9\u001b[0m \u001b[43mdraw\u001b[49m\u001b[43m(\u001b[49m\u001b[43mG\u001b[49m\u001b[43m,\u001b[49m\u001b[43m \u001b[49m\u001b[43mlayout\u001b[49m\u001b[38;5;241;43m=\u001b[39;49m\u001b[38;5;124;43m'\u001b[39;49m\u001b[38;5;124;43mcirco\u001b[39;49m\u001b[38;5;124;43m'\u001b[39;49m\u001b[43m)\u001b[49m\n",
      "File \u001b[0;32m~/.pyenv/versions/3.10.6/lib/python3.10/site-packages/nxpd/nx_pydot.py:457\u001b[0m, in \u001b[0;36mdraw_pydot\u001b[0;34m(G, filename, format, prefix, suffix, layout, args, show)\u001b[0m\n\u001b[1;32m    454\u001b[0m     prog \u001b[38;5;241m=\u001b[39m [layout] \u001b[38;5;241m+\u001b[39m args\n\u001b[1;32m    456\u001b[0m \u001b[38;5;66;03m# Draw the image.\u001b[39;00m\n\u001b[0;32m--> 457\u001b[0m G2 \u001b[38;5;241m=\u001b[39m \u001b[43mto_pydot\u001b[49m\u001b[43m(\u001b[49m\u001b[43mG\u001b[49m\u001b[43m)\u001b[49m\n\u001b[1;32m    458\u001b[0m G2\u001b[38;5;241m.\u001b[39mwrite(fobj, prog\u001b[38;5;241m=\u001b[39mprog, \u001b[38;5;28mformat\u001b[39m\u001b[38;5;241m=\u001b[39mext)\n\u001b[1;32m    459\u001b[0m \u001b[38;5;28;01mif\u001b[39;00m close:\n",
      "File \u001b[0;32m~/.pyenv/versions/3.10.6/lib/python3.10/site-packages/nxpd/nx_pydot.py:249\u001b[0m, in \u001b[0;36mto_pydot\u001b[0;34m(G, raise_exceptions)\u001b[0m\n\u001b[1;32m    246\u001b[0m \u001b[38;5;28;01melse\u001b[39;00m:\n\u001b[1;32m    247\u001b[0m     graph_type \u001b[38;5;241m=\u001b[39m \u001b[38;5;124m'\u001b[39m\u001b[38;5;124mgraph\u001b[39m\u001b[38;5;124m'\u001b[39m\n\u001b[0;32m--> 249\u001b[0m strict \u001b[38;5;241m=\u001b[39m \u001b[43mG\u001b[49m\u001b[38;5;241;43m.\u001b[39;49m\u001b[43mnumber_of_selfloops\u001b[49m() \u001b[38;5;241m==\u001b[39m \u001b[38;5;241m0\u001b[39m \u001b[38;5;129;01mand\u001b[39;00m \u001b[38;5;129;01mnot\u001b[39;00m G\u001b[38;5;241m.\u001b[39mis_multigraph()\n\u001b[1;32m    251\u001b[0m \u001b[38;5;66;03m# Create the Pydot graph.\u001b[39;00m\n\u001b[1;32m    252\u001b[0m name \u001b[38;5;241m=\u001b[39m G\u001b[38;5;241m.\u001b[39mgraph\u001b[38;5;241m.\u001b[39mget(\u001b[38;5;124m'\u001b[39m\u001b[38;5;124mname\u001b[39m\u001b[38;5;124m'\u001b[39m)\n",
      "\u001b[0;31mAttributeError\u001b[0m: 'Graph' object has no attribute 'number_of_selfloops'"
     ]
    }
   ],
   "source": [
    "import networkx as nx\n",
    "import pygraphviz as pgv\n",
    "from nxpd import draw, nxpdParams\n",
    "nxpdParams['show'] = 'ipynb'\n",
    "\n",
    "\n",
    "G = nx.Graph()\n",
    "G.add_edges_from([('a', 'b'), ('t', 'c'), ('b', 'x'), ('c', 'q'), ('q', 't')])\n",
    "draw(G, layout='circo')"
   ]
  },
  {
   "cell_type": "code",
   "execution_count": 4,
   "id": "00b56d87-7dca-4cf8-99e5-0db7f3ed31f9",
   "metadata": {},
   "outputs": [
    {
     "name": "stdout",
     "output_type": "stream",
     "text": [
      "G has 2 connected components\n",
      "{'x', 'b', 'a'}\n",
      "{'q', 'c', 't'}\n"
     ]
    }
   ],
   "source": [
    "print(\"G has {} connected components\".format(nx.number_connected_components(G)))\n",
    "for cc in nx.connected_components(G):\n",
    "    print(cc)"
   ]
  },
  {
   "cell_type": "code",
   "execution_count": 5,
   "id": "dd11b197-fb34-4559-b516-a589d5ec2598",
   "metadata": {},
   "outputs": [
    {
     "ename": "AttributeError",
     "evalue": "'DiGraph' object has no attribute 'number_of_selfloops'",
     "output_type": "error",
     "traceback": [
      "\u001b[0;31m---------------------------------------------------------------------------\u001b[0m",
      "\u001b[0;31mAttributeError\u001b[0m                            Traceback (most recent call last)",
      "Cell \u001b[0;32mIn [5], line 8\u001b[0m\n\u001b[1;32m      6\u001b[0m \u001b[38;5;66;03m#G = nx.DiGraph([('f', 'e'), ('d', 'c'), ('a', 'b'), ('c', 'd'), ('c', 'f'), ('f', 'd'), ('b', 'a'), ('a', 'd'), ('d', 'a'), ('e', 'a'), ('b', 'f'), ('a', 'c'), ('d', 'b')])\u001b[39;00m\n\u001b[1;32m      7\u001b[0m G \u001b[38;5;241m=\u001b[39m nx\u001b[38;5;241m.\u001b[39mDiGraph([(\u001b[38;5;124m'\u001b[39m\u001b[38;5;124ma\u001b[39m\u001b[38;5;124m'\u001b[39m, \u001b[38;5;124m'\u001b[39m\u001b[38;5;124mb\u001b[39m\u001b[38;5;124m'\u001b[39m), (\u001b[38;5;124m'\u001b[39m\u001b[38;5;124mb\u001b[39m\u001b[38;5;124m'\u001b[39m, \u001b[38;5;124m'\u001b[39m\u001b[38;5;124mc\u001b[39m\u001b[38;5;124m'\u001b[39m), (\u001b[38;5;124m'\u001b[39m\u001b[38;5;124mc\u001b[39m\u001b[38;5;124m'\u001b[39m, \u001b[38;5;124m'\u001b[39m\u001b[38;5;124me\u001b[39m\u001b[38;5;124m'\u001b[39m), (\u001b[38;5;124m'\u001b[39m\u001b[38;5;124me\u001b[39m\u001b[38;5;124m'\u001b[39m, \u001b[38;5;124m'\u001b[39m\u001b[38;5;124ma\u001b[39m\u001b[38;5;124m'\u001b[39m), (\u001b[38;5;124m'\u001b[39m\u001b[38;5;124ma\u001b[39m\u001b[38;5;124m'\u001b[39m, \u001b[38;5;124m'\u001b[39m\u001b[38;5;124md\u001b[39m\u001b[38;5;124m'\u001b[39m), (\u001b[38;5;124m'\u001b[39m\u001b[38;5;124md\u001b[39m\u001b[38;5;124m'\u001b[39m, \u001b[38;5;124m'\u001b[39m\u001b[38;5;124mc\u001b[39m\u001b[38;5;124m'\u001b[39m), (\u001b[38;5;124m'\u001b[39m\u001b[38;5;124mc\u001b[39m\u001b[38;5;124m'\u001b[39m, \u001b[38;5;124m'\u001b[39m\u001b[38;5;124ma\u001b[39m\u001b[38;5;124m'\u001b[39m)])\n\u001b[0;32m----> 8\u001b[0m \u001b[43mdraw\u001b[49m\u001b[43m(\u001b[49m\u001b[43mG\u001b[49m\u001b[43m,\u001b[49m\u001b[43m \u001b[49m\u001b[43mlayout\u001b[49m\u001b[38;5;241;43m=\u001b[39;49m\u001b[38;5;124;43m'\u001b[39;49m\u001b[38;5;124;43mcirco\u001b[39;49m\u001b[38;5;124;43m'\u001b[39;49m\u001b[43m)\u001b[49m\n",
      "File \u001b[0;32m~/.pyenv/versions/3.10.6/lib/python3.10/site-packages/nxpd/nx_pydot.py:457\u001b[0m, in \u001b[0;36mdraw_pydot\u001b[0;34m(G, filename, format, prefix, suffix, layout, args, show)\u001b[0m\n\u001b[1;32m    454\u001b[0m     prog \u001b[38;5;241m=\u001b[39m [layout] \u001b[38;5;241m+\u001b[39m args\n\u001b[1;32m    456\u001b[0m \u001b[38;5;66;03m# Draw the image.\u001b[39;00m\n\u001b[0;32m--> 457\u001b[0m G2 \u001b[38;5;241m=\u001b[39m \u001b[43mto_pydot\u001b[49m\u001b[43m(\u001b[49m\u001b[43mG\u001b[49m\u001b[43m)\u001b[49m\n\u001b[1;32m    458\u001b[0m G2\u001b[38;5;241m.\u001b[39mwrite(fobj, prog\u001b[38;5;241m=\u001b[39mprog, \u001b[38;5;28mformat\u001b[39m\u001b[38;5;241m=\u001b[39mext)\n\u001b[1;32m    459\u001b[0m \u001b[38;5;28;01mif\u001b[39;00m close:\n",
      "File \u001b[0;32m~/.pyenv/versions/3.10.6/lib/python3.10/site-packages/nxpd/nx_pydot.py:249\u001b[0m, in \u001b[0;36mto_pydot\u001b[0;34m(G, raise_exceptions)\u001b[0m\n\u001b[1;32m    246\u001b[0m \u001b[38;5;28;01melse\u001b[39;00m:\n\u001b[1;32m    247\u001b[0m     graph_type \u001b[38;5;241m=\u001b[39m \u001b[38;5;124m'\u001b[39m\u001b[38;5;124mgraph\u001b[39m\u001b[38;5;124m'\u001b[39m\n\u001b[0;32m--> 249\u001b[0m strict \u001b[38;5;241m=\u001b[39m \u001b[43mG\u001b[49m\u001b[38;5;241;43m.\u001b[39;49m\u001b[43mnumber_of_selfloops\u001b[49m() \u001b[38;5;241m==\u001b[39m \u001b[38;5;241m0\u001b[39m \u001b[38;5;129;01mand\u001b[39;00m \u001b[38;5;129;01mnot\u001b[39;00m G\u001b[38;5;241m.\u001b[39mis_multigraph()\n\u001b[1;32m    251\u001b[0m \u001b[38;5;66;03m# Create the Pydot graph.\u001b[39;00m\n\u001b[1;32m    252\u001b[0m name \u001b[38;5;241m=\u001b[39m G\u001b[38;5;241m.\u001b[39mgraph\u001b[38;5;241m.\u001b[39mget(\u001b[38;5;124m'\u001b[39m\u001b[38;5;124mname\u001b[39m\u001b[38;5;124m'\u001b[39m)\n",
      "\u001b[0;31mAttributeError\u001b[0m: 'DiGraph' object has no attribute 'number_of_selfloops'"
     ]
    }
   ],
   "source": [
    "import networkx as nx\n",
    "import pygraphviz as pgv\n",
    "from nxpd import draw, nxpdParams\n",
    "nxpdParams['show'] = 'ipynb'\n",
    "\n",
    "#G = nx.DiGraph([('f', 'e'), ('d', 'c'), ('a', 'b'), ('c', 'd'), ('c', 'f'), ('f', 'd'), ('b', 'a'), ('a', 'd'), ('d', 'a'), ('e', 'a'), ('b', 'f'), ('a', 'c'), ('d', 'b')])\n",
    "G = nx.DiGraph([('a', 'b'), ('b', 'c'), ('c', 'e'), ('e', 'a'), ('a', 'd'), ('d', 'c'), ('c', 'a')])\n",
    "draw(G, layout='circo')"
   ]
  }
 ],
 "metadata": {
  "kernelspec": {
   "display_name": "Python 3 (ipykernel)",
   "language": "python",
   "name": "python3"
  },
  "language_info": {
   "codemirror_mode": {
    "name": "ipython",
    "version": 3
   },
   "file_extension": ".py",
   "mimetype": "text/x-python",
   "name": "python",
   "nbconvert_exporter": "python",
   "pygments_lexer": "ipython3",
   "version": "3.10.6"
  }
 },
 "nbformat": 4,
 "nbformat_minor": 5
}
