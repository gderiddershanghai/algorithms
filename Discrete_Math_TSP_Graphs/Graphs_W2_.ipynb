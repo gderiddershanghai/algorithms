{
 "cells": [
  {
   "cell_type": "code",
   "execution_count": null,
   "id": "6f3f94cb-6b7c-47cc-a306-ce4ab92b2aa0",
   "metadata": {},
   "outputs": [],
   "source": [
    "def dfs(at):\n",
    "    # print('at', at)\n",
    "    if visited[at]: return \n",
    "    visited[at] = True\n",
    "    neighbors = adj[at]\n",
    "    for next in neighbors:\n",
    "        # print(next)\n",
    "        dfs(next)\n",
    "\n",
    "dfs(x)"
   ]
  },
  {
   "cell_type": "code",
   "execution_count": 177,
   "id": "fa53432d-2df1-4443-a8b2-52b812ca9f8d",
   "metadata": {},
   "outputs": [],
   "source": [
    "def acyclic(adj):\n",
    "    n = len(adj)\n",
    "    visited = [False] * n\n",
    "    recStack = [False] * n\n",
    "\n",
    "    def dfs(v):\n",
    "        visited[v] = True\n",
    "        recStack[v] = True\n",
    "\n",
    "        neighbors = adj[v]\n",
    "        for next in neighbors:\n",
    "            if not visited[next]:\n",
    "                if dfs(next):\n",
    "                    return True\n",
    "            elif recStack[next]:\n",
    "                return True\n",
    "        recStack[v] = False\n",
    "        return False\n",
    "\n",
    "    for v in range(n):\n",
    "        if dfs(v):\n",
    "            return 0\n",
    "    \n",
    "    return 1\n"
   ]
  },
  {
   "cell_type": "code",
   "execution_count": 177,
   "id": "65beeeee-f584-4677-9b40-a90737978416",
   "metadata": {},
   "outputs": [],
   "source": [
    "def acyclic(adj):\n",
    "    n = len(adj)\n",
    "    visited = [False] * n\n",
    "    recStack = [False] * n\n",
    "\n",
    "    def dfs(v):\n",
    "        visited[v] = True\n",
    "        recStack[v] = True\n",
    "\n",
    "        neighbors = adj[v]\n",
    "        for next in neighbors:\n",
    "            if not visited[next]:\n",
    "                if dfs(next):\n",
    "                    return True\n",
    "            elif recStack[next]:\n",
    "                return True\n",
    "        recStack[v] = False\n",
    "        return False\n",
    "\n",
    "    for v in range(n):\n",
    "        if dfs(v):\n",
    "            return 0\n",
    "    \n",
    "    return 1\n"
   ]
  },
  {
   "cell_type": "code",
   "execution_count": null,
   "id": "5dfbc735-4dbf-413a-885a-9618500facb5",
   "metadata": {},
   "outputs": [],
   "source": []
  },
  {
   "cell_type": "code",
   "execution_count": 178,
   "id": "925b8a10-697a-4824-b2bb-a2a128fdbe37",
   "metadata": {},
   "outputs": [
    {
     "data": {
      "text/plain": [
       "1"
      ]
     },
     "execution_count": 178,
     "metadata": {},
     "output_type": "execute_result"
    }
   ],
   "source": [
    "# adj = [[1], [2], []]  # 0 -> 1 -> 2\n",
    "# adj = [[1], [2], [3, 4], [5], [1], [0]]  # multiple cycles involving all nodes\n",
    "# adj = [[1], [], [3], []]  # 0 -> 1 and 2 -> 3\n",
    "adj = [[1], [], [3], []]  # 0 -> 1 and 2 -> 3\n",
    "acyclic(adj) "
   ]
  },
  {
   "cell_type": "code",
   "execution_count": null,
   "id": "24d9cc2f-ffc7-4838-9a14-46a01255c5f2",
   "metadata": {},
   "outputs": [],
   "source": []
  },
  {
   "cell_type": "code",
   "execution_count": 179,
   "id": "079519d3-e405-4b41-96ae-4235175ab773",
   "metadata": {},
   "outputs": [
    {
     "name": "stdout",
     "output_type": "stream",
     "text": [
      "All test cases passed.\n"
     ]
    }
   ],
   "source": [
    "def test_acyclic():\n",
    "    # Test case 1: Simple acyclic graph (tree structure)\n",
    "    adj = [[1], [2], []]  # 0 -> 1 -> 2\n",
    "    assert acyclic(adj) == 1, \"Test case 1 failed: Expected 1, found 0\"\n",
    "\n",
    "    # Test case 2: Simple cyclic graph (single cycle)\n",
    "    adj = [[1], [2], [0]]  # 0 -> 1 -> 2 -> 0\n",
    "    assert acyclic(adj) == 0, \"Test case 2 failed: Expected 0, found 1\"\n",
    "\n",
    "    # Test case 3: Graph with a self-loop\n",
    "    adj = [[1], [2], [2]]  # 2 -> 2 (self-loop)\n",
    "    assert acyclic(adj) == 0, \"Test case 3 failed: Expected 0, found 1\"\n",
    "\n",
    "    # Test case 4: Disconnected acyclic graph\n",
    "    adj = [[1], [], [3], []]  # 0 -> 1 and 2 -> 3\n",
    "    assert acyclic(adj) == 1, \"Test case 4 failed: Expected 1, found 0\"\n",
    "\n",
    "    # Test case 5: Disconnected graph with a cycle\n",
    "    adj = [[1], [0], [3], [4], [2]]  # 0 -> 1 -> 0 and 2 -> 3 -> 4 -> 2\n",
    "    assert acyclic(adj) == 0, \"Test case 5 failed: Expected 0, found 1\"\n",
    "\n",
    "    # Test case 6: Large acyclic graph\n",
    "    adj = [[1, 2], [3], [4], [], []]  # 0 -> 1 -> 3 and 0 -> 2 -> 4\n",
    "    assert acyclic(adj) == 1, \"Test case 6 failed: Expected 1, found 0\"\n",
    "\n",
    "    # Test case 7: Large graph with multiple cycles\n",
    "    adj = [[1], [2], [3, 4], [5], [1], [0]]  # multiple cycles involving all nodes\n",
    "    assert acyclic(adj) == 0, \"Test case 7 failed: Expected 0, found 1\"\n",
    "\n",
    "    print(\"All test cases passed.\")\n",
    "\n",
    "test_acyclic()\n"
   ]
  },
  {
   "cell_type": "markdown",
   "id": "e12d7c70-341c-44a2-b997-9e71c95bd56a",
   "metadata": {},
   "source": [
    "## Topological Sort"
   ]
  },
  {
   "cell_type": "code",
   "execution_count": 218,
   "id": "468b67c8-4936-4439-9536-eb017a78f7fc",
   "metadata": {},
   "outputs": [],
   "source": [
    "def dfs(adj, used, order, x):\n",
    "    used[x] = True\n",
    "    for next in adj[x]:\n",
    "        if not used[next]:\n",
    "            dfs(adj, used, order, next)\n",
    "    order.append(x)\n",
    "\n",
    "def toposort(adj):\n",
    "    n = len(adj)\n",
    "    used = [False] * n\n",
    "    order = []\n",
    "    for v in range(n):\n",
    "        if not used[v]:\n",
    "            dfs(adj, used, order, v)\n",
    "    order.reverse()\n",
    "    return order"
   ]
  },
  {
   "cell_type": "code",
   "execution_count": 219,
   "id": "9bf61b5c-d088-4116-99cc-c69ceea6136a",
   "metadata": {},
   "outputs": [
    {
     "data": {
      "text/plain": [
       "[0, 1, 2, 3, 4]"
      ]
     },
     "execution_count": 219,
     "metadata": {},
     "output_type": "execute_result"
    }
   ],
   "source": [
    "adj = [[1], [2], [3], [4], []]\n",
    "toposort(adj)"
   ]
  },
  {
   "cell_type": "code",
   "execution_count": 220,
   "id": "fa8f4561-a92c-41d6-bf02-ed973261c339",
   "metadata": {},
   "outputs": [
    {
     "ename": "AssertionError",
     "evalue": "Test case 5 failed: Expected empty result due to cycle",
     "output_type": "error",
     "traceback": [
      "\u001b[0;31m---------------------------------------------------------------------------\u001b[0m",
      "\u001b[0;31mAssertionError\u001b[0m                            Traceback (most recent call last)",
      "Cell \u001b[0;32mIn [220], line 43\u001b[0m\n\u001b[1;32m     39\u001b[0m     \u001b[38;5;28;01massert\u001b[39;00m toposort(adj) \u001b[38;5;241m==\u001b[39m expected_output, \u001b[38;5;124m\"\u001b[39m\u001b[38;5;124mTest case 7 failed\u001b[39m\u001b[38;5;124m\"\u001b[39m\n\u001b[1;32m     41\u001b[0m     \u001b[38;5;28mprint\u001b[39m(\u001b[38;5;124m\"\u001b[39m\u001b[38;5;124mAll test cases passed.\u001b[39m\u001b[38;5;124m\"\u001b[39m)\n\u001b[0;32m---> 43\u001b[0m \u001b[43mtest_toposort\u001b[49m\u001b[43m(\u001b[49m\u001b[43m)\u001b[49m\n",
      "Cell \u001b[0;32mIn [220], line 29\u001b[0m, in \u001b[0;36mtest_toposort\u001b[0;34m()\u001b[0m\n\u001b[1;32m     26\u001b[0m adj \u001b[38;5;241m=\u001b[39m [[\u001b[38;5;241m0\u001b[39m], [\u001b[38;5;241m2\u001b[39m], [\u001b[38;5;241m1\u001b[39m]]\n\u001b[1;32m     27\u001b[0m \u001b[38;5;66;03m# Topological sort should not be possible for a graph with cycles\u001b[39;00m\n\u001b[1;32m     28\u001b[0m \u001b[38;5;66;03m# The function could return an empty list or partial ordering in such cases\u001b[39;00m\n\u001b[0;32m---> 29\u001b[0m \u001b[38;5;28;01massert\u001b[39;00m toposort(adj) \u001b[38;5;241m==\u001b[39m [], \u001b[38;5;124m\"\u001b[39m\u001b[38;5;124mTest case 5 failed: Expected empty result due to cycle\u001b[39m\u001b[38;5;124m\"\u001b[39m\n\u001b[1;32m     31\u001b[0m \u001b[38;5;66;03m# Test case 6: More complex DAG\u001b[39;00m\n\u001b[1;32m     32\u001b[0m adj \u001b[38;5;241m=\u001b[39m [[\u001b[38;5;241m1\u001b[39m, \u001b[38;5;241m2\u001b[39m], [\u001b[38;5;241m2\u001b[39m], [\u001b[38;5;241m3\u001b[39m], []]\n",
      "\u001b[0;31mAssertionError\u001b[0m: Test case 5 failed: Expected empty result due to cycle"
     ]
    }
   ],
   "source": [
    "def test_toposort():\n",
    "    # Test case 1: Simple DAG\n",
    "    adj = [[1, 2], [3], [3], []]\n",
    "    expected_output = [0, 2, 1, 3]  # or [0, 1, 2, 3]\n",
    "    assert toposort(adj) in [expected_output, expected_output[::-1]], \\\n",
    "        \"Test case 1 failed\"\n",
    "\n",
    "    # Test case 2: Another simple DAG\n",
    "    adj = [[], [0], [1], [2]]\n",
    "    expected_output = [3, 2, 1, 0]  # or any other valid topological order\n",
    "    assert toposort(adj) in [expected_output, expected_output[::-1]], \\\n",
    "        \"Test case 2 failed\"\n",
    "\n",
    "    # Test case 3: Single node graph\n",
    "    adj = [[]]\n",
    "    expected_output = [0]\n",
    "    assert toposort(adj) == expected_output, \"Test case 3 failed\"\n",
    "\n",
    "    # Test case 4: Two disconnected nodes\n",
    "    adj = [[], []]\n",
    "    expected_output = [0, 1]  # or [1, 0]\n",
    "    assert toposort(adj) in [expected_output, expected_output[::-1]], \\\n",
    "        \"Test case 4 failed\"\n",
    "\n",
    "    # Test case 5: Graph with a self-loop (not a DAG)\n",
    "    adj = [[0], [2], [1]]\n",
    "    # Topological sort should not be possible for a graph with cycles\n",
    "    # The function could return an empty list or partial ordering in such cases\n",
    "    assert toposort(adj) == [], \"Test case 5 failed: Expected empty result due to cycle\"\n",
    "\n",
    "    # Test case 6: More complex DAG\n",
    "    adj = [[1, 2], [2], [3], []]\n",
    "    expected_output = [0, 1, 2, 3]\n",
    "    assert toposort(adj) == expected_output, \"Test case 6 failed\"\n",
    "\n",
    "    # Test case 7: DAG with multiple valid topological orders\n",
    "    adj = [[1], [2], [3], [4], []]\n",
    "    expected_output = [0, 1, 2, 3, 4]  # or any other valid topological order\n",
    "    assert toposort(adj) == expected_output, \"Test case 7 failed\"\n",
    "\n",
    "    print(\"All test cases passed.\")\n",
    "\n",
    "test_toposort()\n"
   ]
  },
  {
   "cell_type": "markdown",
   "id": "fe88c98b-88ad-45d0-8f58-a72df1fa4f7b",
   "metadata": {},
   "source": [
    "## strongly connected components"
   ]
  },
  {
   "cell_type": "code",
   "execution_count": 243,
   "id": "081cb3bc-b980-416c-92bb-7778edce0382",
   "metadata": {},
   "outputs": [
    {
     "data": {
      "text/plain": [
       "{1, 2}"
      ]
     },
     "execution_count": 243,
     "metadata": {},
     "output_type": "execute_result"
    }
   ],
   "source": [
    "set([1,2,2])"
   ]
  },
  {
   "cell_type": "code",
   "execution_count": 236,
   "id": "322571d8-01ff-444d-ae4a-13677bdd1b1c",
   "metadata": {},
   "outputs": [],
   "source": [
    "\n",
    "def number_of_strongly_connected_components(adj):\n",
    "    n = len(adj)\n",
    "    visited = [False] * n\n",
    "    post_order = []\n",
    "\n",
    "    # Helper function for DFS\n",
    "    def dfs(v, graph, collect_post_order=False):\n",
    "        visited[v] = True\n",
    "        for neighbor in graph[v]:\n",
    "            if not visited[neighbor]:\n",
    "                dfs(neighbor, graph, collect_post_order)\n",
    "        if collect_post_order:\n",
    "            post_order.append(v)\n",
    "\n",
    "    # Reverse the graph\n",
    "    def reverse_graph(graph):\n",
    "        rev_graph = [[] for _ in range(len(graph))]\n",
    "        for v in range(len(graph)):\n",
    "            for neighbor in graph[v]:\n",
    "                rev_graph[neighbor].append(v)\n",
    "        return rev_graph\n",
    "\n",
    "    # Step 1: DFS on the reversed graph to get post order\n",
    "    rev_adj = reverse_graph(adj)\n",
    "    for i in range(n):\n",
    "        if not visited[i]:\n",
    "            dfs(i, rev_adj, collect_post_order=True)\n",
    "\n",
    "    # Reset visited for second pass\n",
    "    visited = [False] * n\n",
    "    sccs = []\n",
    "    # print(post_order)\n",
    "    while len(post_order)>0:\n",
    "        v = post_order.pop()\n",
    "        if not visited[v]:\n",
    "            component = []\n",
    "            tmp = [False] * n\n",
    "            dfs(v, adj, collect_post_order=False)\n",
    "            component = [i for i in range(n) if visited[i]]\n",
    "            sccs.append(component)\n",
    "            for node in component:\n",
    "                visited[node] = False  \n",
    "    return sccs"
   ]
  },
  {
   "cell_type": "code",
   "execution_count": 246,
   "id": "10d0696c-7abf-402b-a1a2-f8f04dc5b94f",
   "metadata": {},
   "outputs": [],
   "source": [
    "def number_of_strongly_connected_components(adj):\n",
    "    n = len(adj)\n",
    "    visited = [False] * n\n",
    "    post_order = []\n",
    "\n",
    "    # Helper function for DFS\n",
    "    def dfs(v, graph, collect_post_order=False):\n",
    "        visited[v] = True\n",
    "        for neighbor in graph[v]:\n",
    "            if not visited[neighbor]:\n",
    "                dfs(neighbor, graph, collect_post_order)\n",
    "        if collect_post_order:\n",
    "            post_order.append(v)\n",
    "\n",
    "    # Reverse the graph\n",
    "    def reverse_graph(graph):\n",
    "        rev_graph = [[] for _ in range(len(graph))]\n",
    "        for v in range(len(graph)):\n",
    "            for neighbor in graph[v]:\n",
    "                rev_graph[neighbor].append(v)\n",
    "        return rev_graph\n",
    "\n",
    "    # Step 1: DFS on the reversed graph to get post order\n",
    "    rev_adj = reverse_graph(adj)\n",
    "    for i in range(n):\n",
    "        if not visited[i]:\n",
    "            dfs(i, rev_adj, collect_post_order=True)\n",
    "\n",
    "    # Reset visited for second pass\n",
    "    visited = [False] * n\n",
    "    sccs = []\n",
    "\n",
    "    # Step 2: DFS on the original graph in decreasing order of post numbers\n",
    "    while post_order:\n",
    "        v = post_order.pop()\n",
    "        if not visited[v]:\n",
    "            component = []\n",
    "            dfs(v, adj)\n",
    "            component = [i for i in range(n) if visited[i]]\n",
    "            if component not in sccs:\n",
    "                sccs.append(component)\n",
    "            for node in component:\n",
    "                visited[node] = False  # Unmark nodes for future components\n",
    "\n",
    "    return len(sccs)\n",
    "\n"
   ]
  },
  {
   "cell_type": "code",
   "execution_count": null,
   "id": "0f550879-1d8f-4602-b9c7-f4399bc72b34",
   "metadata": {},
   "outputs": [],
   "source": []
  },
  {
   "cell_type": "code",
   "execution_count": 247,
   "id": "98cb29c6-12cc-4ea4-a764-c6209132d4cb",
   "metadata": {},
   "outputs": [
    {
     "data": {
      "text/plain": [
       "2"
      ]
     },
     "execution_count": 247,
     "metadata": {},
     "output_type": "execute_result"
    }
   ],
   "source": [
    "adj = [[1], [2, 3], [0, 4], [4], [3, 5], [6], [4]]\n",
    "# SCCs: {0, 1, 2}, {3, 4, 5, 6}\n",
    "number_of_strongly_connected_components(adj)"
   ]
  },
  {
   "cell_type": "code",
   "execution_count": null,
   "id": "d97d16d3-cf62-4b80-9c96-7f2c4ee693a9",
   "metadata": {},
   "outputs": [],
   "source": []
  },
  {
   "cell_type": "code",
   "execution_count": 248,
   "id": "a24b025d-0a4c-49dd-a79b-8d47de0de46f",
   "metadata": {},
   "outputs": [
    {
     "ename": "AssertionError",
     "evalue": "Test case 4 failed",
     "output_type": "error",
     "traceback": [
      "\u001b[0;31m---------------------------------------------------------------------------\u001b[0m",
      "\u001b[0;31mAssertionError\u001b[0m                            Traceback (most recent call last)",
      "Cell \u001b[0;32mIn [248], line 33\u001b[0m\n\u001b[1;32m     29\u001b[0m     \u001b[38;5;28;01massert\u001b[39;00m number_of_strongly_connected_components(adj) \u001b[38;5;241m==\u001b[39m \u001b[38;5;241m2\u001b[39m, \u001b[38;5;124m\"\u001b[39m\u001b[38;5;124mTest case 7 failed\u001b[39m\u001b[38;5;124m\"\u001b[39m\n\u001b[1;32m     31\u001b[0m     \u001b[38;5;28mprint\u001b[39m(\u001b[38;5;124m\"\u001b[39m\u001b[38;5;124mAll test cases passed.\u001b[39m\u001b[38;5;124m\"\u001b[39m)\n\u001b[0;32m---> 33\u001b[0m \u001b[43mtest_number_of_strongly_connected_components\u001b[49m\u001b[43m(\u001b[49m\u001b[43m)\u001b[49m\n",
      "Cell \u001b[0;32mIn [248], line 16\u001b[0m, in \u001b[0;36mtest_number_of_strongly_connected_components\u001b[0;34m()\u001b[0m\n\u001b[1;32m     14\u001b[0m \u001b[38;5;66;03m# Test case 4: Multiple SCCs with varying sizes\u001b[39;00m\n\u001b[1;32m     15\u001b[0m adj \u001b[38;5;241m=\u001b[39m [[\u001b[38;5;241m1\u001b[39m, \u001b[38;5;241m2\u001b[39m], [\u001b[38;5;241m0\u001b[39m], [\u001b[38;5;241m1\u001b[39m], [\u001b[38;5;241m4\u001b[39m], [\u001b[38;5;241m5\u001b[39m], [\u001b[38;5;241m3\u001b[39m]]  \u001b[38;5;66;03m# Three SCCs: {0, 1, 2}, {3, 4, 5}\u001b[39;00m\n\u001b[0;32m---> 16\u001b[0m \u001b[38;5;28;01massert\u001b[39;00m number_of_strongly_connected_components(adj) \u001b[38;5;241m==\u001b[39m \u001b[38;5;241m3\u001b[39m, \u001b[38;5;124m\"\u001b[39m\u001b[38;5;124mTest case 4 failed\u001b[39m\u001b[38;5;124m\"\u001b[39m\n\u001b[1;32m     18\u001b[0m \u001b[38;5;66;03m# Test case 5: Single node, self-loop\u001b[39;00m\n\u001b[1;32m     19\u001b[0m adj \u001b[38;5;241m=\u001b[39m [[\u001b[38;5;241m0\u001b[39m]]  \u001b[38;5;66;03m# Single node with a self-loop\u001b[39;00m\n",
      "\u001b[0;31mAssertionError\u001b[0m: Test case 4 failed"
     ]
    }
   ],
   "source": [
    "def test_number_of_strongly_connected_components():\n",
    "    # Test case 1: Single SCC\n",
    "    adj = [[1], [2], [0]]  # One cycle, all nodes are mutually reachable\n",
    "    assert number_of_strongly_connected_components(adj) == 1, \"Test case 1 failed\"\n",
    "\n",
    "    # Test case 2: Two separate SCCs\n",
    "    adj = [[1], [0], [3], [2]]  # Two cycles: 0 <-> 1 and 2 <-> 3\n",
    "    assert number_of_strongly_connected_components(adj) == 2, \"Test case 2 failed\"\n",
    "\n",
    "    # Test case 3: Linear chain, each node its own SCC\n",
    "    adj = [[1], [2], [3], []]  # Each node can only reach itself\n",
    "    assert number_of_strongly_connected_components(adj) == 4, \"Test case 3 failed\"\n",
    "\n",
    "    # Test case 4: Multiple SCCs with varying sizes\n",
    "    adj = [[1, 2], [0], [1], [4], [5], [3]]  # Three SCCs: {0, 1, 2}, {3, 4, 5}\n",
    "    assert number_of_strongly_connected_components(adj) == 3, \"Test case 4 failed\"\n",
    "\n",
    "    # Test case 5: Single node, self-loop\n",
    "    adj = [[0]]  # Single node with a self-loop\n",
    "    assert number_of_strongly_connected_components(adj) == 1, \"Test case 5 failed\"\n",
    "\n",
    "    # Test case 6: Disconnected nodes, each node its own SCC\n",
    "    adj = [[], [], []]  # No edges, three separate SCCs\n",
    "    assert number_of_strongly_connected_components(adj) == 3, \"Test case 6 failed\"\n",
    "\n",
    "    # Test case 7: Complex graph with nested SCCs\n",
    "    adj = [[1], [2, 3], [0, 4], [4], [3, 5], [6], [4]]\n",
    "    # SCCs: {0, 1, 2}, {3, 4, 5, 6}\n",
    "    assert number_of_strongly_connected_components(adj) == 2, \"Test case 7 failed\"\n",
    "\n",
    "    print(\"All test cases passed.\")\n",
    "\n",
    "test_number_of_strongly_connected_components()\n"
   ]
  },
  {
   "cell_type": "code",
   "execution_count": null,
   "id": "f0c19ad8-2383-4d01-9536-1ce9a84354c5",
   "metadata": {},
   "outputs": [],
   "source": []
  }
 ],
 "metadata": {
  "kernelspec": {
   "display_name": "Python 3 (ipykernel)",
   "language": "python",
   "name": "python3"
  },
  "language_info": {
   "codemirror_mode": {
    "name": "ipython",
    "version": 3
   },
   "file_extension": ".py",
   "mimetype": "text/x-python",
   "name": "python",
   "nbconvert_exporter": "python",
   "pygments_lexer": "ipython3",
   "version": "3.10.6"
  }
 },
 "nbformat": 4,
 "nbformat_minor": 5
}
