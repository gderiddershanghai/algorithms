{
 "cells": [
  {
   "cell_type": "code",
   "execution_count": null,
   "id": "6f3f94cb-6b7c-47cc-a306-ce4ab92b2aa0",
   "metadata": {},
   "outputs": [],
   "source": [
    "def dfs(at):\n",
    "    # print('at', at)\n",
    "    if visited[at]: return \n",
    "    visited[at] = True\n",
    "    neighbors = adj[at]\n",
    "    for next in neighbors:\n",
    "        # print(next)\n",
    "        dfs(next)\n",
    "\n",
    "dfs(x)"
   ]
  },
  {
   "cell_type": "code",
   "execution_count": 177,
   "id": "fa53432d-2df1-4443-a8b2-52b812ca9f8d",
   "metadata": {},
   "outputs": [],
   "source": [
    "def acyclic(adj):\n",
    "    n = len(adj)\n",
    "    visited = [False] * n\n",
    "    recStack = [False] * n\n",
    "\n",
    "    def dfs(v):\n",
    "        visited[v] = True\n",
    "        recStack[v] = True\n",
    "\n",
    "        neighbors = adj[v]\n",
    "        for next in neighbors:\n",
    "            if not visited[next]:\n",
    "                if dfs(next):\n",
    "                    return True\n",
    "            elif recStack[next]:\n",
    "                return True\n",
    "        recStack[v] = False\n",
    "        return False\n",
    "\n",
    "    for v in range(n):\n",
    "        if dfs(v):\n",
    "            return 0\n",
    "    \n",
    "    return 1\n"
   ]
  },
  {
   "cell_type": "code",
   "execution_count": 177,
   "id": "65beeeee-f584-4677-9b40-a90737978416",
   "metadata": {},
   "outputs": [],
   "source": [
    "def acyclic(adj):\n",
    "    n = len(adj)\n",
    "    visited = [False] * n\n",
    "    recStack = [False] * n\n",
    "\n",
    "    def dfs(v):\n",
    "        visited[v] = True\n",
    "        recStack[v] = True\n",
    "\n",
    "        neighbors = adj[v]\n",
    "        for next in neighbors:\n",
    "            if not visited[next]:\n",
    "                if dfs(next):\n",
    "                    return True\n",
    "            elif recStack[next]:\n",
    "                return True\n",
    "        recStack[v] = False\n",
    "        return False\n",
    "\n",
    "    for v in range(n):\n",
    "        if dfs(v):\n",
    "            return 0\n",
    "    \n",
    "    return 1\n"
   ]
  },
  {
   "cell_type": "code",
   "execution_count": null,
   "id": "5dfbc735-4dbf-413a-885a-9618500facb5",
   "metadata": {},
   "outputs": [],
   "source": []
  },
  {
   "cell_type": "code",
   "execution_count": 178,
   "id": "925b8a10-697a-4824-b2bb-a2a128fdbe37",
   "metadata": {},
   "outputs": [
    {
     "data": {
      "text/plain": [
       "1"
      ]
     },
     "execution_count": 178,
     "metadata": {},
     "output_type": "execute_result"
    }
   ],
   "source": [
    "# adj = [[1], [2], []]  # 0 -> 1 -> 2\n",
    "# adj = [[1], [2], [3, 4], [5], [1], [0]]  # multiple cycles involving all nodes\n",
    "# adj = [[1], [], [3], []]  # 0 -> 1 and 2 -> 3\n",
    "adj = [[1], [], [3], []]  # 0 -> 1 and 2 -> 3\n",
    "acyclic(adj) "
   ]
  },
  {
   "cell_type": "code",
   "execution_count": null,
   "id": "24d9cc2f-ffc7-4838-9a14-46a01255c5f2",
   "metadata": {},
   "outputs": [],
   "source": []
  },
  {
   "cell_type": "code",
   "execution_count": 179,
   "id": "079519d3-e405-4b41-96ae-4235175ab773",
   "metadata": {},
   "outputs": [
    {
     "name": "stdout",
     "output_type": "stream",
     "text": [
      "All test cases passed.\n"
     ]
    }
   ],
   "source": [
    "def test_acyclic():\n",
    "    # Test case 1: Simple acyclic graph (tree structure)\n",
    "    adj = [[1], [2], []]  # 0 -> 1 -> 2\n",
    "    assert acyclic(adj) == 1, \"Test case 1 failed: Expected 1, found 0\"\n",
    "\n",
    "    # Test case 2: Simple cyclic graph (single cycle)\n",
    "    adj = [[1], [2], [0]]  # 0 -> 1 -> 2 -> 0\n",
    "    assert acyclic(adj) == 0, \"Test case 2 failed: Expected 0, found 1\"\n",
    "\n",
    "    # Test case 3: Graph with a self-loop\n",
    "    adj = [[1], [2], [2]]  # 2 -> 2 (self-loop)\n",
    "    assert acyclic(adj) == 0, \"Test case 3 failed: Expected 0, found 1\"\n",
    "\n",
    "    # Test case 4: Disconnected acyclic graph\n",
    "    adj = [[1], [], [3], []]  # 0 -> 1 and 2 -> 3\n",
    "    assert acyclic(adj) == 1, \"Test case 4 failed: Expected 1, found 0\"\n",
    "\n",
    "    # Test case 5: Disconnected graph with a cycle\n",
    "    adj = [[1], [0], [3], [4], [2]]  # 0 -> 1 -> 0 and 2 -> 3 -> 4 -> 2\n",
    "    assert acyclic(adj) == 0, \"Test case 5 failed: Expected 0, found 1\"\n",
    "\n",
    "    # Test case 6: Large acyclic graph\n",
    "    adj = [[1, 2], [3], [4], [], []]  # 0 -> 1 -> 3 and 0 -> 2 -> 4\n",
    "    assert acyclic(adj) == 1, \"Test case 6 failed: Expected 1, found 0\"\n",
    "\n",
    "    # Test case 7: Large graph with multiple cycles\n",
    "    adj = [[1], [2], [3, 4], [5], [1], [0]]  # multiple cycles involving all nodes\n",
    "    assert acyclic(adj) == 0, \"Test case 7 failed: Expected 0, found 1\"\n",
    "\n",
    "    print(\"All test cases passed.\")\n",
    "\n",
    "test_acyclic()\n"
   ]
  },
  {
   "cell_type": "markdown",
   "id": "e12d7c70-341c-44a2-b997-9e71c95bd56a",
   "metadata": {},
   "source": [
    "## Topological Sort"
   ]
  },
  {
   "cell_type": "code",
   "execution_count": 218,
   "id": "468b67c8-4936-4439-9536-eb017a78f7fc",
   "metadata": {},
   "outputs": [],
   "source": [
    "def dfs(adj, used, order, x):\n",
    "    used[x] = True\n",
    "    for next in adj[x]:\n",
    "        if not used[next]:\n",
    "            dfs(adj, used, order, next)\n",
    "    order.append(x)\n",
    "\n",
    "def toposort(adj):\n",
    "    n = len(adj)\n",
    "    used = [False] * n\n",
    "    order = []\n",
    "    for v in range(n):\n",
    "        if not used[v]:\n",
    "            dfs(adj, used, order, v)\n",
    "    order.reverse()\n",
    "    return order"
   ]
  },
  {
   "cell_type": "code",
   "execution_count": 219,
   "id": "9bf61b5c-d088-4116-99cc-c69ceea6136a",
   "metadata": {},
   "outputs": [
    {
     "data": {
      "text/plain": [
       "[0, 1, 2, 3, 4]"
      ]
     },
     "execution_count": 219,
     "metadata": {},
     "output_type": "execute_result"
    }
   ],
   "source": [
    "adj = [[1], [2], [3], [4], []]\n",
    "toposort(adj)"
   ]
  },
  {
   "cell_type": "code",
   "execution_count": 220,
   "id": "fa8f4561-a92c-41d6-bf02-ed973261c339",
   "metadata": {},
   "outputs": [
    {
     "ename": "AssertionError",
     "evalue": "Test case 5 failed: Expected empty result due to cycle",
     "output_type": "error",
     "traceback": [
      "\u001b[0;31m---------------------------------------------------------------------------\u001b[0m",
      "\u001b[0;31mAssertionError\u001b[0m                            Traceback (most recent call last)",
      "Cell \u001b[0;32mIn [220], line 43\u001b[0m\n\u001b[1;32m     39\u001b[0m     \u001b[38;5;28;01massert\u001b[39;00m toposort(adj) \u001b[38;5;241m==\u001b[39m expected_output, \u001b[38;5;124m\"\u001b[39m\u001b[38;5;124mTest case 7 failed\u001b[39m\u001b[38;5;124m\"\u001b[39m\n\u001b[1;32m     41\u001b[0m     \u001b[38;5;28mprint\u001b[39m(\u001b[38;5;124m\"\u001b[39m\u001b[38;5;124mAll test cases passed.\u001b[39m\u001b[38;5;124m\"\u001b[39m)\n\u001b[0;32m---> 43\u001b[0m \u001b[43mtest_toposort\u001b[49m\u001b[43m(\u001b[49m\u001b[43m)\u001b[49m\n",
      "Cell \u001b[0;32mIn [220], line 29\u001b[0m, in \u001b[0;36mtest_toposort\u001b[0;34m()\u001b[0m\n\u001b[1;32m     26\u001b[0m adj \u001b[38;5;241m=\u001b[39m [[\u001b[38;5;241m0\u001b[39m], [\u001b[38;5;241m2\u001b[39m], [\u001b[38;5;241m1\u001b[39m]]\n\u001b[1;32m     27\u001b[0m \u001b[38;5;66;03m# Topological sort should not be possible for a graph with cycles\u001b[39;00m\n\u001b[1;32m     28\u001b[0m \u001b[38;5;66;03m# The function could return an empty list or partial ordering in such cases\u001b[39;00m\n\u001b[0;32m---> 29\u001b[0m \u001b[38;5;28;01massert\u001b[39;00m toposort(adj) \u001b[38;5;241m==\u001b[39m [], \u001b[38;5;124m\"\u001b[39m\u001b[38;5;124mTest case 5 failed: Expected empty result due to cycle\u001b[39m\u001b[38;5;124m\"\u001b[39m\n\u001b[1;32m     31\u001b[0m \u001b[38;5;66;03m# Test case 6: More complex DAG\u001b[39;00m\n\u001b[1;32m     32\u001b[0m adj \u001b[38;5;241m=\u001b[39m [[\u001b[38;5;241m1\u001b[39m, \u001b[38;5;241m2\u001b[39m], [\u001b[38;5;241m2\u001b[39m], [\u001b[38;5;241m3\u001b[39m], []]\n",
      "\u001b[0;31mAssertionError\u001b[0m: Test case 5 failed: Expected empty result due to cycle"
     ]
    }
   ],
   "source": [
    "def test_toposort():\n",
    "    # Test case 1: Simple DAG\n",
    "    adj = [[1, 2], [3], [3], []]\n",
    "    expected_output = [0, 2, 1, 3]  # or [0, 1, 2, 3]\n",
    "    assert toposort(adj) in [expected_output, expected_output[::-1]], \\\n",
    "        \"Test case 1 failed\"\n",
    "\n",
    "    # Test case 2: Another simple DAG\n",
    "    adj = [[], [0], [1], [2]]\n",
    "    expected_output = [3, 2, 1, 0]  # or any other valid topological order\n",
    "    assert toposort(adj) in [expected_output, expected_output[::-1]], \\\n",
    "        \"Test case 2 failed\"\n",
    "\n",
    "    # Test case 3: Single node graph\n",
    "    adj = [[]]\n",
    "    expected_output = [0]\n",
    "    assert toposort(adj) == expected_output, \"Test case 3 failed\"\n",
    "\n",
    "    # Test case 4: Two disconnected nodes\n",
    "    adj = [[], []]\n",
    "    expected_output = [0, 1]  # or [1, 0]\n",
    "    assert toposort(adj) in [expected_output, expected_output[::-1]], \\\n",
    "        \"Test case 4 failed\"\n",
    "\n",
    "    # Test case 5: Graph with a self-loop (not a DAG)\n",
    "    adj = [[0], [2], [1]]\n",
    "    # Topological sort should not be possible for a graph with cycles\n",
    "    # The function could return an empty list or partial ordering in such cases\n",
    "    assert toposort(adj) == [], \"Test case 5 failed: Expected empty result due to cycle\"\n",
    "\n",
    "    # Test case 6: More complex DAG\n",
    "    adj = [[1, 2], [2], [3], []]\n",
    "    expected_output = [0, 1, 2, 3]\n",
    "    assert toposort(adj) == expected_output, \"Test case 6 failed\"\n",
    "\n",
    "    # Test case 7: DAG with multiple valid topological orders\n",
    "    adj = [[1], [2], [3], [4], []]\n",
    "    expected_output = [0, 1, 2, 3, 4]  # or any other valid topological order\n",
    "    assert toposort(adj) == expected_output, \"Test case 7 failed\"\n",
    "\n",
    "    print(\"All test cases passed.\")\n",
    "\n",
    "test_toposort()\n"
   ]
  },
  {
   "cell_type": "markdown",
   "id": "fe88c98b-88ad-45d0-8f58-a72df1fa4f7b",
   "metadata": {},
   "source": [
    "## strongly connected components"
   ]
  },
  {
   "cell_type": "code",
   "execution_count": 243,
   "id": "081cb3bc-b980-416c-92bb-7778edce0382",
   "metadata": {},
   "outputs": [
    {
     "data": {
      "text/plain": [
       "{1, 2}"
      ]
     },
     "execution_count": 243,
     "metadata": {},
     "output_type": "execute_result"
    }
   ],
   "source": [
    "set([1,2,2])"
   ]
  },
  {
   "cell_type": "code",
   "execution_count": 236,
   "id": "322571d8-01ff-444d-ae4a-13677bdd1b1c",
   "metadata": {},
   "outputs": [],
   "source": [
    "\n",
    "def number_of_strongly_connected_components(adj):\n",
    "    n = len(adj)\n",
    "    visited = [False] * n\n",
    "    post_order = []\n",
    "\n",
    "    # Helper function for DFS\n",
    "    def dfs(v, graph, collect_post_order=False):\n",
    "        visited[v] = True\n",
    "        for neighbor in graph[v]:\n",
    "            if not visited[neighbor]:\n",
    "                dfs(neighbor, graph, collect_post_order)\n",
    "        if collect_post_order:\n",
    "            post_order.append(v)\n",
    "\n",
    "    # Reverse the graph\n",
    "    def reverse_graph(graph):\n",
    "        rev_graph = [[] for _ in range(len(graph))]\n",
    "        for v in range(len(graph)):\n",
    "            for neighbor in graph[v]:\n",
    "                rev_graph[neighbor].append(v)\n",
    "        return rev_graph\n",
    "\n",
    "    # Step 1: DFS on the reversed graph to get post order\n",
    "    rev_adj = reverse_graph(adj)\n",
    "    for i in range(n):\n",
    "        if not visited[i]:\n",
    "            dfs(i, rev_adj, collect_post_order=True)\n",
    "\n",
    "    # Reset visited for second pass\n",
    "    visited = [False] * n\n",
    "    sccs = []\n",
    "    # print(post_order)\n",
    "    while len(post_order)>0:\n",
    "        v = post_order.pop()\n",
    "        if not visited[v]:\n",
    "            component = []\n",
    "            tmp = [False] * n\n",
    "            dfs(v, adj, collect_post_order=False)\n",
    "            component = [i for i in range(n) if visited[i]]\n",
    "            sccs.append(component)\n",
    "            for node in component:\n",
    "                visited[node] = False  \n",
    "    return sccs"
   ]
  },
  {
   "cell_type": "code",
   "execution_count": 246,
   "id": "10d0696c-7abf-402b-a1a2-f8f04dc5b94f",
   "metadata": {},
   "outputs": [],
   "source": [
    "def number_of_strongly_connected_components(adj):\n",
    "    n = len(adj)\n",
    "    visited = [False] * n\n",
    "    post_order = []\n",
    "\n",
    "    # Helper function for DFS\n",
    "    def dfs(v, graph, collect_post_order=False):\n",
    "        visited[v] = True\n",
    "        for neighbor in graph[v]:\n",
    "            if not visited[neighbor]:\n",
    "                dfs(neighbor, graph, collect_post_order)\n",
    "        if collect_post_order:\n",
    "            post_order.append(v)\n",
    "\n",
    "    # Reverse the graph\n",
    "    def reverse_graph(graph):\n",
    "        rev_graph = [[] for _ in range(len(graph))]\n",
    "        for v in range(len(graph)):\n",
    "            for neighbor in graph[v]:\n",
    "                rev_graph[neighbor].append(v)\n",
    "        return rev_graph\n",
    "\n",
    "    # Step 1: DFS on the reversed graph to get post order\n",
    "    rev_adj = reverse_graph(adj)\n",
    "    for i in range(n):\n",
    "        if not visited[i]:\n",
    "            dfs(i, rev_adj, collect_post_order=True)\n",
    "\n",
    "    # Reset visited for second pass\n",
    "    visited = [False] * n\n",
    "    sccs = []\n",
    "\n",
    "    # Step 2: DFS on the original graph in decreasing order of post numbers\n",
    "    while post_order:\n",
    "        v = post_order.pop()\n",
    "        if not visited[v]:\n",
    "            component = []\n",
    "            dfs(v, adj)\n",
    "            component = [i for i in range(n) if visited[i]]\n",
    "            if component not in sccs:\n",
    "                sccs.append(component)\n",
    "            for node in component:\n",
    "                visited[node] = False  # Unmark nodes for future components\n",
    "\n",
    "    return len(sccs)\n",
    "\n"
   ]
  },
  {
   "cell_type": "code",
   "execution_count": null,
   "id": "0f550879-1d8f-4602-b9c7-f4399bc72b34",
   "metadata": {},
   "outputs": [],
   "source": []
  },
  {
   "cell_type": "code",
   "execution_count": 247,
   "id": "98cb29c6-12cc-4ea4-a764-c6209132d4cb",
   "metadata": {},
   "outputs": [
    {
     "data": {
      "text/plain": [
       "2"
      ]
     },
     "execution_count": 247,
     "metadata": {},
     "output_type": "execute_result"
    }
   ],
   "source": [
    "adj = [[1], [2, 3], [0, 4], [4], [3, 5], [6], [4]]\n",
    "# SCCs: {0, 1, 2}, {3, 4, 5, 6}\n",
    "number_of_strongly_connected_components(adj)"
   ]
  },
  {
   "cell_type": "code",
   "execution_count": null,
   "id": "d97d16d3-cf62-4b80-9c96-7f2c4ee693a9",
   "metadata": {},
   "outputs": [],
   "source": []
  },
  {
   "cell_type": "code",
   "execution_count": 248,
   "id": "a24b025d-0a4c-49dd-a79b-8d47de0de46f",
   "metadata": {},
   "outputs": [
    {
     "ename": "AssertionError",
     "evalue": "Test case 4 failed",
     "output_type": "error",
     "traceback": [
      "\u001b[0;31m---------------------------------------------------------------------------\u001b[0m",
      "\u001b[0;31mAssertionError\u001b[0m                            Traceback (most recent call last)",
      "Cell \u001b[0;32mIn [248], line 33\u001b[0m\n\u001b[1;32m     29\u001b[0m     \u001b[38;5;28;01massert\u001b[39;00m number_of_strongly_connected_components(adj) \u001b[38;5;241m==\u001b[39m \u001b[38;5;241m2\u001b[39m, \u001b[38;5;124m\"\u001b[39m\u001b[38;5;124mTest case 7 failed\u001b[39m\u001b[38;5;124m\"\u001b[39m\n\u001b[1;32m     31\u001b[0m     \u001b[38;5;28mprint\u001b[39m(\u001b[38;5;124m\"\u001b[39m\u001b[38;5;124mAll test cases passed.\u001b[39m\u001b[38;5;124m\"\u001b[39m)\n\u001b[0;32m---> 33\u001b[0m \u001b[43mtest_number_of_strongly_connected_components\u001b[49m\u001b[43m(\u001b[49m\u001b[43m)\u001b[49m\n",
      "Cell \u001b[0;32mIn [248], line 16\u001b[0m, in \u001b[0;36mtest_number_of_strongly_connected_components\u001b[0;34m()\u001b[0m\n\u001b[1;32m     14\u001b[0m \u001b[38;5;66;03m# Test case 4: Multiple SCCs with varying sizes\u001b[39;00m\n\u001b[1;32m     15\u001b[0m adj \u001b[38;5;241m=\u001b[39m [[\u001b[38;5;241m1\u001b[39m, \u001b[38;5;241m2\u001b[39m], [\u001b[38;5;241m0\u001b[39m], [\u001b[38;5;241m1\u001b[39m], [\u001b[38;5;241m4\u001b[39m], [\u001b[38;5;241m5\u001b[39m], [\u001b[38;5;241m3\u001b[39m]]  \u001b[38;5;66;03m# Three SCCs: {0, 1, 2}, {3, 4, 5}\u001b[39;00m\n\u001b[0;32m---> 16\u001b[0m \u001b[38;5;28;01massert\u001b[39;00m number_of_strongly_connected_components(adj) \u001b[38;5;241m==\u001b[39m \u001b[38;5;241m3\u001b[39m, \u001b[38;5;124m\"\u001b[39m\u001b[38;5;124mTest case 4 failed\u001b[39m\u001b[38;5;124m\"\u001b[39m\n\u001b[1;32m     18\u001b[0m \u001b[38;5;66;03m# Test case 5: Single node, self-loop\u001b[39;00m\n\u001b[1;32m     19\u001b[0m adj \u001b[38;5;241m=\u001b[39m [[\u001b[38;5;241m0\u001b[39m]]  \u001b[38;5;66;03m# Single node with a self-loop\u001b[39;00m\n",
      "\u001b[0;31mAssertionError\u001b[0m: Test case 4 failed"
     ]
    }
   ],
   "source": [
    "def test_number_of_strongly_connected_components():\n",
    "    # Test case 1: Single SCC\n",
    "    adj = [[1], [2], [0]]  # One cycle, all nodes are mutually reachable\n",
    "    assert number_of_strongly_connected_components(adj) == 1, \"Test case 1 failed\"\n",
    "\n",
    "    # Test case 2: Two separate SCCs\n",
    "    adj = [[1], [0], [3], [2]]  # Two cycles: 0 <-> 1 and 2 <-> 3\n",
    "    assert number_of_strongly_connected_components(adj) == 2, \"Test case 2 failed\"\n",
    "\n",
    "    # Test case 3: Linear chain, each node its own SCC\n",
    "    adj = [[1], [2], [3], []]  # Each node can only reach itself\n",
    "    assert number_of_strongly_connected_components(adj) == 4, \"Test case 3 failed\"\n",
    "\n",
    "    # Test case 4: Multiple SCCs with varying sizes\n",
    "    adj = [[1, 2], [0], [1], [4], [5], [3]]  # Three SCCs: {0, 1, 2}, {3, 4, 5}\n",
    "    assert number_of_strongly_connected_components(adj) == 3, \"Test case 4 failed\"\n",
    "\n",
    "    # Test case 5: Single node, self-loop\n",
    "    adj = [[0]]  # Single node with a self-loop\n",
    "    assert number_of_strongly_connected_components(adj) == 1, \"Test case 5 failed\"\n",
    "\n",
    "    # Test case 6: Disconnected nodes, each node its own SCC\n",
    "    adj = [[], [], []]  # No edges, three separate SCCs\n",
    "    assert number_of_strongly_connected_components(adj) == 3, \"Test case 6 failed\"\n",
    "\n",
    "    # Test case 7: Complex graph with nested SCCs\n",
    "    adj = [[1], [2, 3], [0, 4], [4], [3, 5], [6], [4]]\n",
    "    # SCCs: {0, 1, 2}, {3, 4, 5, 6}\n",
    "    assert number_of_strongly_connected_components(adj) == 2, \"Test case 7 failed\"\n",
    "\n",
    "    print(\"All test cases passed.\")\n",
    "\n",
    "test_number_of_strongly_connected_components()\n"
   ]
  },
  {
   "cell_type": "code",
   "execution_count": null,
   "id": "f0c19ad8-2383-4d01-9536-1ce9a84354c5",
   "metadata": {},
   "outputs": [],
   "source": []
  },
  {
   "cell_type": "markdown",
   "id": "59ea2f1d-57af-4cda-9ba2-97277914255c",
   "metadata": {},
   "source": [
    "## BFS"
   ]
  },
  {
   "cell_type": "code",
   "execution_count": 281,
   "id": "7a017183-40be-48b4-91a8-dc379b53ef21",
   "metadata": {},
   "outputs": [],
   "source": [
    "from collections import deque\n",
    "\n",
    "def distance(adj, s, t):\n",
    "    n = len(adj)\n",
    "    distances = [float('inf')] * (n + 1)\n",
    "    distances[s] = 0\n",
    "    Q = deque(s)\n",
    "\n",
    "    #starting the loop\n",
    "    while not Q.empty():\n",
    "        u = q.popleft()\n",
    "        neighbors = adj[u]\n",
    "        for v in neighbors:\n",
    "            if distances[v] == float('inf'):\n",
    "                Q.append(v)\n",
    "                distances[v] = distances[u]+1\n",
    "    \n",
    "    \n",
    "    return distances[t]"
   ]
  },
  {
   "cell_type": "code",
   "execution_count": 283,
   "id": "bde1c599-8bc0-46ce-953d-56b0a7f38890",
   "metadata": {},
   "outputs": [
    {
     "name": "stdout",
     "output_type": "stream",
     "text": [
      "Test 1 Passed!\n",
      "Test 2 Passed!\n",
      "Test 3 Passed!\n",
      "Test 4 Passed!\n"
     ]
    }
   ],
   "source": [
    "# Simple test cases\n",
    "def run_tests():\n",
    "    # Test case 1: Simple connected graph\n",
    "    adj1 = [\n",
    "        [1, 2],\n",
    "        [0, 3],\n",
    "        [0, 3],\n",
    "        [1, 2]\n",
    "    ]\n",
    "    print(\"Test 1 Passed!\" if distance(adj1, 0, 3) == 2 else \"Test 1 Failed!\")\n",
    "\n",
    "    # Test case 2: Graph with disconnected nodes\n",
    "    adj2 = [\n",
    "        [1],\n",
    "        [0],\n",
    "        [3],\n",
    "        [2]\n",
    "    ]\n",
    "    print(\"Test 2 Passed!\" if distance(adj2, 0, 3) == 100_000 else \"Test 2 Failed!\")\n",
    "\n",
    "    # Test case 3: Start and end nodes are the same\n",
    "    adj3 = [\n",
    "        [1, 2],\n",
    "        [0, 3],\n",
    "        [0, 3],\n",
    "        [1, 2]\n",
    "    ]\n",
    "    print(\"Test 3 Passed!\" if distance(adj3, 1, 1) == 0 else \"Test 3 Failed!\")\n",
    "\n",
    "    # Test case 4: Larger graph\n",
    "    adj4 = [\n",
    "        [1],\n",
    "        [0, 2],\n",
    "        [1, 3],\n",
    "        [2, 4],\n",
    "        [3]\n",
    "    ]\n",
    "    print(\"Test 4 Passed!\" if distance(adj4, 0, 4) == 4 else \"Test 4 Failed!\")\n",
    "\n",
    "run_tests()"
   ]
  },
  {
   "cell_type": "code",
   "execution_count": 279,
   "id": "4c7a76fc-6a50-423c-b34b-d593e44c2e8c",
   "metadata": {},
   "outputs": [
    {
     "data": {
      "text/plain": [
       "deque(['b'])"
      ]
     },
     "execution_count": 279,
     "metadata": {},
     "output_type": "execute_result"
    }
   ],
   "source": [
    "d"
   ]
  },
  {
   "cell_type": "code",
   "execution_count": 268,
   "id": "951a3217-8a61-452e-93d9-68392506ad7f",
   "metadata": {},
   "outputs": [
    {
     "data": {
      "text/plain": [
       "[100000000, 100000000, 100000000, 100000000, 100000000]"
      ]
     },
     "execution_count": 268,
     "metadata": {},
     "output_type": "execute_result"
    }
   ],
   "source": [
    "n=5\n",
    "distances = [100_000_000]*n\n",
    "distances "
   ]
  },
  {
   "cell_type": "code",
   "execution_count": 292,
   "id": "bede24a0-d5a3-4585-a29b-f15b4f3a9d97",
   "metadata": {},
   "outputs": [],
   "source": [
    "import sys\n",
    "import queue\n",
    "\n",
    "def bipartite(adj):\n",
    "    n = len(adj)\n",
    "    colors = [None]*n\n",
    "    colors[0] = 'red'\n",
    "\n",
    "    for u in range(n):\n",
    "        neighbors = adj[u]\n",
    "        for v in neighbors:\n",
    "            if colors[v] == None:\n",
    "                if colors[u] == 'red':\n",
    "                    colors[v] = 'blue'\n",
    "                else:\n",
    "                    colors[v] = 'red'\n",
    "    for u in range(n):\n",
    "        neighbors = adj[u]\n",
    "        for v in neighbors:\n",
    "            if colors[u] == colors[v]: return False\n",
    "        \n",
    "    \n",
    "    return True"
   ]
  },
  {
   "cell_type": "code",
   "execution_count": 293,
   "id": "336d96c2-3753-4308-bbe1-9934db4c4523",
   "metadata": {},
   "outputs": [
    {
     "name": "stdout",
     "output_type": "stream",
     "text": [
      "Test 1 Passed!\n",
      "Test 2 Passed!\n",
      "Test 3 Passed!\n",
      "Test 4 Passed!\n",
      "Test 5 Passed!\n"
     ]
    }
   ],
   "source": [
    "def run_bipartite_tests():\n",
    "    # Test case 1: Simple bipartite graph\n",
    "    adj1 = [\n",
    "        [1, 3],\n",
    "        [0, 2],\n",
    "        [1, 3],\n",
    "        [0, 2]\n",
    "    ]\n",
    "    print(\"Test 1 Passed!\" if bipartite(adj1) else \"Test 1 Failed!\")\n",
    "\n",
    "    # Test case 2: Non-bipartite graph (odd cycle)\n",
    "    adj2 = [\n",
    "        [1, 2],\n",
    "        [0, 2],\n",
    "        [0, 1]\n",
    "    ]\n",
    "    print(\"Test 2 Passed!\" if not bipartite(adj2) else \"Test 2 Failed!\")\n",
    "\n",
    "    # Test case 3: Bipartite graph (even cycle)\n",
    "    adj3 = [\n",
    "        [1, 3],\n",
    "        [0, 2, 4],\n",
    "        [1, 3],\n",
    "        [0, 2, 4],\n",
    "        [1, 3]\n",
    "    ]\n",
    "    print(\"Test 3 Passed!\" if bipartite(adj3) else \"Test 3 Failed!\")\n",
    "\n",
    "    # Test case 4: Disconnected bipartite graph\n",
    "    adj4 = [\n",
    "        [1],\n",
    "        [0],\n",
    "        [3],\n",
    "        [2]\n",
    "    ]\n",
    "    print(\"Test 4 Passed!\" if bipartite(adj4) else \"Test 4 Failed!\")\n",
    "\n",
    "    # Test case 5: Single vertex graph (trivially bipartite)\n",
    "    adj5 = [\n",
    "        []\n",
    "    ]\n",
    "    print(\"Test 5 Passed!\" if bipartite(adj5) else \"Test 5 Failed!\")\n",
    "\n",
    "run_bipartite_tests()\n"
   ]
  },
  {
   "cell_type": "code",
   "execution_count": null,
   "id": "a046ed40-d069-410d-9232-6e81496d8e4e",
   "metadata": {},
   "outputs": [],
   "source": []
  },
  {
   "cell_type": "code",
   "execution_count": 298,
   "id": "32740e7f-fde2-4d59-8f29-946f03403d9a",
   "metadata": {},
   "outputs": [
    {
     "data": {
      "image/png": "[encoded data removed]",
      "text/plain": [
       "<Figure size 800x600 with 1 Axes>"
      ]
     },
     "metadata": {},
     "output_type": "display_data"
    },
    {
     "name": "stdout",
     "output_type": "stream",
     "text": [
      "Iteration 1:\n"
     ]
    },
    {
     "ename": "AttributeError",
     "evalue": "module 'networkx.utils' has no attribute 'edge_data'",
     "output_type": "error",
     "traceback": [
      "\u001b[0;31m---------------------------------------------------------------------------\u001b[0m",
      "\u001b[0;31mAttributeError\u001b[0m                            Traceback (most recent call last)",
      "Cell \u001b[0;32mIn [298], line 66\u001b[0m\n\u001b[1;32m     64\u001b[0m \u001b[38;5;28;01mfor\u001b[39;00m i, flow_dict \u001b[38;5;129;01min\u001b[39;00m \u001b[38;5;28menumerate\u001b[39m(iterations, start\u001b[38;5;241m=\u001b[39m\u001b[38;5;241m1\u001b[39m):\n\u001b[1;32m     65\u001b[0m     \u001b[38;5;28mprint\u001b[39m(\u001b[38;5;124mf\u001b[39m\u001b[38;5;124m\"\u001b[39m\u001b[38;5;124mIteration \u001b[39m\u001b[38;5;132;01m{\u001b[39;00mi\u001b[38;5;132;01m}\u001b[39;00m\u001b[38;5;124m:\u001b[39m\u001b[38;5;124m\"\u001b[39m)\n\u001b[0;32m---> 66\u001b[0m     \u001b[43mdraw_graph\u001b[49m\u001b[43m(\u001b[49m\u001b[43mG\u001b[49m\u001b[43m,\u001b[49m\u001b[43m \u001b[49m\u001b[43mpos\u001b[49m\u001b[43m,\u001b[49m\u001b[43m \u001b[49m\u001b[43mflow_dict\u001b[49m\u001b[43m)\u001b[49m\n",
      "Cell \u001b[0;32mIn [298], line 25\u001b[0m, in \u001b[0;36mdraw_graph\u001b[0;34m(G, pos, flow_dict)\u001b[0m\n\u001b[1;32m     23\u001b[0m nx\u001b[38;5;241m.\u001b[39mdraw_networkx_edge_labels(G, pos, edge_labels\u001b[38;5;241m=\u001b[39mlabels)\n\u001b[1;32m     24\u001b[0m \u001b[38;5;28;01mif\u001b[39;00m flow_dict:\n\u001b[0;32m---> 25\u001b[0m     flow_labels \u001b[38;5;241m=\u001b[39m { (u, v): \u001b[38;5;124mf\u001b[39m\u001b[38;5;124m\"\u001b[39m\u001b[38;5;132;01m{\u001b[39;00mflow\u001b[38;5;132;01m}\u001b[39;00m\u001b[38;5;124m/\u001b[39m\u001b[38;5;132;01m{\u001b[39;00mG[u][v][\u001b[38;5;124m'\u001b[39m\u001b[38;5;124mcapacity\u001b[39m\u001b[38;5;124m'\u001b[39m]\u001b[38;5;132;01m}\u001b[39;00m\u001b[38;5;124m\"\u001b[39m \u001b[38;5;28;01mfor\u001b[39;00m u, v, flow \u001b[38;5;129;01min\u001b[39;00m \u001b[43mnx\u001b[49m\u001b[38;5;241;43m.\u001b[39;49m\u001b[43mutils\u001b[49m\u001b[38;5;241;43m.\u001b[39;49m\u001b[43medge_data\u001b[49m(flow_dict) }\n\u001b[1;32m     26\u001b[0m     nx\u001b[38;5;241m.\u001b[39mdraw_networkx_edge_labels(G, pos, edge_labels\u001b[38;5;241m=\u001b[39mflow_labels, label_pos\u001b[38;5;241m=\u001b[39m\u001b[38;5;241m0.3\u001b[39m, font_color\u001b[38;5;241m=\u001b[39m\u001b[38;5;124m'\u001b[39m\u001b[38;5;124mred\u001b[39m\u001b[38;5;124m'\u001b[39m)\n\u001b[1;32m     27\u001b[0m plt\u001b[38;5;241m.\u001b[39mshow()\n",
      "\u001b[0;31mAttributeError\u001b[0m: module 'networkx.utils' has no attribute 'edge_data'"
     ]
    },
    {
     "data": {
      "image/png": "[encoded data removed]",
      "text/plain": [
       "<Figure size 800x600 with 1 Axes>"
      ]
     },
     "metadata": {},
     "output_type": "display_data"
    }
   ],
   "source": [
    "import networkx as nx\n",
    "import matplotlib.pyplot as plt\n",
    "\n",
    "# Create a directed graph\n",
    "G = nx.DiGraph()\n",
    "\n",
    "# Add edges with capacities\n",
    "edges = [\n",
    "    ('A', '1', 6),\n",
    "    ('A', '2', 4),\n",
    "    ('1', '3', 1),\n",
    "    ('2', '4', 6),\n",
    "    ('3', 'B', 4),\n",
    "    ('4', 'B', 4)\n",
    "]\n",
    "\n",
    "G.add_weighted_edges_from(edges, weight='capacity')\n",
    "\n",
    "def draw_graph(G, pos, flow_dict=None):\n",
    "    plt.figure(figsize=(8, 6))\n",
    "    nx.draw(G, pos, with_labels=True, node_size=700, node_color='lightblue', font_size=10, font_weight='bold', edge_color='gray')\n",
    "    labels = nx.get_edge_attributes(G, 'capacity')\n",
    "    nx.draw_networkx_edge_labels(G, pos, edge_labels=labels)\n",
    "    if flow_dict:\n",
    "        flow_labels = { (u, v): f\"{flow}/{G[u][v]['capacity']}\" for u, v, flow in nx.utils.edge_data(flow_dict) }\n",
    "        nx.draw_networkx_edge_labels(G, pos, edge_labels=flow_labels, label_pos=0.3, font_color='red')\n",
    "    plt.show()\n",
    "\n",
    "# Position the nodes in the graph\n",
    "pos = nx.spring_layout(G)\n",
    "\n",
    "# Draw the initial graph\n",
    "draw_graph(G, pos)\n",
    "\n",
    "# Apply Ford-Fulkerson algorithm and show iterations\n",
    "flow_value, flow_dict = nx.maximum_flow(G, 'A', 'B')\n",
    "\n",
    "# Convert the flow dictionary to show each iteration\n",
    "iterations = []\n",
    "\n",
    "# First iteration\n",
    "flow_dict_1 = {\n",
    "    'A': {'1': 1, '2': 0},\n",
    "    '1': {'3': 1},\n",
    "    '2': {'4': 0},\n",
    "    '3': {'B': 1},\n",
    "    '4': {'B': 0},\n",
    "    'B': {}\n",
    "}\n",
    "iterations.append(flow_dict_1)\n",
    "\n",
    "# Second iteration\n",
    "flow_dict_2 = {\n",
    "    'A': {'1': 1, '2': 4},\n",
    "    '1': {'3': 1},\n",
    "    '2': {'4': 4},\n",
    "    '3': {'B': 1},\n",
    "    '4': {'B': 4},\n",
    "    'B': {}\n",
    "}\n",
    "iterations.append(flow_dict_2)\n",
    "\n",
    "# Draw each iteration\n",
    "for i, flow_dict in enumerate(iterations, start=1):\n",
    "    print(f\"Iteration {i}:\")\n",
    "    draw_graph(G, pos, flow_dict)\n"
   ]
  },
  {
   "cell_type": "markdown",
   "id": "5ce61b07-a3e9-4f40-a344-d95dea7b9a53",
   "metadata": {},
   "source": [
    "## Stable Matching"
   ]
  },
  {
   "cell_type": "markdown",
   "id": "88456473-2df7-4516-9967-860c572d134f",
   "metadata": {},
   "source": [
    "We'll implement the Stable Matching algorithm from the previous lesson. \r\n",
    "\r\n",
    "Recall the pseudocode of the algorithm:\r\n",
    "\r\n",
    "While there exists an unmarried man:\r\n",
    "\r\n",
    "1. Pick an arbitrary unmarried man M\r\n",
    "\r\n",
    "2. Choose the top woman W from his list to whom he hasn't proposed yet\r\n",
    "\r\n",
    "3. If W is free or prefers M over her current husband, then marry M and W\r\n",
    "\r\n",
    "We'll write a Python function stableMatching(n, menPreferences, womenPreferences) that gets the number n of women and men, preferences of all women and men, and outputs a stable matching.\r\n",
    "\r\n",
    "For simplicity we'll be assuming that the names of n men and n women are 0, 1, ..., n-1.\r\n",
    "\r\n",
    "Then the menPreferences is a two-dimensional array (a list of lists in Python) of dimensions n by n, where menPreferences[i] contains the list of all women sorted according to their rankings by the man number i. As an example, the man number i likes the best the woman number menPreferences[i][0], and likes the least the woman number menPreferences[i][n-1]. Similarly, the array womenPreferences contains rankings of men by women. For example, womenPreferences[i][0] is the number of man who is the top choice for woman i.\r\n",
    "\r\n",
    "Our function will return a list of length n, where ith element is the number of woman chosen for the man number i.\r\n",
    "\r\n",
    "For convenience we can store\r\n",
    "\r\n",
    "1. unmarriedMen -- the list of currently unmarried men;\r\n",
    "\r\n",
    "2. manSpouse -- the list of current spouses of all man;\r\n",
    "\r\n",
    "3. womanSpouse -- the list of current spouses of all woman;\r\n",
    "\r\n",
    "4. nextManChoice -- contains the number of proposals each man has made."
   ]
  },
  {
   "cell_type": "code",
   "execution_count": 311,
   "id": "143a663f-aec6-496a-9c51-9152fcb398ff",
   "metadata": {},
   "outputs": [],
   "source": [
    "def stableMatching(n, menPreferences, womenPreferences):\n",
    "# Do not change the function definition line.\n",
    "\n",
    "    # Initially, all n men are unmarried\n",
    "    unmarriedMen = list(range(n))\n",
    "    # None of the men has a spouse yet, we denote this by the value None\n",
    "    manSpouse = [None] * n                      \n",
    "    # None of the women has a spouse yet, we denote this by the value None\n",
    "    womanSpouse = [None] * n                      \n",
    "    # Each man made 0 proposals, which means that \n",
    "    # his next proposal will be to the woman number 0 in his list\n",
    "    nextManChoice = [0] * n                       \n",
    "    \n",
    "    # While there exists at least one unmarried man:\n",
    "    while unmarriedMen:\n",
    "        # Pick an arbitrary unmarried man\n",
    "        he = unmarriedMen[0]                      \n",
    "        # Store his ranking in this variable for convenience\n",
    "        hisPreferences = menPreferences[he]       \n",
    "        # Find a woman to propose to\n",
    "        she = hisPreferences[nextManChoice[he]] \n",
    "        # Store her ranking in this variable for convenience\n",
    "        herPreferences = womenPreferences[she]\n",
    "        # Find the present husband of the selected woman (it might be None)\n",
    "        currentHusband = womanSpouse[she]         \n",
    "        \n",
    "        # Write your code here\n",
    "\n",
    "        # case 1 - The woman is unmarried\n",
    "        if currentHusband is None:\n",
    "            manSpouse[he] = she\n",
    "            unmarriedMen.remove(he)\n",
    "\n",
    "        # case 2 - the woman is married\n",
    "        else:\n",
    "            current_husband_rank = womenPreferences[she].index(currentHusband)\n",
    "            candidate_husband_rank = womenPreferences[she].index(he)\n",
    "\n",
    "            # case 2a - woman prefers new man to currentHusband\n",
    "            if candidate_husband_rank < current_husband_rank:\n",
    "                # they get married\n",
    "                manSpouse[he] = she # update the list of \n",
    "                womanSpouse[she] = he # update woman's husband\n",
    "                # remove man from unmarriedMen \n",
    "                unmarriedMen.remove(he)\n",
    "                # add current_husband\n",
    "                unmarriedMen.append(currentHusband)\n",
    "                # nextManChoice[he]+=1\n",
    "                nextManChoice[currentHusband]+=1\n",
    "            else:\n",
    "                #remove woman who rejected him from list\n",
    "                nextManChoice[he]+=1\n",
    "\n",
    "   \n",
    "                \n",
    "    \n",
    "            \n",
    "            \n",
    "            \n",
    "        \n",
    "        # Now \"he\" proposes to \"she\". \n",
    "        # Decide whether \"she\" accepts, and update the following fields\n",
    "        # 1. manSpouse\n",
    "        # 2. womanSpouse\n",
    "        # 3. unmarriedMen\n",
    "        # 4. nextManChoice\n",
    "            \n",
    "    # Note that if you don't update the unmarriedMen list, \n",
    "    # then this algorithm will run forever. \n",
    "    # Thus, if you submit this default implementation,\n",
    "    # you may receive \"SUBMIT ERROR\".\n",
    "    return manSpouse\n",
    "    \n",
    "# You might want to test your implementation on the following two tests:\n",
    "# assert(stableMatching(1, [ [0] ], [ [0] ]) == [0])\n",
    "# assert(stableMatching(2, [ [0,1], [1,0] ], [ [0,1], [1,0] ]) == [0, 1])"
   ]
  },
  {
   "cell_type": "code",
   "execution_count": 299,
   "id": "15df4e79-4566-4a2c-8c12-b90aa6fad716",
   "metadata": {},
   "outputs": [],
   "source": [
    "pref = [[1,2,3,4,5],\n",
    "       [1,3,2,4,5],\n",
    "       [3,5,4,2,1],\n",
    "       [4,2,3,1,5],\n",
    "       [1,2,3,4,5]]"
   ]
  },
  {
   "cell_type": "code",
   "execution_count": 302,
   "id": "23158d49-9f8b-49ff-a463-9628efda5877",
   "metadata": {},
   "outputs": [
    {
     "data": {
      "text/plain": [
       "3"
      ]
     },
     "execution_count": 302,
     "metadata": {},
     "output_type": "execute_result"
    }
   ],
   "source": [
    "pref[0].index(4)"
   ]
  },
  {
   "cell_type": "code",
   "execution_count": 313,
   "id": "e2103102-09ae-4001-b175-39661ea48181",
   "metadata": {},
   "outputs": [],
   "source": [
    "assert(stableMatching(1, [ [0] ], [ [0] ]) == [0])\n",
    "assert(stableMatching(2, [ [0,1], [1,0] ], [ [0,1], [1,0] ]) == [0, 1])"
   ]
  },
  {
   "cell_type": "code",
   "execution_count": 307,
   "id": "5e2ac618-b330-4a05-b6f7-c1a167f12bec",
   "metadata": {},
   "outputs": [],
   "source": [
    "l.remove(2)"
   ]
  },
  {
   "cell_type": "code",
   "execution_count": 308,
   "id": "43487fea-f4e0-4c2e-b249-4404c4202f40",
   "metadata": {},
   "outputs": [
    {
     "data": {
      "text/plain": [
       "[9, 8, 7, 6, 5, 4, 3, 1, 0]"
      ]
     },
     "execution_count": 308,
     "metadata": {},
     "output_type": "execute_result"
    }
   ],
   "source": [
    "l"
   ]
  }
 ],
 "metadata": {
  "kernelspec": {
   "display_name": "Python 3 (ipykernel)",
   "language": "python",
   "name": "python3"
  },
  "language_info": {
   "codemirror_mode": {
    "name": "ipython",
    "version": 3
   },
   "file_extension": ".py",
   "mimetype": "text/x-python",
   "name": "python",
   "nbconvert_exporter": "python",
   "pygments_lexer": "ipython3",
   "version": "3.10.6"
  }
 },
 "nbformat": 4,
 "nbformat_minor": 5
}
