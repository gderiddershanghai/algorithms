{
 "cells": [
  {
   "cell_type": "code",
   "execution_count": 95,
   "id": "6d755b2c-f403-4af8-a783-aa5668616842",
   "metadata": {},
   "outputs": [],
   "source": [
    "import networkx as nx\n",
    "\n",
    "# This function takes as input a graph g.\n",
    "# The graph is complete (i.e., each pair of distinct vertices is connected by an edge),\n",
    "# undirected (i.e., the edge from u to v has the same weight as the edge from v to u),\n",
    "# and has no self-loops (i.e., there are no edges from i to i).\n",
    "#\n",
    "# The function should return a 2-approximation of an optimal Hamiltonian cycle.\n",
    "\n",
    "def approximation(g):\n",
    "    # n is the number of vertices.\n",
    "    n = g.number_of_nodes()\n",
    "\n",
    "    # You might want to use the function \"nx.minimum_spanning_tree(g)\"\n",
    "    # which returns a Minimum Spanning Tree of the graph g\n",
    "    # Find a Minimum Spanning Tree (MST) of the graph\n",
    "    mst = nx.minimum_spanning_tree(g)\n",
    "\n",
    "    # Convert the MST to a directed graph with each edge duplicated in both directions\n",
    "    D = nx.DiGraph()\n",
    "    for i, j in mst.edges:\n",
    "        weight = g[i][j]['weight']\n",
    "        D.add_edge(i, j, weight=weight)\n",
    "        D.add_edge(j, i, weight=weight)\n",
    "\n",
    "    \n",
    "    eulerian_cycle = list(nx.eulerian_circuit(D))\n",
    "\n",
    "    # Remove duplicate vertices to form a Hamiltonian cycle\n",
    "    visited = set()\n",
    "    path = []\n",
    "    for i, j in eulerian_cycle:\n",
    "        if j not in visited:\n",
    "            visited.add(j)\n",
    "            path.append((i, j))\n",
    "\n",
    "    # Add the edge that closes the cycle\n",
    "    path.append((path[-1][1], path[0][0]))\n",
    "\n",
    "    total_weight = sum(g[i][j]['weight'] for i, j in path)\n",
    "\n",
    "\n",
    "\n",
    "    return total_weight"
   ]
  },
  {
   "cell_type": "code",
   "execution_count": null,
   "id": "3c4eb81c-521d-4eb0-870e-be57729141ce",
   "metadata": {},
   "outputs": [],
   "source": [
    "def approximation(g):\n",
    "    \"\"\"\n",
    "    Returns a 2-approximation of an optimal Hamiltonian cycle for the given graph.\n",
    "\n",
    "    Args:\n",
    "    g (networkx.Graph): A complete, undirected graph with no self-loops.\n",
    "\n",
    "    Returns:\n",
    "    float: The weight of the approximate Hamiltonian cycle.\n",
    "    \"\"\"\n",
    "    # Number of vertices in the graph\n",
    "    n = g.number_of_nodes()\n",
    "\n",
    "    # Find the Minimum Spanning Tree (MST) of the graph\n",
    "    MST = nx.minimum_spanning_tree(g)\n",
    "\n",
    "    # Get the vertices in depth-first search (DFS) preorder starting from vertex 0\n",
    "    dfs = list(nx.dfs_preorder_nodes(MST, 0))\n",
    "\n",
    "    # Calculate the total weight of the Hamiltonian cycle formed by traversing the DFS order\n",
    "    total_weight = 0\n",
    "    for i in range(1, len(dfs)):\n",
    "        total_weight += g[dfs[i-1]][dfs[i]]['weight']\n",
    "    total_weight += g[dfs[-1]][dfs[0]]['weight']\n",
    "\n",
    "    return total_weight"
   ]
  },
  {
   "cell_type": "code",
   "execution_count": 96,
   "id": "057d8feb-ddf8-434d-a125-0dceb4e95c02",
   "metadata": {},
   "outputs": [
    {
     "data": {
      "text/plain": [
       "10"
      ]
     },
     "execution_count": 96,
     "metadata": {},
     "output_type": "execute_result"
    }
   ],
   "source": [
    "g3 = nx.Graph()\n",
    "g3.add_edge(0, 1, weight=1)\n",
    "g3.add_edge(0, 2, weight=2)\n",
    "g3.add_edge(0, 3, weight=3)\n",
    "g3.add_edge(1, 2, weight=4)\n",
    "g3.add_edge(1, 3, weight=5)\n",
    "g3.add_edge(2, 3, weight=6)\n",
    "\n",
    "approximation(g3)"
   ]
  },
  {
   "cell_type": "code",
   "execution_count": 74,
   "id": "dc54670a-641a-46cf-b66f-1678ee4b0572",
   "metadata": {},
   "outputs": [
    {
     "name": "stdout",
     "output_type": "stream",
     "text": [
      "{1: {'weight': 2}, 3: {'weight': 2}, 2: {'weight': 1}}\n",
      "{2: {'weight': 2}, 0: {'weight': 2}}\n",
      "{0: {'weight': 2}, 2: {'weight': 2}}\n",
      "{1: {'weight': 2}, 3: {'weight': 2}, 0: {'weight': 1}}\n"
     ]
    }
   ],
   "source": [
    "for i,j in path:\n",
    "    print(g2[i])"
   ]
  },
  {
   "cell_type": "raw",
   "id": "904955c4-bdd1-4c7b-aeb0-767e07ed4faf",
   "metadata": {},
   "source": [
    "path = [(0, 3), (3, 1), (1, 2), (2, 0)]\n",
    "[g2[i][j]['weight'] for i,j in path]"
   ]
  },
  {
   "cell_type": "code",
   "execution_count": 66,
   "id": "12e7e1ae-8f0c-4e4a-a294-668ad037466b",
   "metadata": {},
   "outputs": [
    {
     "data": {
      "text/plain": [
       "2"
      ]
     },
     "execution_count": 66,
     "metadata": {},
     "output_type": "execute_result"
    }
   ],
   "source": [
    "i,j = 0,3\n",
    "g2[i][j]['weight']"
   ]
  },
  {
   "cell_type": "code",
   "execution_count": 21,
   "id": "357a4a14-bcf6-46a5-bbf3-20df513309cc",
   "metadata": {},
   "outputs": [
    {
     "name": "stdout",
     "output_type": "stream",
     "text": [
      "0 2\n",
      "0 1\n",
      "0 3\n"
     ]
    }
   ],
   "source": [
    "for i,j in mst.edges:\n",
    "    print(i,j)"
   ]
  },
  {
   "cell_type": "code",
   "execution_count": null,
   "id": "b71f095f-5b84-4051-b987-0a75636895aa",
   "metadata": {},
   "outputs": [],
   "source": [
    "import networkx as nx\n",
    "\n",
    "def test_approximation():\n",
    "    # Test case 1: Simple triangle graph\n",
    "    g1 = nx.Graph()\n",
    "    g1.add_edge(0, 1, weight=3)\n",
    "    g1.add_edge(1, 2, weight=4)\n",
    "    g1.add_edge(2, 0, weight=5)\n",
    "\n",
    "    assert approximation(g1) == 12, \"Test case 1 failed\"\n",
    "\n",
    "    # Test case 2: Square graph with a diagonal\n",
    "    g2 = nx.Graph()\n",
    "    g2.add_edge(0, 1, weight=2)\n",
    "    g2.add_edge(1, 2, weight=2)\n",
    "    g2.add_edge(2, 3, weight=2)\n",
    "    g2.add_edge(3, 0, weight=2)\n",
    "    g2.add_edge(0, 2, weight=1)\n",
    "\n",
    "    # The approximation should be close to the optimal cycle weight\n",
    "    # The MST is either 0-1-2-3 or 0-3-2-1 with weight 6\n",
    "    # The preorder traversal gives us 0-1-2-3 or 0-3-2-1\n",
    "    assert approximation(g2) == 6, \"Test case 2 failed\"\n",
    "\n",
    "    # Test case 3: Complete graph with 4 vertices\n",
    "    g3 = nx.Graph()\n",
    "    g3.add_edge(0, 1, weight=1)\n",
    "    g3.add_edge(0, 2, weight=2)\n",
    "    g3.add_edge(0, 3, weight=3)\n",
    "    g3.add_edge(1, 2, weight=4)\n",
    "    g3.add_edge(1, 3, weight=5)\n",
    "    g3.add_edge(2, 3, weight=6)\n",
    "\n",
    "    # The MST is 0-1, 0-2, 0-3 with weight 6\n",
    "    # The preorder traversal gives us 0-1-2-3\n",
    "    assert approximation(g3) == 10, \"Test case 3 failed\"\n",
    "\n",
    "    # Test case 4: Larger complete graph\n",
    "    g4 = nx.Graph()\n",
    "    num_nodes = 5\n",
    "    weights = [[0, 2, 9, 10, 1], [1, 0, 6, 4, 5], [15, 7, 0, 8, 3], [6, 3, 12, 0, 2], [8, 3, 5, 9, 0]]\n",
    "    for i in range(num_nodes):\n",
    "        for j in range(i + 1, num_nodes):\n",
    "            g4.add_edge(i, j, weight=weights[i][j])\n",
    "            g4.add_edge(j, i, weight=weights[j][i])\n",
    "\n",
    "    # The MST is more complex, but we expect the approximation to be close to the optimal\n",
    "    approx_weight = approximation(g4)\n",
    "    assert approx_weight == 21, f\"Test case 4 failed with {approx_weight}\"\n",
    "\n",
    "    print(\"All test cases passed!\")\n",
    "\n",
    "# Run the tests\n",
    "test_approximation()\n"
   ]
  }
 ],
 "metadata": {
  "kernelspec": {
   "display_name": "Python 3 (ipykernel)",
   "language": "python",
   "name": "python3"
  },
  "language_info": {
   "codemirror_mode": {
    "name": "ipython",
    "version": 3
   },
   "file_extension": ".py",
   "mimetype": "text/x-python",
   "name": "python",
   "nbconvert_exporter": "python",
   "pygments_lexer": "ipython3",
   "version": "3.10.6"
  }
 },
 "nbformat": 4,
 "nbformat_minor": 5
}
