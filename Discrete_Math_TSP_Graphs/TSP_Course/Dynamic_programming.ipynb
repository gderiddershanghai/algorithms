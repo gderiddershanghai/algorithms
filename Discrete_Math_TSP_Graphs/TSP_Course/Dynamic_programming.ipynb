{
 "cells": [
  {
   "cell_type": "code",
   "execution_count": 41,
   "id": "4cd4be34-8680-4432-8252-2598f9219672",
   "metadata": {},
   "outputs": [],
   "source": [
    "import networkx as nx\n",
    "from itertools import chain, combinations\n",
    "\n",
    "# This function takes as input a graph g.\n",
    "# The graph is complete (i.e., each pair of distinct vertices is connected by an edge),\n",
    "# undirected (i.e., the edge from u to v has the same weight as the edge from v to u),\n",
    "# and has no self-loops (i.e., there are no edges from i to i).\n",
    "#\n",
    "# The function should return an optimal weight of a Hamiltonian cycle.\n",
    "\n",
    "# This function returns all the subsets of the given set s in the increasing order of their sizes.\n",
    "def powerset(s):\n",
    "    return chain.from_iterable(combinations(s, r) for r in range(len(s) + 1))\n",
    "\n",
    "\n",
    "# This function finds an optimal Hamiltonian cycle using the dynamic programming approach.\n",
    "def dynamic_programming(g):\n",
    "    # n is the number of vertices.\n",
    "    n = g.number_of_nodes()\n",
    "\n",
    "    # The variable power now contains a tuple for each subset of the set {1, ..., n-1}.\n",
    "    power = powerset(range(1, n))\n",
    "    # The variable T is a dictionary, where the element T[s, i] for a set s and an integer i\n",
    "    # equals the shortest path going through each vertex from s exactly once,\n",
    "    # and ending at the vertex i.\n",
    "    # Note that i must be in s.\n",
    "    # Also, we will always assume that we start our cycle from the vertex number 0.\n",
    "    # Thus, for convenience, we will always exclude the element 0 from the set s.\n",
    "    T = {}\n",
    "    # For every non-zero vertex i, we say that T[ tuple with the element i only, i]\n",
    "    # equals the weight of the edge from 0 to i.\n",
    "    # Indeed, by the definition of T, this element must be equal to the weight of\n",
    "    # the shortest path which goes through the vertices 0 and i and ends at the vertex i.\n",
    "    for i in range(1, n):\n",
    "        # Syntactic note: In Python, we define a tuple of length 1 that contains the element i as (i,) *with comma*.\n",
    "        T[(i,), i] = g[0][i]['weight']\n",
    "\n",
    "    # For every subset s of [1,...,n-1]\n",
    "    for s in power:\n",
    "        # We have already initialized the elements of T indexed by sets of size 1, so we skip them.\n",
    "        if len(s) > 1:\n",
    "            # For every vertex i from s which we consider as the ending vertex of a path going through vertices from s.\n",
    "            for i in s:\n",
    "                # Define the tuple which contains all elements from s without *the last vertex* i.\n",
    "                t = tuple([x for x in s if x != i])\n",
    "                # Now we compute the optimal value of a cycle which visits all vertices from s and ends at the vertex i.\n",
    "                print(T)\n",
    "                print(t)\n",
    "                print(s)\n",
    "                print(i)\n",
    "                # print('>>>>', T[t,k])\n",
    "                T[s,i] = min(T[t,i], T[t,i] + g[i][k]['weight'])\n",
    "\n",
    "    #T[s, i] = min(T[t, k] + g[k][i]['weight'] for k in t)\n",
    "    \n",
    "    # WRITE YOUR CODE HERE\n",
    "\n",
    "    # Return the weight of on optimal cycle - this is the minimum of the following sum:\n",
    "    # weight of a path + the last edge to the vertex 0.\n",
    "    return min(T[tuple(range(1, n)), i] + g[i][0]['weight'] for i in range(1, n))\n",
    "\n"
   ]
  },
  {
   "cell_type": "code",
   "execution_count": 42,
   "id": "b3594bd9-a243-4deb-bce3-7b3183857a70",
   "metadata": {},
   "outputs": [
    {
     "name": "stdout",
     "output_type": "stream",
     "text": [
      "{((1,), 1): 3, ((2,), 2): 5}\n",
      "(2,)\n",
      "(1, 2)\n",
      "1\n"
     ]
    },
    {
     "ename": "KeyError",
     "evalue": "((1, 2), 1)",
     "output_type": "error",
     "traceback": [
      "\u001b[0;31m---------------------------------------------------------------------------\u001b[0m",
      "\u001b[0;31mKeyError\u001b[0m                                  Traceback (most recent call last)",
      "Cell \u001b[0;32mIn [42], line 5\u001b[0m\n\u001b[1;32m      3\u001b[0m g1\u001b[38;5;241m.\u001b[39madd_edge(\u001b[38;5;241m1\u001b[39m, \u001b[38;5;241m2\u001b[39m, weight\u001b[38;5;241m=\u001b[39m\u001b[38;5;241m4\u001b[39m)\n\u001b[1;32m      4\u001b[0m g1\u001b[38;5;241m.\u001b[39madd_edge(\u001b[38;5;241m2\u001b[39m, \u001b[38;5;241m0\u001b[39m, weight\u001b[38;5;241m=\u001b[39m\u001b[38;5;241m5\u001b[39m)\n\u001b[0;32m----> 5\u001b[0m \u001b[43mdynamic_programming\u001b[49m\u001b[43m(\u001b[49m\u001b[43mg1\u001b[49m\u001b[43m)\u001b[49m\n",
      "Cell \u001b[0;32mIn [41], line 52\u001b[0m, in \u001b[0;36mdynamic_programming\u001b[0;34m(g)\u001b[0m\n\u001b[1;32m     50\u001b[0m             \u001b[38;5;28mprint\u001b[39m(i)\n\u001b[1;32m     51\u001b[0m             \u001b[38;5;66;03m# print('>>>>', T[t,k])\u001b[39;00m\n\u001b[0;32m---> 52\u001b[0m             T[s,i] \u001b[38;5;241m=\u001b[39m \u001b[38;5;28mmin\u001b[39m(\u001b[43mT\u001b[49m\u001b[43m[\u001b[49m\u001b[43ms\u001b[49m\u001b[43m,\u001b[49m\u001b[43mi\u001b[49m\u001b[43m]\u001b[49m, T[t,i] \u001b[38;5;241m+\u001b[39m g[i][j][\u001b[38;5;124m'\u001b[39m\u001b[38;5;124mweight\u001b[39m\u001b[38;5;124m'\u001b[39m])\n\u001b[1;32m     54\u001b[0m             \u001b[38;5;66;03m# WRITE YOUR CODE HERE\u001b[39;00m\n\u001b[1;32m     55\u001b[0m \n\u001b[1;32m     56\u001b[0m \u001b[38;5;66;03m# Return the weight of on optimal cycle - this is the minimum of the following sum:\u001b[39;00m\n\u001b[1;32m     57\u001b[0m \u001b[38;5;66;03m# weight of a path + the last edge to the vertex 0.\u001b[39;00m\n\u001b[1;32m     58\u001b[0m \u001b[38;5;28;01mreturn\u001b[39;00m \u001b[38;5;28mmin\u001b[39m(T[\u001b[38;5;28mtuple\u001b[39m(\u001b[38;5;28mrange\u001b[39m(\u001b[38;5;241m1\u001b[39m, n)), i] \u001b[38;5;241m+\u001b[39m g[i][\u001b[38;5;241m0\u001b[39m][\u001b[38;5;124m'\u001b[39m\u001b[38;5;124mweight\u001b[39m\u001b[38;5;124m'\u001b[39m] \u001b[38;5;28;01mfor\u001b[39;00m i \u001b[38;5;129;01min\u001b[39;00m \u001b[38;5;28mrange\u001b[39m(\u001b[38;5;241m1\u001b[39m, n))\n",
      "\u001b[0;31mKeyError\u001b[0m: ((1, 2), 1)"
     ]
    }
   ],
   "source": [
    "g1 = nx.Graph()\n",
    "g1.add_edge(0, 1, weight=3)\n",
    "g1.add_edge(1, 2, weight=4)\n",
    "g1.add_edge(2, 0, weight=5)\n",
    "dynamic_programming(g1) "
   ]
  },
  {
   "cell_type": "code",
   "execution_count": 28,
   "id": "a4b06163-8522-419b-9eb4-8c7e5f15e24d",
   "metadata": {},
   "outputs": [
    {
     "name": "stdout",
     "output_type": "stream",
     "text": [
      "{((1,), 1): 3, ((2,), 2): 5}\n",
      "(2,)\n",
      "(1, 2)\n",
      "1\n"
     ]
    },
    {
     "ename": "KeyError",
     "evalue": "((1, 2), 1)",
     "output_type": "error",
     "traceback": [
      "\u001b[0;31m---------------------------------------------------------------------------\u001b[0m",
      "\u001b[0;31mKeyError\u001b[0m                                  Traceback (most recent call last)",
      "Cell \u001b[0;32mIn [28], line 47\u001b[0m\n\u001b[1;32m     44\u001b[0m     \u001b[38;5;28mprint\u001b[39m(\u001b[38;5;124m\"\u001b[39m\u001b[38;5;124mAll test cases passed!\u001b[39m\u001b[38;5;124m\"\u001b[39m)\n\u001b[1;32m     46\u001b[0m \u001b[38;5;66;03m# Run the tests\u001b[39;00m\n\u001b[0;32m---> 47\u001b[0m \u001b[43mtest_dynamic_programming\u001b[49m\u001b[43m(\u001b[49m\u001b[43m)\u001b[49m\n",
      "Cell \u001b[0;32mIn [28], line 10\u001b[0m, in \u001b[0;36mtest_dynamic_programming\u001b[0;34m()\u001b[0m\n\u001b[1;32m      7\u001b[0m g1\u001b[38;5;241m.\u001b[39madd_edge(\u001b[38;5;241m1\u001b[39m, \u001b[38;5;241m2\u001b[39m, weight\u001b[38;5;241m=\u001b[39m\u001b[38;5;241m4\u001b[39m)\n\u001b[1;32m      8\u001b[0m g1\u001b[38;5;241m.\u001b[39madd_edge(\u001b[38;5;241m2\u001b[39m, \u001b[38;5;241m0\u001b[39m, weight\u001b[38;5;241m=\u001b[39m\u001b[38;5;241m5\u001b[39m)\n\u001b[0;32m---> 10\u001b[0m \u001b[38;5;28;01massert\u001b[39;00m \u001b[43mdynamic_programming\u001b[49m\u001b[43m(\u001b[49m\u001b[43mg1\u001b[49m\u001b[43m)\u001b[49m \u001b[38;5;241m==\u001b[39m \u001b[38;5;241m12\u001b[39m, \u001b[38;5;124m\"\u001b[39m\u001b[38;5;124mTest case 1 failed\u001b[39m\u001b[38;5;124m\"\u001b[39m\n\u001b[1;32m     12\u001b[0m \u001b[38;5;66;03m# Test case 2: Square graph with a diagonal\u001b[39;00m\n\u001b[1;32m     13\u001b[0m g2 \u001b[38;5;241m=\u001b[39m nx\u001b[38;5;241m.\u001b[39mGraph()\n",
      "Cell \u001b[0;32mIn [26], line 51\u001b[0m, in \u001b[0;36mdynamic_programming\u001b[0;34m(g)\u001b[0m\n\u001b[1;32m     49\u001b[0m             \u001b[38;5;28mprint\u001b[39m(s)\n\u001b[1;32m     50\u001b[0m             \u001b[38;5;28mprint\u001b[39m(i)\n\u001b[0;32m---> 51\u001b[0m             \u001b[38;5;28mprint\u001b[39m(\u001b[38;5;124m'\u001b[39m\u001b[38;5;124m>>>>\u001b[39m\u001b[38;5;124m'\u001b[39m, \u001b[43mT\u001b[49m\u001b[43m[\u001b[49m\u001b[43ms\u001b[49m\u001b[43m,\u001b[49m\u001b[43mi\u001b[49m\u001b[43m]\u001b[49m)\n\u001b[1;32m     52\u001b[0m             T[i,t] \u001b[38;5;241m=\u001b[39m \u001b[38;5;28mmin\u001b[39m(T[i,t], T[j, t\u001b[38;5;241m^\u001b[39m (\u001b[38;5;241m1\u001b[39m\u001b[38;5;241m<<\u001b[39mi)] \u001b[38;5;241m+\u001b[39m g[i][j][\u001b[38;5;124m'\u001b[39m\u001b[38;5;124mweight\u001b[39m\u001b[38;5;124m'\u001b[39m])\n\u001b[1;32m     54\u001b[0m             \u001b[38;5;66;03m# WRITE YOUR CODE HERE\u001b[39;00m\n\u001b[1;32m     55\u001b[0m \n\u001b[1;32m     56\u001b[0m \u001b[38;5;66;03m# Return the weight of on optimal cycle - this is the minimum of the following sum:\u001b[39;00m\n\u001b[1;32m     57\u001b[0m \u001b[38;5;66;03m# weight of a path + the last edge to the vertex 0.\u001b[39;00m\n",
      "\u001b[0;31mKeyError\u001b[0m: ((1, 2), 1)"
     ]
    }
   ],
   "source": [
    "import networkx as nx\n",
    "\n",
    "def test_dynamic_programming():\n",
    "    # Test case 1: Simple triangle graph\n",
    "    g1 = nx.Graph()\n",
    "    g1.add_edge(0, 1, weight=3)\n",
    "    g1.add_edge(1, 2, weight=4)\n",
    "    g1.add_edge(2, 0, weight=5)\n",
    "\n",
    "    assert dynamic_programming(g1) == 12, \"Test case 1 failed\"\n",
    "\n",
    "    # Test case 2: Square graph with a diagonal\n",
    "    g2 = nx.Graph()\n",
    "    g2.add_edge(0, 1, weight=2)\n",
    "    g2.add_edge(1, 2, weight=2)\n",
    "    g2.add_edge(2, 3, weight=2)\n",
    "    g2.add_edge(3, 0, weight=2)\n",
    "    g2.add_edge(0, 2, weight=1)\n",
    "\n",
    "    assert dynamic_programming(g2) == 7, \"Test case 2 failed\"\n",
    "\n",
    "    # Test case 3: Complete graph with 4 vertices\n",
    "    g3 = nx.Graph()\n",
    "    g3.add_edge(0, 1, weight=1)\n",
    "    g3.add_edge(0, 2, weight=2)\n",
    "    g3.add_edge(0, 3, weight=3)\n",
    "    g3.add_edge(1, 2, weight=4)\n",
    "    g3.add_edge(1, 3, weight=5)\n",
    "    g3.add_edge(2, 3, weight=6)\n",
    "\n",
    "    assert dynamic_programming(g3) == 10, \"Test case 3 failed\"\n",
    "\n",
    "    # Test case 4: Larger complete graph\n",
    "    g4 = nx.Graph()\n",
    "    num_nodes = 5\n",
    "    weights = [[0, 2, 9, 10, 1], [1, 0, 6, 4, 5], [15, 7, 0, 8, 3], [6, 3, 12, 0, 2], [8, 3, 5, 9, 0]]\n",
    "    for i in range(num_nodes):\n",
    "        for j in range(i + 1, num_nodes):\n",
    "            g4.add_edge(i, j, weight=weights[i][j])\n",
    "            g4.add_edge(j, i, weight=weights[j][i])\n",
    "\n",
    "    assert dynamic_programming(g4) == 16, \"Test case 4 failed\"\n",
    "\n",
    "    print(\"All test cases passed!\")\n",
    "\n",
    "# Run the tests\n",
    "test_dynamic_programming()\n"
   ]
  },
  {
   "cell_type": "code",
   "execution_count": 24,
   "id": "58bb128c-75d1-43fc-b1d1-724ba1363a2b",
   "metadata": {},
   "outputs": [],
   "source": [
    "T = {((1,), 1): 3, ((2,), 2): 5}\n",
    "t = (2,)\n",
    "s = (1, 2)"
   ]
  },
  {
   "cell_type": "code",
   "execution_count": 25,
   "id": "02101812-f8a1-4e3b-a847-b08b7fd09621",
   "metadata": {},
   "outputs": [
    {
     "data": {
      "text/plain": [
       "dict_keys([((1,), 1), ((2,), 2)])"
      ]
     },
     "execution_count": 25,
     "metadata": {},
     "output_type": "execute_result"
    }
   ],
   "source": [
    "T.keys()"
   ]
  },
  {
   "cell_type": "code",
   "execution_count": 34,
   "id": "4fa25b79-af40-40d5-a16a-e03cf58e6023",
   "metadata": {},
   "outputs": [
    {
     "data": {
      "text/plain": [
       "5"
      ]
     },
     "execution_count": 34,
     "metadata": {},
     "output_type": "execute_result"
    }
   ],
   "source": [
    "T[t,2]"
   ]
  },
  {
   "cell_type": "code",
   "execution_count": null,
   "id": "5f85b03d-8370-45cb-8528-d427b77ac276",
   "metadata": {},
   "outputs": [],
   "source": []
  }
 ],
 "metadata": {
  "kernelspec": {
   "display_name": "Python 3 (ipykernel)",
   "language": "python",
   "name": "python3"
  },
  "language_info": {
   "codemirror_mode": {
    "name": "ipython",
    "version": 3
   },
   "file_extension": ".py",
   "mimetype": "text/x-python",
   "name": "python",
   "nbconvert_exporter": "python",
   "pygments_lexer": "ipython3",
   "version": "3.10.6"
  }
 },
 "nbformat": 4,
 "nbformat_minor": 5
}
