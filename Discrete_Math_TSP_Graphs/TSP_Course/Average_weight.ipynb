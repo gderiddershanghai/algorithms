{
 "cells": [
  {
   "cell_type": "code",
   "execution_count": 2,
   "id": "3a093059-e531-4b55-8087-d92be02b1a28",
   "metadata": {},
   "outputs": [
    {
     "name": "stdout",
     "output_type": "stream",
     "text": [
      "424.1000397032701\n"
     ]
    }
   ],
   "source": [
    "import networkx as nx\n",
    "\n",
    "# This function takes as input a graph g.\n",
    "# The graph is complete (i.e., each pair of distinct vertices is connected by an edge),\n",
    "# undirected (i.e., the edge from u to v has the same weight as the edge from v to u),\n",
    "# and has no self-loops (i.e., there are no edges from i to i).\n",
    "#\n",
    "# The function should return the average weight of a Hamiltonian cycle.\n",
    "# (Don't forget to add up the last edge connecting the last vertex of the cycle with the first one.)\n",
    "\n",
    "\n",
    "# def average(g):\n",
    "#     # n is the number of vertices.\n",
    "#     n = g.number_of_nodes()\n",
    "\n",
    "#     # Sum of weights of all n*(n-1)/2 edges.\n",
    "#     sum_of_weights = sum(g[i][j]['weight'] for i in range(n) for j in range(i))\n",
    "\n",
    "#     # Write your code here.\n",
    "#     return sum_of_weights / n\n",
    "\n",
    "def average(g):\n",
    "    n = g.number_of_nodes()\n",
    "    # Calculate the total weight of the Hamiltonian cycle.\n",
    "    sum_of_weights = sum(g[i][j]['weight'] for i in range(n) for j in range(i))\n",
    "    # Calculate the average weight by dividing by the number of nodes.\n",
    "    \n",
    "    average_weight = 2 * sum_of_weights / (n-1)\n",
    "\n",
    "    return average_weight\n",
    "\n",
    "coordinates = [(178, 212), (287, 131), (98, 156)]\n",
    "g = nx.Graph()\n",
    "n = len(coordinates)\n",
    "\n",
    "for i in range(n):\n",
    "    for j in range(i + 1, n):\n",
    "        weight = ((coordinates[i][0] - coordinates[j][0]) ** 2 + (coordinates[i][1] - coordinates[j][1]) ** 2) ** 0.5\n",
    "        g.add_edge(i, j, weight=weight)\n",
    "print(average(g))\n",
    "\n",
    "\n"
   ]
  },
  {
   "cell_type": "code",
   "execution_count": 3,
   "id": "98d99bcf-87bb-4cdd-941e-bc22589a356f",
   "metadata": {},
   "outputs": [
    {
     "name": "stdout",
     "output_type": "stream",
     "text": [
      "424.1000397032701\n"
     ]
    }
   ],
   "source": [
    "coordinates = [(178, 212), (287, 131), (98, 156)]\n",
    "g = nx.Graph()\n",
    "n = len(coordinates)\n",
    "\n",
    "for i in range(n):\n",
    "    for j in range(i + 1, n):\n",
    "        weight = ((coordinates[i][0] - coordinates[j][0]) ** 2 + (coordinates[i][1] - coordinates[j][1]) ** 2) ** 0.5\n",
    "        g.add_edge(i, j, weight=weight)\n",
    "print(average(g))\n"
   ]
  },
  {
   "cell_type": "code",
   "execution_count": null,
   "id": "cb82c472-1ce3-4604-897f-9fccc30dc659",
   "metadata": {},
   "outputs": [],
   "source": []
  }
 ],
 "metadata": {
  "kernelspec": {
   "display_name": "Python 3 (ipykernel)",
   "language": "python",
   "name": "python3"
  },
  "language_info": {
   "codemirror_mode": {
    "name": "ipython",
    "version": 3
   },
   "file_extension": ".py",
   "mimetype": "text/x-python",
   "name": "python",
   "nbconvert_exporter": "python",
   "pygments_lexer": "ipython3",
   "version": "3.10.6"
  }
 },
 "nbformat": 4,
 "nbformat_minor": 5
}
