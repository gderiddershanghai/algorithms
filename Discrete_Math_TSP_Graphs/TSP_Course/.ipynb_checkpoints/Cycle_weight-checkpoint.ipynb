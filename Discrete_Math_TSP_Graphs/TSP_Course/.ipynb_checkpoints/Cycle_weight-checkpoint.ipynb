{
 "cells": [
  {
   "cell_type": "code",
   "execution_count": 35,
   "id": "d4e51441-79c0-42c8-a528-7f2863a84886",
   "metadata": {},
   "outputs": [],
   "source": [
    "import networkx as nx\n",
    "\n",
    "# This function takes as input a graph g and a list of vertices of the cycle.\n",
    "# (Each vertex given by its index starting from 0.)\n",
    "# The graph is complete (i.e., each pair of distinct vertices is connected by an edge),\n",
    "# undirected (i.e., the edge from u to v has the same weight as the edge from v to u),\n",
    "# and has no self-loops (i.e., there are no edges from i to i).\n",
    "#\n",
    "# For example, a valid input would be a graph on 3 vertices and cycle = [2, 0, 1].\n",
    "#\n",
    "# The function should return the weight of the cycle.\n",
    "# (Don't forget to add up the last edge connecting the last vertex of the cycle with the first one.)\n",
    "#\n",
    "# If you want to get the weight of the edge between vertices u and v, you can take g[u][v]['weight']\n",
    "\n",
    "\n",
    "def cycle_length(g, cycle):\n",
    "    # Checking that the number of vertices in the graph equals the number of vertices in the cycle.\n",
    "    assert len(cycle) == g.number_of_nodes()\n",
    "\n",
    "    # Write your code here.\n",
    "    total_weight = 0\n",
    "    print(cycle)\n",
    "    for i in range(len(cycle)):\n",
    "        if i == len(cycle)-1:\n",
    "            current = cycle[-1]\n",
    "            next_ = cycle[0]\n",
    "        else:\n",
    "            current = cycle[i]\n",
    "            next_ = cycle[i+1]\n",
    "        weight = g.get_edge_data(current, next_)['weight']\n",
    "        total_weight += weight\n",
    "        print('>>>',weight)\n",
    "    print(total_weight)\n",
    "    print(\"------------------\")\n",
    "    return total_weight\n",
    "    \n"
   ]
  },
  {
   "cell_type": "code",
   "execution_count": 36,
   "id": "9a8f0ad4-8ffe-4d98-b51e-9f29217f025d",
   "metadata": {},
   "outputs": [
    {
     "data": {
      "text/plain": [
       "2"
      ]
     },
     "execution_count": 36,
     "metadata": {},
     "output_type": "execute_result"
    }
   ],
   "source": [
    "g.get_edge_data(0,1)['weight']"
   ]
  },
  {
   "cell_type": "code",
   "execution_count": 37,
   "id": "13e7933b-47bc-45f5-a84c-cd6faa8ce2cb",
   "metadata": {},
   "outputs": [
    {
     "name": "stdout",
     "output_type": "stream",
     "text": [
      "[0, 1, 2, 3]\n",
      ">>> 2\n",
      ">>> 2\n",
      ">>> 2\n",
      ">>> 2\n",
      "8\n",
      "------------------\n",
      "[0, 2, 1, 3]\n",
      ">>> 1\n",
      ">>> 2\n",
      ">>> 1\n",
      ">>> 2\n",
      "6\n",
      "------------------\n"
     ]
    }
   ],
   "source": [
    "# Here is a test case:\n",
    "# Create an empty graph. \n",
    "g = nx.Graph()\n",
    "# Now we will add 6 edges between 4 vertices\n",
    "g.add_edge(0, 1, weight = 2)\n",
    "# We work with undirected graphs, so once we add an edge from 0 to 1, it automatically creates an edge of the same weight from 1 to 0.\n",
    "g.add_edge(1, 2, weight = 2)\n",
    "g.add_edge(2, 3, weight = 2)\n",
    "g.add_edge(3, 0, weight = 2)\n",
    "g.add_edge(0, 2, weight = 1)\n",
    "g.add_edge(1, 3, weight = 1)\n",
    "\n",
    "# Now we want to compute the lengths of two cycles:\n",
    "cycle1 = [0, 1, 2, 3]\n",
    "cycle2 = [0, 2, 1, 3]\n",
    "\n",
    "assert(cycle_length(g, cycle1) == 8)\n",
    "assert(cycle_length(g, cycle2) == 6)\n"
   ]
  },
  {
   "cell_type": "code",
   "execution_count": null,
   "id": "97eafd6a-1d78-42df-8995-e96f0e140f37",
   "metadata": {},
   "outputs": [],
   "source": [
    "assert(cycle_length(g, cycle1) == 8)\n",
    "assert(cycle_length(g, cycle2) == 6)"
   ]
  },
  {
   "cell_type": "code",
   "execution_count": null,
   "id": "17d781eb-0ec9-48fd-8487-a5ca75c49ad7",
   "metadata": {},
   "outputs": [],
   "source": [
    "def cycle_length(g, cycle):\n",
    "    # Checking that the number of vertices in the graph equals the number of vertices in the cycle.\n",
    "    assert len(cycle) == g.number_of_nodes()\n",
    "    print(\"gggg:\", type(g))\n",
    "    # Write your code here.\n",
    "    total_weight = 0\n",
    "    for i in range(len(cycle)):\n",
    "        u = cycle[i]\n",
    "        v = cycle[(i + 1) % len(cycle)]\n",
    "        print((i + 1) % len(cycle))\n",
    "        total_weight += g[u][v]['weight']\n",
    "    print(total_weight)\n",
    "    print(\"------------------\")\n",
    "    return total_weight"
   ]
  }
 ],
 "metadata": {
  "kernelspec": {
   "display_name": "Python 3 (ipykernel)",
   "language": "python",
   "name": "python3"
  },
  "language_info": {
   "codemirror_mode": {
    "name": "ipython",
    "version": 3
   },
   "file_extension": ".py",
   "mimetype": "text/x-python",
   "name": "python",
   "nbconvert_exporter": "python",
   "pygments_lexer": "ipython3",
   "version": "3.10.6"
  }
 },
 "nbformat": 4,
 "nbformat_minor": 5
}
