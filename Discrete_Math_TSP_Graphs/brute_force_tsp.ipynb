{
 "cells": [
  {
   "cell_type": "code",
   "execution_count": null,
   "id": "843dca0a-d1af-4c79-946f-e268dd91562b",
   "metadata": {},
   "outputs": [],
   "source": [
    "import networkx as nx\n",
    "from itertools import permutations\n",
    "\n",
    "# This function takes as input a graph g.\n",
    "# The graph is complete (i.e., each pair of distinct vertices is connected by an edge),\n",
    "# undirected (i.e., the edge from u to v has the same weight as the edge from v to u),\n",
    "# and has no self-loops (i.e., there are no edges from i to i).\n",
    "#\n",
    "# The function should return the weight of a shortest Hamiltonian cycle.\n",
    "# (Don't forget to add up the last edge connecting the last vertex of the cycle with the first one.)\n",
    "#\n",
    "# You can iterate through all permutations of the set {0, ..., n-1} and find a cycle of the minimum weight.\n",
    "\n",
    "def cycle_length(g, cycle):\n",
    "    # Checking that the number of vertices in the graph equals the number of vertices in the cycle.\n",
    "    assert len(cycle) == g.number_of_nodes()\n",
    "    # Write your code here.\n",
    "    total_weight = 0\n",
    "    for i in range(len(cycle)):\n",
    "        u = cycle[i]\n",
    "        v = cycle[(i + 1) % len(cycle)]\n",
    "        # print((i + 1) % len(cycle))\n",
    "        total_weight += g[u][v]['weight']\n",
    "    # print(total_weight)\n",
    "    # print(\"------------------\")\n",
    "    return total_weight\n",
    "\n",
    "def all_permutations(g):\n",
    "    # n is the number of vertices.\n",
    "    n = g.number_of_nodes()\n",
    "    print(n)\n",
    "    weight = 1500\n",
    "\n",
    "    # Iterate through all permutations of n vertices\n",
    "    for p in permutations(range(n)):\n",
    "        total_weight = cycle_length(g,p)\n",
    "        if total_weight<weight:\n",
    "            weight = total_weight\n",
    "        \n",
    "   \n",
    "    return weight\n",
    "# Here is a test case:\n",
    "# Create an empty graph. \n",
    "g = nx.Graph()\n",
    "# Now we will add 6 edges between 4 vertices\n",
    "g.add_edge(0, 1, weight = 2)\n",
    "# We work with undirected graphs, so once we add an edge from 0 to 1, it automatically creates an edge of the same weight from 1 to 0.\n",
    "g.add_edge(1, 2, weight = 2)\n",
    "g.add_edge(2, 3, weight = 2)\n",
    "g.add_edge(3, 0, weight = 2)\n",
    "g.add_edge(0, 2, weight = 1)\n",
    "g.add_edge(1, 3, weight = 1)\n",
    "print(all_permutations(g))"
   ]
  }
 ],
 "metadata": {
  "kernelspec": {
   "display_name": "Python 3 (ipykernel)",
   "language": "python",
   "name": "python3"
  },
  "language_info": {
   "codemirror_mode": {
    "name": "ipython",
    "version": 3
   },
   "file_extension": ".py",
   "mimetype": "text/x-python",
   "name": "python",
   "nbconvert_exporter": "python",
   "pygments_lexer": "ipython3",
   "version": "3.10.6"
  }
 },
 "nbformat": 4,
 "nbformat_minor": 5
}
