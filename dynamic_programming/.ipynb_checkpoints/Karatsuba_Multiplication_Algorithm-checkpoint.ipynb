{
  "cells": [
    {
      "cell_type": "code",
      "execution_count": 1,
      "id": "purple-flooring",
      "metadata": {
        "colab": {
          "base_uri": "https://localhost:8080/"
        },
        "id": "purple-flooring",
        "outputId": "d4b29fb3-7dc8-4a76-aa63-bf52968c2784"
      },
      "outputs": [
        {
          "name": "stdout",
          "output_type": "stream",
          "text": [
            "Collecting ipython-autotime\n",
            "  Downloading ipython_autotime-0.3.2-py2.py3-none-any.whl.metadata (1.4 kB)\n",
            "Requirement already satisfied: ipython in /home/ginger/.pyenv/versions/3.10.6/lib/python3.10/site-packages (from ipython-autotime) (8.5.0)\n",
            "Requirement already satisfied: backcall in /home/ginger/.pyenv/versions/3.10.6/lib/python3.10/site-packages (from ipython->ipython-autotime) (0.2.0)\n",
            "Requirement already satisfied: decorator in /home/ginger/.pyenv/versions/3.10.6/lib/python3.10/site-packages (from ipython->ipython-autotime) (4.4.2)\n",
            "Requirement already satisfied: jedi>=0.16 in /home/ginger/.pyenv/versions/3.10.6/lib/python3.10/site-packages (from ipython->ipython-autotime) (0.18.1)\n",
            "Requirement already satisfied: matplotlib-inline in /home/ginger/.pyenv/versions/3.10.6/lib/python3.10/site-packages (from ipython->ipython-autotime) (0.1.6)\n",
            "Requirement already satisfied: pickleshare in /home/ginger/.pyenv/versions/3.10.6/lib/python3.10/site-packages (from ipython->ipython-autotime) (0.7.5)\n",
            "Requirement already satisfied: prompt-toolkit<3.1.0,>3.0.1 in /home/ginger/.pyenv/versions/3.10.6/lib/python3.10/site-packages (from ipython->ipython-autotime) (3.0.31)\n",
            "Requirement already satisfied: pygments>=2.4.0 in /home/ginger/.pyenv/versions/3.10.6/lib/python3.10/site-packages (from ipython->ipython-autotime) (2.13.0)\n",
            "Requirement already satisfied: stack-data in /home/ginger/.pyenv/versions/3.10.6/lib/python3.10/site-packages (from ipython->ipython-autotime) (0.5.1)\n",
            "Requirement already satisfied: traitlets>=5 in /home/ginger/.pyenv/versions/3.10.6/lib/python3.10/site-packages (from ipython->ipython-autotime) (5.14.1)\n",
            "Requirement already satisfied: pexpect>4.3 in /home/ginger/.pyenv/versions/3.10.6/lib/python3.10/site-packages (from ipython->ipython-autotime) (4.8.0)\n",
            "Requirement already satisfied: parso<0.9.0,>=0.8.0 in /home/ginger/.pyenv/versions/3.10.6/lib/python3.10/site-packages (from jedi>=0.16->ipython->ipython-autotime) (0.8.3)\n",
            "Requirement already satisfied: ptyprocess>=0.5 in /home/ginger/.pyenv/versions/3.10.6/lib/python3.10/site-packages (from pexpect>4.3->ipython->ipython-autotime) (0.7.0)\n",
            "Requirement already satisfied: wcwidth in /home/ginger/.pyenv/versions/3.10.6/lib/python3.10/site-packages (from prompt-toolkit<3.1.0,>3.0.1->ipython->ipython-autotime) (0.2.5)\n",
            "Requirement already satisfied: executing in /home/ginger/.pyenv/versions/3.10.6/lib/python3.10/site-packages (from stack-data->ipython->ipython-autotime) (1.1.1)\n",
            "Requirement already satisfied: asttokens in /home/ginger/.pyenv/versions/3.10.6/lib/python3.10/site-packages (from stack-data->ipython->ipython-autotime) (2.0.8)\n",
            "Requirement already satisfied: pure-eval in /home/ginger/.pyenv/versions/3.10.6/lib/python3.10/site-packages (from stack-data->ipython->ipython-autotime) (0.2.2)\n",
            "Requirement already satisfied: six in /home/ginger/.pyenv/versions/3.10.6/lib/python3.10/site-packages (from asttokens->stack-data->ipython->ipython-autotime) (1.16.0)\n",
            "Downloading ipython_autotime-0.3.2-py2.py3-none-any.whl (7.0 kB)\n",
            "\u001b[33mDEPRECATION: pytorch-lightning 1.6.5 has a non-standard dependency specifier torch>=1.8.*. pip 24.0 will enforce this behaviour change. A possible replacement is to upgrade to a newer version of pytorch-lightning or contact the author to suggest that they release a version with a conforming dependency specifiers. Discussion can be found at https://github.com/pypa/pip/issues/12063\u001b[0m\u001b[33m\n",
            "\u001b[0m\u001b[33mDEPRECATION: torchsde 0.2.5 has a non-standard dependency specifier numpy>=1.19.*; python_version >= \"3.7\". pip 24.0 will enforce this behaviour change. A possible replacement is to upgrade to a newer version of torchsde or contact the author to suggest that they release a version with a conforming dependency specifiers. Discussion can be found at https://github.com/pypa/pip/issues/12063\u001b[0m\u001b[33m\n",
            "\u001b[0mInstalling collected packages: ipython-autotime\n",
            "Successfully installed ipython-autotime-0.3.2\n",
            "\n",
            "\u001b[1m[\u001b[0m\u001b[34;49mnotice\u001b[0m\u001b[1;39;49m]\u001b[0m\u001b[39;49m A new release of pip is available: \u001b[0m\u001b[31;49m23.3.2\u001b[0m\u001b[39;49m -> \u001b[0m\u001b[32;49m24.0\u001b[0m\n",
            "\u001b[1m[\u001b[0m\u001b[34;49mnotice\u001b[0m\u001b[1;39;49m]\u001b[0m\u001b[39;49m To update, run: \u001b[0m\u001b[32;49mpip install --upgrade pip\u001b[0m\n",
            "time: 229 µs (started: 2024-05-27 22:21:38 +08:00)\n"
          ]
        }
      ],
      "source": [
        "try:\n",
        "    %load_ext autotime\n",
        "except:\n",
        "    !pip install ipython-autotime\n",
        "    %load_ext autotime"
      ]
    },
    {
      "cell_type": "markdown",
      "id": "functional-ethics",
      "metadata": {
        "id": "functional-ethics"
      },
      "source": [
        "## Bitwise representation of numbers\n",
        "\n",
        "We will represent numbers in binary as a sequence of 1s and 0s.\n",
        "Recall  the basics of converting decimal numbers into binary and vice versa.\n",
        "\n",
        "### Example\n",
        "The number 5 in decimal is written as $101$ in binary:\n",
        "$5_{10} = 101_2 $\n",
        "\n",
        "\n",
        "| Decimal | Binary |\n",
        "|---|---|\n",
        "| 5 | 101 |\n",
        "| 12 | 1100 |\n",
        "| 16 | 10000 |\n",
        "| 23 | 10111 |\n",
        "\n",
        "We will represent binary numbers as a list but the least significant bit is the first element and most significant bit is the last element.\n",
        "Eg., the number $(1011)_2$ is written in a list as `[1, 1, 0, 1]`."
      ]
    },
    {
      "cell_type": "code",
      "execution_count": 2,
      "id": "several-shuttle",
      "metadata": {
        "colab": {
          "base_uri": "https://localhost:8080/"
        },
        "id": "several-shuttle",
        "outputId": "c9e49f65-c092-42dd-8f0b-de0b577f0f45"
      },
      "outputs": [
        {
          "name": "stdout",
          "output_type": "stream",
          "text": [
            "time: 811 µs (started: 2024-05-27 22:21:44 +08:00)\n"
          ]
        }
      ],
      "source": [
        "def convert_to_binary(n):\n",
        "    assert n >= 0\n",
        "    if n == 0:\n",
        "        return [0]\n",
        "    lst = []\n",
        "    while n > 0:\n",
        "        lst.append( n % 2)\n",
        "        n = n // 2 # Integer division in python uses //\n",
        "    return lst\n",
        "\n",
        "def convert_to_decimal(lst):\n",
        "    sum = 0\n",
        "    f = 1\n",
        "    for elt in lst:\n",
        "        sum = sum + elt * f\n",
        "        f = f * 2\n",
        "    return sum"
      ]
    },
    {
      "cell_type": "code",
      "execution_count": 20,
      "id": "oqpAu89QZmwy",
      "metadata": {
        "colab": {
          "base_uri": "https://localhost:8080/"
        },
        "id": "oqpAu89QZmwy",
        "outputId": "1711c1d7-d6c4-4d72-eca8-a1f887ec8696"
      },
      "outputs": [
        {
          "data": {
            "text/plain": [
              "[0, 0, 1]"
            ]
          },
          "execution_count": 20,
          "metadata": {},
          "output_type": "execute_result"
        },
        {
          "name": "stdout",
          "output_type": "stream",
          "text": [
            "time: 3.11 ms (started: 2024-05-28 11:28:11 +08:00)\n"
          ]
        }
      ],
      "source": [
        "convert_to_binary(n=4)"
      ]
    },
    {
      "cell_type": "code",
      "execution_count": 4,
      "id": "ekwvrcw2ZtMb",
      "metadata": {
        "colab": {
          "base_uri": "https://localhost:8080/"
        },
        "id": "ekwvrcw2ZtMb",
        "outputId": "cf8c4d63-a3b8-4ef7-947e-4a424ddfd008"
      },
      "outputs": [
        {
          "data": {
            "text/plain": [
              "9"
            ]
          },
          "execution_count": 4,
          "metadata": {},
          "output_type": "execute_result"
        },
        {
          "name": "stdout",
          "output_type": "stream",
          "text": [
            "time: 2.12 ms (started: 2024-05-27 22:21:44 +08:00)\n"
          ]
        }
      ],
      "source": [
        "convert_to_decimal(lst=[1, 0, 0, 1])"
      ]
    },
    {
      "cell_type": "code",
      "execution_count": 5,
      "id": "naval-dutch",
      "metadata": {
        "colab": {
          "base_uri": "https://localhost:8080/"
        },
        "id": "naval-dutch",
        "outputId": "f5d50038-5dbf-46ef-d866-f78186f08a71"
      },
      "outputs": [
        {
          "name": "stdout",
          "output_type": "stream",
          "text": [
            "6 = [0, 1, 1]\n",
            "23 = [1, 1, 1, 0, 1]\n",
            "46 = [0, 1, 1, 1, 0, 1]\n",
            "128 = [0, 0, 0, 0, 0, 0, 0, 1]\n",
            "71 = [1, 1, 1, 0, 0, 0, 1]\n",
            "45\n",
            "22\n",
            "time: 8.64 ms (started: 2024-05-27 22:21:45 +08:00)\n"
          ]
        }
      ],
      "source": [
        "print(f'6 = {convert_to_binary(6)}')\n",
        "print(f'23 = {convert_to_binary(23)}')\n",
        "print(f'46 = {convert_to_binary(46)}')\n",
        "print(f'128 = {convert_to_binary(128)}')\n",
        "print(f'71 = {convert_to_binary(71)}')\n",
        "print(convert_to_decimal([1, 0, 1, 1, 0, 1])) # should be 45\n",
        "print(convert_to_decimal([0, 1, 1, 0, 1])) # should be 22"
      ]
    },
    {
      "cell_type": "markdown",
      "id": "copyrighted-variance",
      "metadata": {
        "id": "copyrighted-variance"
      },
      "source": [
        "## Addition and Subtraction\n",
        "\n",
        "We will implement addition and subtraction for binary numbers.\n",
        "Addition was discussed in the lecture. For subtraction, we use a very nice trick called twos-complement method that turns subtraction into addition after flipping 1s and 0s.\n",
        "See here for a quick explanation:\n",
        "\n",
        "https://www.geeksforgeeks.org/subtraction-of-two-numbers-using-2s-complement/"
      ]
    },
    {
      "cell_type": "code",
      "execution_count": 6,
      "id": "curious-shakespeare",
      "metadata": {
        "colab": {
          "base_uri": "https://localhost:8080/"
        },
        "id": "curious-shakespeare",
        "outputId": "355197af-37b1-45f1-a12e-15deccd539b9"
      },
      "outputs": [
        {
          "name": "stdout",
          "output_type": "stream",
          "text": [
            "time: 1.07 ms (started: 2024-05-27 22:21:46 +08:00)\n"
          ]
        }
      ],
      "source": [
        "def bitwise_add(ai, bi, ci):\n",
        "    if ai == 0:\n",
        "        if bi == 0:\n",
        "            return (ci, 0)\n",
        "        else: # ai= 0, bi = 1\n",
        "            return (1-ci, ci)\n",
        "    else:\n",
        "        if bi == 0:\n",
        "            return (1-ci, ci)\n",
        "        else:\n",
        "            return (ci, 1)\n",
        "\n",
        "def add(a, b):\n",
        "    # add bit strings a, b\n",
        "    (n, m) = len(a), len(b)\n",
        "    carry = 0\n",
        "    c = []\n",
        "    for i in range(max(m,n)):\n",
        "        ai = a[i] if i < n else 0\n",
        "        bi = b[i] if i < m else 0\n",
        "        (ci, carry) = bitwise_add(ai, bi, carry)\n",
        "        c.append(ci)\n",
        "    if carry == 1:\n",
        "        c.append(carry)\n",
        "    return c\n",
        "\n",
        "def subtract(a, b):\n",
        "    # we will use two's complement subtraction\n",
        "    # this is a very nice and common trick where\n",
        "    # we can use addition to perform subraction of\n",
        "    # binary numbers. It is used inside computers.\n",
        "    # assume a >= b -- this will generally hold for all our use cases\n",
        "    n = len(a)\n",
        "    #assert(len(b) <= n)\n",
        "    k = len(a) - len(b)\n",
        "    bcomp = [1-elt for elt in b] + [1]*k # flip the bits in b and pad with 1s\n",
        "    bcomp2 = add(bcomp, [1]) # add 1\n",
        "    r = add(a, bcomp2)\n",
        "    return r[0:n]\n",
        "\n",
        "def pad(a, k):\n",
        "    return  [0]*k + a"
      ]
    },
    {
      "cell_type": "code",
      "execution_count": 7,
      "id": "romantic-corporation",
      "metadata": {
        "colab": {
          "base_uri": "https://localhost:8080/"
        },
        "id": "romantic-corporation",
        "outputId": "71c92418-8631-4de3-8ba9-029f4d8d60fb"
      },
      "outputs": [
        {
          "name": "stdout",
          "output_type": "stream",
          "text": [
            "[0, 1, 1, 1, 1]\n",
            "[1, 0, 1, 1]\n",
            "[1, 0, 0, 1]\n",
            "[1, 0, 1, 0, 1, 1, 0, 1]\n",
            "time: 539 µs (started: 2024-05-27 22:21:47 +08:00)\n"
          ]
        }
      ],
      "source": [
        "print(add([1,0,1,1,0], [1, 0, 0, 0, 1])) # should be 0, 1, 1, 1, 1\n",
        "print(add([0, 1, 1], [1, 1, 1])) # should be 1, 0, 1, 1\n",
        "print(add([0, 1], [1, 1, 1])) # should be 1, 0, 0, 1\n",
        "print(add([0], [1,0,1,0,1,1,0,1])) # should be 1, 0, 1, 0, 1, 1, 0, 1"
      ]
    },
    {
      "cell_type": "code",
      "execution_count": 22,
      "id": "8cebb4db",
      "metadata": {},
      "outputs": [
        {
          "name": "stdout",
          "output_type": "stream",
          "text": [
            "[0, 1, 1, 0, 1]\n",
            "time: 1.2 ms (started: 2024-05-28 11:30:16 +08:00)\n"
          ]
        }
      ],
      "source": [
        "a = [1,1,1,1]\n",
        "b = [1,1]\n",
        "print(add(a,b))"
      ]
    },
    {
      "cell_type": "code",
      "execution_count": 24,
      "id": "9d543e09",
      "metadata": {},
      "outputs": [
        {
          "data": {
            "text/plain": [
              "[1, 1, 1, 1]"
            ]
          },
          "execution_count": 24,
          "metadata": {},
          "output_type": "execute_result"
        },
        {
          "name": "stdout",
          "output_type": "stream",
          "text": [
            "time: 3.25 ms (started: 2024-05-28 11:32:19 +08:00)\n"
          ]
        }
      ],
      "source": [
        "a = [1,1]\n",
        "b = [1,0,1]\n",
        "grade_school_multiply(a, b)"
      ]
    },
    {
      "cell_type": "code",
      "execution_count": 25,
      "id": "04035fac",
      "metadata": {},
      "outputs": [
        {
          "data": {
            "text/plain": [
              "196"
            ]
          },
          "execution_count": 25,
          "metadata": {},
          "output_type": "execute_result"
        },
        {
          "name": "stdout",
          "output_type": "stream",
          "text": [
            "time: 3.85 ms (started: 2024-05-28 11:43:07 +08:00)\n"
          ]
        }
      ],
      "source": [
        "14*14"
      ]
    },
    {
      "cell_type": "code",
      "execution_count": 8,
      "id": "becoming-premises",
      "metadata": {
        "colab": {
          "base_uri": "https://localhost:8080/"
        },
        "id": "becoming-premises",
        "outputId": "94d88696-d1b0-4f4c-9e0f-865bce8ab822"
      },
      "outputs": [
        {
          "name": "stdout",
          "output_type": "stream",
          "text": [
            "[0, 1, 1]\n",
            "[1, 1, 0]\n",
            "[1, 0, 1, 0]\n",
            "[1, 0, 0, 0]\n",
            "[0, 1, 0, 1, 1, 1, 0, 1]\n",
            "time: 570 µs (started: 2024-05-27 22:21:47 +08:00)\n"
          ]
        }
      ],
      "source": [
        "print(subtract([1,1,1],[1])) # should be [0, 1, 1]\n",
        "print(subtract([1,0,1], [0, 1])) # should be [1, 1, 0]\n",
        "print(subtract([0, 0, 0, 1], [1, 1])) # should be [1, 0, 1, 0]\n",
        "print(subtract([0, 1, 0, 1], [1, 0, 0, 1])) # should be [1, 0, 0, 0]\n",
        "print(subtract([0, 1, 0, 1, 1, 1, 0, 1],[0]))"
      ]
    },
    {
      "cell_type": "code",
      "execution_count": 9,
      "id": "intended-wrong",
      "metadata": {
        "colab": {
          "base_uri": "https://localhost:8080/"
        },
        "id": "intended-wrong",
        "outputId": "14bb4d1f-977d-4eda-a8a1-8986cf8789cd"
      },
      "outputs": [
        {
          "name": "stdout",
          "output_type": "stream",
          "text": [
            "time: 443 µs (started: 2024-05-27 22:21:48 +08:00)\n"
          ]
        }
      ],
      "source": [
        "def grade_school_multiply(a, b):\n",
        "    n, m = len(a), len(b)\n",
        "    tmp = a\n",
        "    res = [0]\n",
        "    for bit in b:\n",
        "        if bit == 1:\n",
        "            res = add(res, tmp)\n",
        "        tmp = [0]+tmp # shift tmp\n",
        "    return res"
      ]
    },
    {
      "cell_type": "code",
      "execution_count": null,
      "id": "1902d98d",
      "metadata": {},
      "outputs": [],
      "source": [
        "10"
      ]
    },
    {
      "cell_type": "code",
      "execution_count": 10,
      "id": "resistant-romantic",
      "metadata": {
        "colab": {
          "base_uri": "https://localhost:8080/"
        },
        "id": "resistant-romantic",
        "outputId": "96958035-6b3a-4d8f-a4a4-22bd8df1ed29"
      },
      "outputs": [
        {
          "name": "stdout",
          "output_type": "stream",
          "text": [
            "[0, 1, 0, 1]\n",
            "[0, 1, 0, 0, 1]\n",
            "[0, 0, 1, 0, 1]\n",
            "[0, 0, 0, 1, 0, 1]\n",
            "time: 542 µs (started: 2024-05-27 22:21:49 +08:00)\n"
          ]
        }
      ],
      "source": [
        "print(grade_school_multiply([1, 0, 1], [0, 1])) #  should be 0, 1, 0, 1\n",
        "print(grade_school_multiply([0, 1, 1], [1, 1])) # should be 0, 1, 0, 0 , 1\n",
        "print(grade_school_multiply([0, 0, 1], [1, 0, 1])) # should be 0, 0, 1, 0 , 1\n",
        "print(grade_school_multiply([0, 0, 0, 1], [1, 0, 1])) # should be 0, 0, 0, 1, 0, 1"
      ]
    },
    {
      "cell_type": "code",
      "execution_count": 11,
      "id": "occasional-nothing",
      "metadata": {
        "colab": {
          "base_uri": "https://localhost:8080/"
        },
        "id": "occasional-nothing",
        "outputId": "61caf2e4-0299-43d5-a264-8392c2e4ba18"
      },
      "outputs": [
        {
          "name": "stdout",
          "output_type": "stream",
          "text": [
            "time: 704 µs (started: 2024-05-27 22:21:49 +08:00)\n"
          ]
        }
      ],
      "source": [
        "def karatsuba_multiply(a, b):\n",
        "    (m, n) = len(a), len(b)\n",
        "    if m <= 2 or n <= 2:\n",
        "        # revert to grade school multiplication\n",
        "        return grade_school_multiply(a, b)\n",
        "    else:\n",
        "        mid1 = m//2\n",
        "        a1 = a[0:mid1]\n",
        "        a2 = a[mid1:]\n",
        "        b1 = b[0:mid1]\n",
        "        b2 = b[mid1:]\n",
        "        # [a] = 2^{mid1} * [a2] + [a1]\n",
        "        # [b] = 2^{mid1} * [b2] + [b1]\n",
        "        # [a]* [b] = 2^{2*mid1} ([a2]*[b2]) + 2^mid1 ([a2]*[b1] + [a2]*[b1]) + [a1]*[b1]\n",
        "\n",
        "        # 3 recursive calls to karatsuba_multiply\n",
        "        r1 = karatsuba_multiply(a1, b1)\n",
        "        r2 = karatsuba_multiply(a2, b2)\n",
        "        r3 = karatsuba_multiply(add(a1, a2), add(b1, b2))\n",
        "        # Do subtraction\n",
        "        r4a = subtract(r3, r1)\n",
        "        r4 = subtract(r4a, r2)\n",
        "\n",
        "        # Do paddding\n",
        "        s1 = pad(r2, 2*mid1)\n",
        "        s2 = pad(r4, mid1)\n",
        "        s3 = add(s1, s2)\n",
        "        return add(s3, r1)"
      ]
    },
    {
      "cell_type": "code",
      "execution_count": 12,
      "id": "stopped-evolution",
      "metadata": {
        "colab": {
          "base_uri": "https://localhost:8080/"
        },
        "id": "stopped-evolution",
        "outputId": "64a4e52d-5013-443a-dbd8-e786b5020809"
      },
      "outputs": [
        {
          "name": "stdout",
          "output_type": "stream",
          "text": [
            "[0, 0, 0, 1, 0, 1]\n",
            "[0, 0, 1, 0, 1]\n",
            "time: 454 µs (started: 2024-05-27 22:21:50 +08:00)\n"
          ]
        }
      ],
      "source": [
        "print(karatsuba_multiply([0, 0, 0, 1], [1, 0, 1])) # should be 0, 0, 0, 1, 0, 1\n",
        "print(karatsuba_multiply([0, 0, 1], [1, 0, 1])) # should be 0, 0, 1, 0 , 1"
      ]
    },
    {
      "cell_type": "code",
      "execution_count": 13,
      "id": "entertaining-contact",
      "metadata": {
        "colab": {
          "base_uri": "https://localhost:8080/"
        },
        "id": "entertaining-contact",
        "outputId": "29c5aaf4-06ff-4875-d03c-24103d7a5a3e"
      },
      "outputs": [
        {
          "name": "stdout",
          "output_type": "stream",
          "text": [
            "[0, 1, 0, 0, 1, 0, 1, 0, 1, 1, 1, 0, 0, 1, 0, 0, 0, 1, 0, 1, 1, 0, 1, 1, 1, 0, 0, 1, 1, 0, 0, 0, 1, 0, 1, 1, 0, 1, 0, 1, 0, 1, 0, 0, 1]\n",
            "time: 579 µs (started: 2024-05-27 22:21:51 +08:00)\n"
          ]
        }
      ],
      "source": [
        "print(grade_school_multiply([1, 0, 1, 1, 0, 1, 0, 1, 1, 0, 1, 1, 0, 1, 1, 1, 0, 1, 1, 0, 1, 1, 0], [0, 1, 0, 1, 1, 0, 1, 1, 0, 1, 0, 1, 0, 0, 0, 0, 1, 1, 1, 0, 1, 0,1]))"
      ]
    },
    {
      "cell_type": "code",
      "execution_count": 17,
      "id": "automatic-register",
      "metadata": {
        "colab": {
          "base_uri": "https://localhost:8080/"
        },
        "id": "automatic-register",
        "outputId": "62045c50-0559-4987-b4eb-c612f3f2cf9c"
      },
      "outputs": [
        {
          "name": "stdout",
          "output_type": "stream",
          "text": [
            "[0, 1, 0, 0, 1, 0, 1, 0, 1, 1, 1, 0, 0, 1, 0, 0, 0, 1, 0, 1, 1, 0, 1, 1, 1, 0, 0, 1, 1, 0, 0, 0, 1, 0, 1, 1, 0, 1, 0, 1, 0, 1, 0, 0, 1]\n",
            "time: 4.88 ms (started: 2024-05-27 14:20:26 +00:00)\n"
          ]
        }
      ],
      "source": [
        "print(karatsuba_multiply([1, 0, 1, 1, 0, 1, 0, 1, 1, 0, 1, 1, 0, 1, 1, 1, 0, 1, 1, 0, 1, 1, 0], [0, 1, 0, 1, 1, 0, 1, 1, 0, 1, 0, 1, 0, 0, 0, 0, 1, 1, 1, 0, 1, 0,1]))"
      ]
    },
    {
      "cell_type": "code",
      "execution_count": 18,
      "id": "several-unemployment",
      "metadata": {
        "colab": {
          "base_uri": "https://localhost:8080/"
        },
        "id": "several-unemployment",
        "outputId": "ffa03765-d2ad-45bb-85bf-7af97d6af2e2"
      },
      "outputs": [
        {
          "name": "stdout",
          "output_type": "stream",
          "text": [
            "time: 25.7 ms (started: 2024-05-27 14:20:27 +00:00)\n"
          ]
        }
      ],
      "source": [
        "from random import randint\n",
        "a = [randint(0, 1) for j in range(10000)]\n",
        "b = [randint(0, 1) for j in range(10000)]\n"
      ]
    },
    {
      "cell_type": "code",
      "execution_count": null,
      "id": "conservative-being",
      "metadata": {
        "id": "conservative-being",
        "outputId": "663e081a-a2fa-4c50-8508-874863b142ce"
      },
      "outputs": [
        {
          "name": "stdout",
          "output_type": "stream",
          "text": [
            "time: 30 s (started: 2021-05-13 22:15:56 -06:00)\n"
          ]
        }
      ],
      "source": [
        "c = grade_school_multiply(a,b)"
      ]
    },
    {
      "cell_type": "code",
      "execution_count": null,
      "id": "macro-alexandria",
      "metadata": {
        "id": "macro-alexandria",
        "outputId": "3d554474-d5e9-4855-ed81-7099e50ea050"
      },
      "outputs": [
        {
          "name": "stdout",
          "output_type": "stream",
          "text": [
            "time: 23.1 s (started: 2021-05-13 22:16:26 -06:00)\n"
          ]
        }
      ],
      "source": [
        "c = karatsuba_multiply(a, b)"
      ]
    }
  ],
  "metadata": {
    "colab": {
      "provenance": []
    },
    "kernelspec": {
      "display_name": "Python 3",
      "language": "python",
      "name": "python3"
    },
    "language_info": {
      "codemirror_mode": {
        "name": "ipython",
        "version": 3
      },
      "file_extension": ".py",
      "mimetype": "text/x-python",
      "name": "python",
      "nbconvert_exporter": "python",
      "pygments_lexer": "ipython3",
      "version": "3.10.6"
    }
  },
  "nbformat": 4,
  "nbformat_minor": 5
}
