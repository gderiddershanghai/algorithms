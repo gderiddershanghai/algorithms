{
 "cells": [
  {
   "cell_type": "code",
   "execution_count": 1,
   "id": "9d77197e-35a8-4796-ace8-ccf43bffa098",
   "metadata": {},
   "outputs": [],
   "source": [
    "import pandas as pd\n",
    "import numpy as np"
   ]
  },
  {
   "cell_type": "code",
   "execution_count": 6,
   "id": "a73b4146",
   "metadata": {},
   "outputs": [
    {
     "name": "stdout",
     "output_type": "stream",
     "text": [
      "(8, -1) 0\n",
      "(8, 0) 0\n",
      "(8, 1) 0\n",
      "(8, 2) 0\n",
      "(8, 3) 0\n",
      "(8, 4) 0\n",
      "(8, 5) 0\n",
      "(8, 6) 0\n",
      "(8, 7) 0\n",
      "(7, -1) 1\n",
      "(7, 0) 0\n",
      "(7, 1) 1\n",
      "(7, 2) 1\n",
      "(7, 3) 0\n",
      "(7, 4) 0\n",
      "(7, 5) 0\n",
      "(7, 6) 1\n",
      "(6, -1) 2\n",
      "(6, 0) 2\n",
      "(6, 1) 1\n",
      "(6, 2) 2\n",
      "(6, 3) 0\n",
      "(6, 4) 0\n",
      "(6, 5) 0\n",
      "(5, -1) 2\n",
      "(5, 0) 2\n",
      "(5, 1) 1\n",
      "(5, 2) 2\n",
      "(5, 3) 1\n",
      "(5, 4) 1\n",
      "(4, -1) 2\n",
      "(4, 0) 2\n",
      "(4, 1) 1\n",
      "(4, 2) 2\n",
      "(4, 3) 1\n",
      "(3, -1) 2\n",
      "(3, 0) 2\n",
      "(3, 1) 1\n",
      "(3, 2) 2\n",
      "(2, -1) 3\n",
      "(2, 0) 3\n",
      "(2, 1) 1\n",
      "(1, -1) 3\n",
      "(1, 0) 3\n",
      "(0, -1) 4\n"
     ]
    }
   ],
   "source": []
  },
  {
   "cell_type": "code",
   "execution_count": 203,
   "id": "fc869cdd-4c04-47e4-bd27-5a313dee0258",
   "metadata": {},
   "outputs": [
    {
     "data": {
      "text/plain": [
       "{(8, -1): 0,\n",
       " (8, 0): 0,\n",
       " (8, 1): 0,\n",
       " (8, 2): 0,\n",
       " (8, 3): 0,\n",
       " (8, 4): 0,\n",
       " (8, 5): 0,\n",
       " (8, 6): 0,\n",
       " (8, 7): 0}"
      ]
     },
     "execution_count": 203,
     "metadata": {},
     "output_type": "execute_result"
    },
    {
     "name": "stdout",
     "output_type": "stream",
     "text": [
      "time: 2.83 ms (started: 2024-06-12 22:34:56 +08:00)\n"
     ]
    }
   ],
   "source": [
    "a = np.array([1, 4, 2, -2, 0, -1, 2, 3])\n",
    "n = len(A)\n",
    "T = {}\n",
    "for j in range(-1, n):\n",
    "    T[(n, j)] = 0 # i = n and j\n"
   ]
  },
  {
   "cell_type": "code",
   "execution_count": 204,
   "id": "99358a2c-fc76-45ad-911a-0289b9c662d4",
   "metadata": {},
   "outputs": [
    {
     "name": "stdout",
     "output_type": "stream",
     "text": [
      "time: 441 µs (started: 2024-06-12 22:35:05 +08:00)\n"
     ]
    }
   ],
   "source": [
    "for j in range(-1, n):\n",
    "    T[(n, j)] = 0 # i = n and j\n",
    "\n",
    "for i in range(n-1,0,-1):\n",
    "    ai = a[i]\n",
    "    for j in range(-1,i):\n",
    "        aj = a[j]\n",
    "        if abs(ai- aj) == 1:\n",
    "            # print(123)\n",
    "            T[(i,j)] = 1 + T.get((i-1, j-1),0)"
   ]
  },
  {
   "cell_type": "code",
   "execution_count": 205,
   "id": "2411ca08-f59f-4eca-8088-33537556959d",
   "metadata": {},
   "outputs": [
    {
     "data": {
      "text/plain": [
       "{(8, -1): 0,\n",
       " (8, 0): 0,\n",
       " (8, 1): 0,\n",
       " (8, 2): 0,\n",
       " (8, 3): 0,\n",
       " (8, 4): 0,\n",
       " (8, 5): 0,\n",
       " (8, 6): 0,\n",
       " (8, 7): 0,\n",
       " (7, 1): 1,\n",
       " (7, 2): 1,\n",
       " (7, 6): 1,\n",
       " (6, -1): 1,\n",
       " (6, 0): 1,\n",
       " (5, 3): 1,\n",
       " (5, 4): 1,\n",
       " (4, 0): 1,\n",
       " (2, -1): 1,\n",
       " (2, 0): 1,\n",
       " (1, -1): 1}"
      ]
     },
     "execution_count": 205,
     "metadata": {},
     "output_type": "execute_result"
    },
    {
     "name": "stdout",
     "output_type": "stream",
     "text": [
      "time: 4.37 ms (started: 2024-06-12 22:35:05 +08:00)\n"
     ]
    }
   ],
   "source": [
    "T"
   ]
  },
  {
   "cell_type": "code",
   "execution_count": 192,
   "id": "23d02e2e-5817-4031-852d-e95b779f5bb2",
   "metadata": {},
   "outputs": [
    {
     "name": "stdout",
     "output_type": "stream",
     "text": [
      "time: 484 µs (started: 2024-06-12 22:21:09 +08:00)\n"
     ]
    }
   ],
   "source": [
    "for i in range(0,n): # iterate from m-1 to 0 with a step of -1\n",
    "    current = A[i]\n",
    "    # print('--')\n",
    "    for j in range(i,n):\n",
    "        aj = A[j]\n",
    "        # print(i,j)\n",
    "        if abs(current - aj) == 1:\n",
    "            T[(i,j)] = 1 + T.get((i-1,j-1),0)\n",
    "# for i in range(n):\n",
    "#     current = A[i]\n",
    "#     for j in range(i+1,n):\n",
    "#         aj = A[j]\n",
    "#         # if i==1:\n",
    "#         #     print(f'i: {i} aj: {aj} current {current}')\n",
    "#         # if i>1:\n",
    "#         #     break\n",
    "#         if abs(current - aj) == 1:\n",
    "#             print('what: ', current, aj)\n",
    "#             T[(n,i)] = T[(n,i)]+1\n",
    "#             current = aj\n",
    "\n",
    "# T"
   ]
  },
  {
   "cell_type": "code",
   "execution_count": 193,
   "id": "97400afb-be1f-49a4-a377-14366da4b4b6",
   "metadata": {},
   "outputs": [
    {
     "data": {
      "text/plain": [
       "{(8, 7): 0,\n",
       " (8, 6): 0,\n",
       " (8, 5): 0,\n",
       " (8, 4): 0,\n",
       " (8, 3): 0,\n",
       " (8, 2): 0,\n",
       " (8, 1): 0,\n",
       " (8, 0): 0,\n",
       " (7, 7): 0,\n",
       " (7, 6): 0,\n",
       " (7, 5): 0,\n",
       " (7, 4): 0,\n",
       " (7, 3): 0,\n",
       " (7, 2): 0,\n",
       " (7, 1): 0,\n",
       " (7, 0): 0,\n",
       " (6, 7): 1,\n",
       " (6, 6): 0,\n",
       " (6, 5): 0,\n",
       " (6, 4): 0,\n",
       " (6, 3): 0,\n",
       " (6, 2): 0,\n",
       " (6, 1): 0,\n",
       " (6, 0): 0,\n",
       " (5, 7): 0,\n",
       " (5, 6): 0,\n",
       " (5, 5): 0,\n",
       " (5, 4): 0,\n",
       " (5, 3): 0,\n",
       " (5, 2): 0,\n",
       " (5, 1): 0,\n",
       " (5, 0): 0,\n",
       " (4, 7): 0,\n",
       " (4, 6): 0,\n",
       " (4, 5): 1,\n",
       " (4, 4): 0,\n",
       " (4, 3): 0,\n",
       " (4, 2): 0,\n",
       " (4, 1): 0,\n",
       " (4, 0): 0,\n",
       " (3, 7): 0,\n",
       " (3, 6): 0,\n",
       " (3, 5): 1,\n",
       " (3, 4): 0,\n",
       " (3, 3): 0,\n",
       " (3, 2): 0,\n",
       " (3, 1): 0,\n",
       " (3, 0): 0,\n",
       " (2, 7): 1,\n",
       " (2, 6): 0,\n",
       " (2, 5): 0,\n",
       " (2, 4): 0,\n",
       " (2, 3): 0,\n",
       " (2, 2): 0,\n",
       " (2, 1): 0,\n",
       " (2, 0): 0,\n",
       " (1, 7): 2,\n",
       " (1, 6): 0,\n",
       " (1, 5): 0,\n",
       " (1, 4): 0,\n",
       " (1, 3): 0,\n",
       " (1, 2): 0,\n",
       " (1, 1): 0,\n",
       " (1, 0): 0,\n",
       " (0, 7): 0,\n",
       " (0, 6): 1,\n",
       " (0, 5): 0,\n",
       " (0, 4): 1,\n",
       " (0, 3): 0,\n",
       " (0, 2): 1,\n",
       " (0, 1): 0,\n",
       " (0, 0): 0}"
      ]
     },
     "execution_count": 193,
     "metadata": {},
     "output_type": "execute_result"
    },
    {
     "name": "stdout",
     "output_type": "stream",
     "text": [
      "time: 3.22 ms (started: 2024-06-12 22:21:14 +08:00)\n"
     ]
    }
   ],
   "source": [
    "T"
   ]
  },
  {
   "cell_type": "code",
   "execution_count": 163,
   "id": "9ccae27f-a3c1-47a5-b130-38f0fe71344f",
   "metadata": {},
   "outputs": [
    {
     "data": {
      "text/plain": [
       "{(6, -1): 0, (6, 0): 0, (6, 1): 0, (6, 2): 0, (6, 3): 0, (6, 4): 0, (6, 5): 0}"
      ]
     },
     "execution_count": 163,
     "metadata": {},
     "output_type": "execute_result"
    },
    {
     "name": "stdout",
     "output_type": "stream",
     "text": [
      "time: 2.54 ms (started: 2024-06-12 21:45:10 +08:00)\n"
     ]
    }
   ],
   "source": [
    "T"
   ]
  },
  {
   "cell_type": "code",
   "execution_count": null,
   "id": "02ed1296-21d3-497a-90b9-b63a1dcb610d",
   "metadata": {},
   "outputs": [],
   "source": []
  },
  {
   "cell_type": "code",
   "execution_count": 72,
   "id": "36bdf995-e176-4565-b3e6-96d8ef95a305",
   "metadata": {},
   "outputs": [
    {
     "name": "stdout",
     "output_type": "stream",
     "text": [
      "time: 593 µs (started: 2024-06-12 17:04:50 +08:00)\n"
     ]
    }
   ],
   "source": [
    "def lcs_graph(s1,s2):\n",
    "    n = len(s1)\n",
    "    m = len(s2)\n",
    "    l1 = [i for i in s1]\n",
    "    l2 = [i for i in s2]\n",
    "\n",
    "    A = np.zeros((m+1, n+1))\n",
    "\n",
    "    for i in range(1, n+1):\n",
    "        for j in range(1, m+1):\n",
    "            if s1[i-1] == s2[j-1]:\n",
    "                A[j][i] = 1 + A[j-1][i-1]\n",
    "            else:\n",
    "                A[j][i] = max(A[j-1][i], A[j][i-1])\n",
    "\n",
    "    df = pd.DataFrame(columns=l1, index=l2, data=A[1:, 1:]).applymap(round)\n",
    "    return df"
   ]
  },
  {
   "cell_type": "code",
   "execution_count": 75,
   "id": "2178339d-c2f0-4999-88db-a53968ec27d9",
   "metadata": {},
   "outputs": [
    {
     "data": {
      "text/html": [
       "<div>\n",
       "<style scoped>\n",
       "    .dataframe tbody tr th:only-of-type {\n",
       "        vertical-align: middle;\n",
       "    }\n",
       "\n",
       "    .dataframe tbody tr th {\n",
       "        vertical-align: top;\n",
       "    }\n",
       "\n",
       "    .dataframe thead th {\n",
       "        text-align: right;\n",
       "    }\n",
       "</style>\n",
       "<table border=\"1\" class=\"dataframe\">\n",
       "  <thead>\n",
       "    <tr style=\"text-align: right;\">\n",
       "      <th></th>\n",
       "      <th>C</th>\n",
       "      <th>A</th>\n",
       "      <th>C</th>\n",
       "      <th>G</th>\n",
       "      <th>C</th>\n",
       "    </tr>\n",
       "  </thead>\n",
       "  <tbody>\n",
       "    <tr>\n",
       "      <th>A</th>\n",
       "      <td>0</td>\n",
       "      <td>1</td>\n",
       "      <td>1</td>\n",
       "      <td>1</td>\n",
       "      <td>1</td>\n",
       "    </tr>\n",
       "    <tr>\n",
       "      <th>T</th>\n",
       "      <td>0</td>\n",
       "      <td>1</td>\n",
       "      <td>1</td>\n",
       "      <td>1</td>\n",
       "      <td>1</td>\n",
       "    </tr>\n",
       "    <tr>\n",
       "      <th>C</th>\n",
       "      <td>1</td>\n",
       "      <td>1</td>\n",
       "      <td>2</td>\n",
       "      <td>2</td>\n",
       "      <td>2</td>\n",
       "    </tr>\n",
       "    <tr>\n",
       "      <th>C</th>\n",
       "      <td>1</td>\n",
       "      <td>1</td>\n",
       "      <td>2</td>\n",
       "      <td>2</td>\n",
       "      <td>3</td>\n",
       "    </tr>\n",
       "    <tr>\n",
       "      <th>G</th>\n",
       "      <td>1</td>\n",
       "      <td>1</td>\n",
       "      <td>2</td>\n",
       "      <td>3</td>\n",
       "      <td>3</td>\n",
       "    </tr>\n",
       "  </tbody>\n",
       "</table>\n",
       "</div>"
      ],
      "text/plain": [
       "   C  A  C  G  C\n",
       "A  0  1  1  1  1\n",
       "T  0  1  1  1  1\n",
       "C  1  1  2  2  2\n",
       "C  1  1  2  2  3\n",
       "G  1  1  2  3  3"
      ]
     },
     "execution_count": 75,
     "metadata": {},
     "output_type": "execute_result"
    },
    {
     "name": "stdout",
     "output_type": "stream",
     "text": [
      "time: 4.91 ms (started: 2024-06-12 17:09:08 +08:00)\n"
     ]
    }
   ],
   "source": [
    "s2 = \"ATCCG\"\n",
    "s1 = \"CACGC\"\n",
    "lcs_graph(s1,s2)"
   ]
  },
  {
   "cell_type": "code",
   "execution_count": null,
   "id": "c34793c2-616e-4b28-ad19-30ad93a9edb4",
   "metadata": {},
   "outputs": [],
   "source": []
  },
  {
   "cell_type": "code",
   "execution_count": null,
   "id": "d7aedf0e-642e-4bdd-b484-459c1d03ac06",
   "metadata": {},
   "outputs": [],
   "source": []
  },
  {
   "cell_type": "code",
   "execution_count": 1,
   "id": "available-garlic",
   "metadata": {
    "colab": {
     "base_uri": "https://localhost:8080/"
    },
    "executionInfo": {
     "elapsed": 10505,
     "status": "ok",
     "timestamp": 1674081352145,
     "user": {
      "displayName": "Sriram Sankaranarayanan",
      "userId": "12264367605776763929"
     },
     "user_tz": 420
    },
    "id": "available-garlic",
    "outputId": "3768a5bd-7e69-4f36-9734-cee65e3c0360"
   },
   "outputs": [
    {
     "name": "stdout",
     "output_type": "stream",
     "text": [
      "time: 174 µs (started: 2024-06-12 15:40:48 +08:00)\n"
     ]
    }
   ],
   "source": [
    "try:\n",
    "    %load_ext autotime\n",
    "except:\n",
    "    !pip install ipython-autotime\n",
    "    %load_ext autotime"
   ]
  },
  {
   "cell_type": "markdown",
   "id": "narrative-picking",
   "metadata": {
    "id": "narrative-picking"
   },
   "source": [
    "## Dynamic Programming Algorithm for Longest Common Subsequence\n",
    "\n",
    "$\\newcommand\\len{\\mathsf{len}}\n",
    "\\newcommand\\lcss{\\mathsf{lcss}}$\n",
    "\n",
    "\n",
    "Recall the recurrence that we implement to be `Python` friendly assuming that the arguments $i,j$ satisfy\n",
    "$0 \\leq i \\leq \\len(s_1)$ and $0 \\leq j \\leq \\len(s_2)$.\n",
    "\n",
    "\n",
    "$$\\lcss(i, j) = \\begin{cases}\n",
    "0 & i \\geq \\len(s_1) \\\\\n",
    "0 & j \\geq \\len(s_2) \\\\\n",
    "1 + \\lcss(i+1, j+1 ) &  s_1[i] = s_2[j] \\\\ \n",
    "\\max( \\lcss(i+1, j), \\lcss(i, j+1) ) & \\text{otherwise} \\\\ \n",
    "\\end{cases} $$"
   ]
  },
  {
   "cell_type": "code",
   "execution_count": 6,
   "id": "da04ad04-44fa-4f48-84dc-6337fdb17e07",
   "metadata": {},
   "outputs": [
    {
     "data": {
      "text/plain": [
       "12.25"
      ]
     },
     "execution_count": 6,
     "metadata": {},
     "output_type": "execute_result"
    },
    {
     "name": "stdout",
     "output_type": "stream",
     "text": [
      "time: 3.45 ms (started: 2024-06-12 16:06:23 +08:00)\n"
     ]
    }
   ],
   "source": [
    "49/4"
   ]
  },
  {
   "cell_type": "code",
   "execution_count": 2,
   "id": "exceptional-detective",
   "metadata": {
    "colab": {
     "base_uri": "https://localhost:8080/"
    },
    "executionInfo": {
     "elapsed": 11,
     "status": "ok",
     "timestamp": 1674081352146,
     "user": {
      "displayName": "Sriram Sankaranarayanan",
      "userId": "12264367605776763929"
     },
     "user_tz": 420
    },
    "id": "exceptional-detective",
    "outputId": "dae60d49-65f2-4742-e110-f16414a7c6ee"
   },
   "outputs": [
    {
     "name": "stdout",
     "output_type": "stream",
     "text": [
      "time: 472 µs (started: 2024-06-12 15:40:52 +08:00)\n"
     ]
    }
   ],
   "source": [
    "def lcs(s1, s2, i, j):\n",
    "    assert 0 <= i and i <= len(s1)\n",
    "    assert 0 <= j and j <= len(s2)\n",
    "    if i == len(s1):\n",
    "        return 0\n",
    "    if j == len(s2):\n",
    "        return 0\n",
    "    if s1[i] == s2[j]:\n",
    "        return 1 + lcs(s1, s2, i+1, j+1)\n",
    "    else:\n",
    "        return max(lcs(s1, s2, i+1, j), lcs(s1, s2, i, j+1))"
   ]
  },
  {
   "cell_type": "markdown",
   "id": "controlled-senate",
   "metadata": {
    "id": "controlled-senate"
   },
   "source": [
    "Warning: the recurrence above is quite inefficient. See for yourself."
   ]
  },
  {
   "cell_type": "code",
   "execution_count": 76,
   "id": "multiple-weekly",
   "metadata": {
    "colab": {
     "base_uri": "https://localhost:8080/"
    },
    "executionInfo": {
     "elapsed": 8,
     "status": "ok",
     "timestamp": 1674081352146,
     "user": {
      "displayName": "Sriram Sankaranarayanan",
      "userId": "12264367605776763929"
     },
     "user_tz": 420
    },
    "id": "multiple-weekly",
    "outputId": "4909bbfe-112b-4341-cce1-f8fcee655c9a"
   },
   "outputs": [
    {
     "name": "stdout",
     "output_type": "stream",
     "text": [
      "6\n",
      "time: 630 µs (started: 2024-06-12 17:13:54 +08:00)\n"
     ]
    }
   ],
   "source": [
    "s1 = \"GATTACA\"\n",
    "s2 = \"ACTGATAACAA\"\n",
    "print(lcs(s1, s2, 0, 0))"
   ]
  },
  {
   "cell_type": "code",
   "execution_count": 80,
   "id": "d9f3eb83-54ff-4a5c-9c64-fe7df9043c70",
   "metadata": {},
   "outputs": [
    {
     "data": {
      "text/plain": [
       "6"
      ]
     },
     "execution_count": 80,
     "metadata": {},
     "output_type": "execute_result"
    },
    {
     "name": "stdout",
     "output_type": "stream",
     "text": [
      "time: 3.82 ms (started: 2024-06-12 17:14:09 +08:00)\n"
     ]
    }
   ],
   "source": [
    "lcs_graph(s1,s2).max().max()"
   ]
  },
  {
   "cell_type": "code",
   "execution_count": 4,
   "id": "limited-former",
   "metadata": {
    "colab": {
     "base_uri": "https://localhost:8080/"
    },
    "executionInfo": {
     "elapsed": 460,
     "status": "ok",
     "timestamp": 1674081352601,
     "user": {
      "displayName": "Sriram Sankaranarayanan",
      "userId": "12264367605776763929"
     },
     "user_tz": 420
    },
    "id": "limited-former",
    "outputId": "cb8bfda2-487e-4eb8-ebf7-fcf5c6392e76"
   },
   "outputs": [
    {
     "name": "stdout",
     "output_type": "stream",
     "text": [
      "10\n",
      "time: 71.3 ms (started: 2024-06-12 15:41:04 +08:00)\n"
     ]
    }
   ],
   "source": [
    "s1 = \"GGATTACCATTATGGAGGCGGA\"\n",
    "s2 = \"ACTTAGGTAGG\"\n",
    "print(lcs(s1, s2, 0, 0))"
   ]
  },
  {
   "cell_type": "code",
   "execution_count": 5,
   "id": "exotic-thing",
   "metadata": {
    "colab": {
     "base_uri": "https://localhost:8080/",
     "height": 368
    },
    "executionInfo": {
     "elapsed": 45624,
     "status": "error",
     "timestamp": 1674081398222,
     "user": {
      "displayName": "Sriram Sankaranarayanan",
      "userId": "12264367605776763929"
     },
     "user_tz": 420
    },
    "id": "exotic-thing",
    "outputId": "36782b8e-45be-4bbe-8964-f7788d9183ea"
   },
   "outputs": [
    {
     "name": "stdout",
     "output_type": "stream",
     "text": [
      "11\n",
      "time: 34.8 s (started: 2024-06-12 15:41:06 +08:00)\n"
     ]
    }
   ],
   "source": [
    "# This is just slightly longer and will take more than a minute and a half to run\n",
    "s1 = \"GGATTACCATTATGGAGGCGGA\"\n",
    "s2 = \"ACTTAGGTAGATTATCCG\"\n",
    "print(lcs(s1, s2, 0, 0))"
   ]
  },
  {
   "cell_type": "code",
   "execution_count": 81,
   "id": "narrative-vienna",
   "metadata": {
    "colab": {
     "base_uri": "https://localhost:8080/",
     "height": 368
    },
    "executionInfo": {
     "elapsed": 1422,
     "status": "error",
     "timestamp": 1674081407254,
     "user": {
      "displayName": "Sriram Sankaranarayanan",
      "userId": "12264367605776763929"
     },
     "user_tz": 420
    },
    "id": "narrative-vienna",
    "outputId": "267ac445-b8a0-4b04-ef00-19ba2f348528"
   },
   "outputs": [
    {
     "name": "stdout",
     "output_type": "stream",
     "text": [
      "time: 296 µs (started: 2024-06-12 17:14:23 +08:00)\n"
     ]
    }
   ],
   "source": [
    "#slightly longer strings will take \"forever\" to run\n",
    "s1 = \"GGATTACACATTACCTATAGGTATAAT\"\n",
    "s2 = \"GGATTTATCTATAAATTACCTATTTATTATATTACCGTATGGTATGC\"\n",
    "# print(lcs(s1, s2, 0, 0))"
   ]
  },
  {
   "cell_type": "code",
   "execution_count": 82,
   "id": "f0a460d3-c68e-4656-9205-19c982b4cebd",
   "metadata": {},
   "outputs": [
    {
     "data": {
      "text/plain": [
       "24"
      ]
     },
     "execution_count": 82,
     "metadata": {},
     "output_type": "execute_result"
    },
    {
     "name": "stdout",
     "output_type": "stream",
     "text": [
      "time: 7.16 ms (started: 2024-06-12 17:14:26 +08:00)\n"
     ]
    }
   ],
   "source": [
    "lcs_graph(s1,s2).max().max()"
   ]
  },
  {
   "cell_type": "code",
   "execution_count": 87,
   "id": "sticky-stream",
   "metadata": {
    "colab": {
     "base_uri": "https://localhost:8080/"
    },
    "executionInfo": {
     "elapsed": 175,
     "status": "ok",
     "timestamp": 1674081411249,
     "user": {
      "displayName": "Sriram Sankaranarayanan",
      "userId": "12264367605776763929"
     },
     "user_tz": 420
    },
    "id": "sticky-stream",
    "outputId": "01e84f3b-4bbb-432d-c60d-0b41503b6092"
   },
   "outputs": [
    {
     "name": "stdout",
     "output_type": "stream",
     "text": [
      "time: 1.03 ms (started: 2024-06-12 17:16:23 +08:00)\n"
     ]
    }
   ],
   "source": [
    "#Let's memoize\n",
    "\n",
    "def memoize_lcs(s1, s2):\n",
    "    m = len(s1)\n",
    "    n = len(s2)\n",
    "    # let's create a memo table and fill it with zeros. This will nicely take care of the base cases.\n",
    "    memo_tbl = [ [0 for j in range(n+1)] for i in range(m+1)]\n",
    "    sol_info = [ ['' for j in range(n+1)] for i in range(m+1)] # This will help us recover solutions\n",
    "\n",
    "    for i in range(m-1, -1, -1): # iterate from m-1 to 0 with a step of -1\n",
    "        for j in range(n-1, -1, -1):\n",
    "            if s1[i] == s2[j]:\n",
    "                memo_tbl[i][j] = memo_tbl[i+1][j+1] + 1\n",
    "                sol_info[i][j] = 'match'\n",
    "            else:\n",
    "                # Python allows us to compare and assign tuples\n",
    "                # This nifty bit of code saves us an if then else condition and assignments\n",
    "                # if you are new to python feel free to write out the logic carefully\n",
    "                memo_tbl[i][j], sol_info[i][j] = max((memo_tbl[i+1][j],'right'), (memo_tbl[i][j+1], 'down'))\n",
    "    # Now let us recover the longest common sub sequence\n",
    "    lcs = '' # initialize it to empty string\n",
    "    match_locations = [] # matches of (i,j)\n",
    "    i = 0\n",
    "    j = 0 # start at top left corner\n",
    "    while (i < m and j < n):\n",
    "        if sol_info[i][j] == 'match':\n",
    "            assert s1[i] == s2[j]\n",
    "            lcs = lcs + s1[i]\n",
    "            match_locations.append((i,j))\n",
    "            i,j = i + 1, j + 1\n",
    "        elif sol_info[i][j] == 'right':\n",
    "            i, j = i+1, j\n",
    "        else:\n",
    "            assert sol_info[i][j] == 'down'\n",
    "            i, j = i, j+1\n",
    "    print(sol_info)\n",
    "    return lcs, match_locations"
   ]
  },
  {
   "cell_type": "code",
   "execution_count": 88,
   "id": "challenging-bosnia",
   "metadata": {
    "colab": {
     "base_uri": "https://localhost:8080/"
    },
    "executionInfo": {
     "elapsed": 127,
     "status": "ok",
     "timestamp": 1674081417239,
     "user": {
      "displayName": "Sriram Sankaranarayanan",
      "userId": "12264367605776763929"
     },
     "user_tz": 420
    },
    "id": "challenging-bosnia",
    "outputId": "5f27619b-4a69-4810-cf71-1bb1967b2259"
   },
   "outputs": [
    {
     "name": "stdout",
     "output_type": "stream",
     "text": [
      "[['right', 'down', 'down', 'match', 'right', 'right', 'right', 'right', 'right', 'right', 'right', ''], ['match', 'right', 'right', 'down', 'match', 'right', 'match', 'match', 'right', 'match', 'match', ''], ['down', 'down', 'match', 'right', 'right', 'match', 'right', 'right', 'right', 'right', 'right', ''], ['down', 'down', 'match', 'down', 'down', 'match', 'right', 'right', 'right', 'right', 'right', ''], ['match', 'down', 'down', 'down', 'match', 'down', 'match', 'match', 'right', 'match', 'match', ''], ['down', 'match', 'down', 'down', 'down', 'down', 'down', 'down', 'match', 'right', 'right', ''], ['match', 'down', 'down', 'down', 'match', 'down', 'match', 'match', 'down', 'match', 'match', ''], ['', '', '', '', '', '', '', '', '', '', '', '']]\n",
      "Longest common subsequence: ATTACA length= 6\n",
      "Matches:\n",
      "\t Char:\t i, j\n",
      "\t A:\t 1, 0\n",
      "\t T:\t 2, 2\n",
      "\t T:\t 3, 5\n",
      "\t A:\t 4, 6\n",
      "\t C:\t 5, 8\n",
      "\t A:\t 6, 9\n",
      "time: 978 µs (started: 2024-06-12 17:16:24 +08:00)\n"
     ]
    }
   ],
   "source": [
    "s1 = \"GATTACA\"\n",
    "s2 = \"ACTGATAACAA\"\n",
    "(lcs, match_locations) = memoize_lcs(s1, s2)\n",
    "print(f'Longest common subsequence: {lcs} length= {len(lcs)}')\n",
    "print('Matches:')\n",
    "print('\\t Char:\\t i, j')\n",
    "for (i, j) in match_locations:\n",
    "    print(f'\\t {s1[i]}:\\t {i}, {j}')\n"
   ]
  },
  {
   "cell_type": "code",
   "execution_count": null,
   "id": "collaborative-chrome",
   "metadata": {
    "colab": {
     "base_uri": "https://localhost:8080/"
    },
    "executionInfo": {
     "elapsed": 114,
     "status": "ok",
     "timestamp": 1674081419802,
     "user": {
      "displayName": "Sriram Sankaranarayanan",
      "userId": "12264367605776763929"
     },
     "user_tz": 420
    },
    "id": "collaborative-chrome",
    "outputId": "645a56df-010b-4ede-e381-9d87526a6edb"
   },
   "outputs": [
    {
     "name": "stdout",
     "output_type": "stream",
     "text": [
      "Longest common subsequence: ACTTAGGAGG length= 10\n",
      "Matches:\n",
      "\t Char:\t i, j\n",
      "\t A:\t 2, 0\n",
      "\t C:\t 6, 1\n",
      "\t T:\t 9, 2\n",
      "\t T:\t 10, 3\n",
      "\t A:\t 11, 4\n",
      "\t G:\t 13, 5\n",
      "\t G:\t 14, 6\n",
      "\t A:\t 15, 8\n",
      "\t G:\t 16, 9\n",
      "\t G:\t 17, 10\n",
      "time: 15 ms (started: 2023-01-18 22:37:01 +00:00)\n"
     ]
    }
   ],
   "source": [
    "s1 = \"GGATTACCATTATGGAGGCGGA\"\n",
    "s2 = \"ACTTAGGTAGG\"\n",
    "(lcs, match_locations) = memoize_lcs(s1, s2)\n",
    "print(f'Longest common subsequence: {lcs} length= {len(lcs)}')\n",
    "print('Matches:')\n",
    "print('\\t Char:\\t i, j')\n",
    "for (i, j) in match_locations:\n",
    "    print(f'\\t {s1[i]}:\\t {i}, {j}')"
   ]
  },
  {
   "cell_type": "code",
   "execution_count": null,
   "id": "reserved-blogger",
   "metadata": {
    "colab": {
     "base_uri": "https://localhost:8080/"
    },
    "executionInfo": {
     "elapsed": 243,
     "status": "ok",
     "timestamp": 1674081426413,
     "user": {
      "displayName": "Sriram Sankaranarayanan",
      "userId": "12264367605776763929"
     },
     "user_tz": 420
    },
    "id": "reserved-blogger",
    "outputId": "cc434eaf-4ea3-49c8-b265-74be2c57d3a2"
   },
   "outputs": [
    {
     "name": "stdout",
     "output_type": "stream",
     "text": [
      "Longest common subsequence: ACTTAGGAGCG length= 11\n",
      "Matches:\n",
      "\t Char:\t i, j\n",
      "\t A:\t 2, 0\n",
      "\t C:\t 6, 1\n",
      "\t T:\t 9, 2\n",
      "\t T:\t 10, 3\n",
      "\t A:\t 11, 4\n",
      "\t G:\t 13, 5\n",
      "\t G:\t 14, 6\n",
      "\t A:\t 15, 8\n",
      "\t G:\t 16, 9\n",
      "\t C:\t 18, 15\n",
      "\t G:\t 20, 17\n",
      "time: 2.26 ms (started: 2023-01-18 22:37:07 +00:00)\n"
     ]
    }
   ],
   "source": [
    "s1 = \"GGATTACCATTATGGAGGCGGA\"\n",
    "s2 = \"ACTTAGGTAGATTATCCG\"\n",
    "(lcs, match_locations) = memoize_lcs(s1, s2)\n",
    "print(f'Longest common subsequence: {lcs} length= {len(lcs)}')\n",
    "print('Matches:')\n",
    "print('\\t Char:\\t i, j')\n",
    "for (i, j) in match_locations:\n",
    "    print(f'\\t {s1[i]}:\\t {i}, {j}')"
   ]
  },
  {
   "cell_type": "code",
   "execution_count": null,
   "id": "numeric-market",
   "metadata": {
    "colab": {
     "base_uri": "https://localhost:8080/"
    },
    "executionInfo": {
     "elapsed": 3,
     "status": "ok",
     "timestamp": 1674081429189,
     "user": {
      "displayName": "Sriram Sankaranarayanan",
      "userId": "12264367605776763929"
     },
     "user_tz": 420
    },
    "id": "numeric-market",
    "outputId": "02e8a334-11fd-41a1-ac2d-8227c96879e8"
   },
   "outputs": [
    {
     "name": "stdout",
     "output_type": "stream",
     "text": [
      "Longest common subsequence: GGATTACAATTACCTATATATAAT length= 24\n",
      "Matches:\n",
      "\t Char:\t i, j\n",
      "\t G:\t 0, 0\n",
      "\t G:\t 1, 1\n",
      "\t A:\t 2, 2\n",
      "\t T:\t 3, 3\n",
      "\t T:\t 4, 4\n",
      "\t A:\t 5, 6\n",
      "\t C:\t 6, 8\n",
      "\t A:\t 7, 10\n",
      "\t A:\t 9, 12\n",
      "\t T:\t 10, 15\n",
      "\t T:\t 11, 16\n",
      "\t A:\t 12, 17\n",
      "\t C:\t 13, 18\n",
      "\t C:\t 14, 19\n",
      "\t T:\t 15, 20\n",
      "\t A:\t 16, 21\n",
      "\t T:\t 17, 22\n",
      "\t A:\t 18, 25\n",
      "\t T:\t 21, 26\n",
      "\t A:\t 22, 28\n",
      "\t T:\t 23, 29\n",
      "\t A:\t 24, 30\n",
      "\t A:\t 25, 33\n",
      "\t T:\t 26, 37\n",
      "time: 4.08 ms (started: 2023-01-18 22:37:10 +00:00)\n"
     ]
    }
   ],
   "source": [
    "#slightly longer strings will run instantaneously given that we are memoizing\n",
    "s1 = \"GGATTACACATTACCTATAGGTATAAT\"\n",
    "s2 = \"GGATTTATCTATAAATTACCTATTTATTATATTACCGTATGGTATGC\"\n",
    "(lcs, match_locations) = memoize_lcs(s1, s2)\n",
    "print(f'Longest common subsequence: {lcs} length= {len(lcs)}')\n",
    "print('Matches:')\n",
    "print('\\t Char:\\t i, j')\n",
    "for (i, j) in match_locations:\n",
    "    print(f'\\t {s1[i]}:\\t {i}, {j}')"
   ]
  },
  {
   "cell_type": "code",
   "execution_count": null,
   "id": "printable-proof",
   "metadata": {
    "id": "printable-proof"
   },
   "outputs": [],
   "source": []
  }
 ],
 "metadata": {
  "colab": {
   "provenance": []
  },
  "kernelspec": {
   "display_name": "Python 3 (ipykernel)",
   "language": "python",
   "name": "python3"
  },
  "language_info": {
   "codemirror_mode": {
    "name": "ipython",
    "version": 3
   },
   "file_extension": ".py",
   "mimetype": "text/x-python",
   "name": "python",
   "nbconvert_exporter": "python",
   "pygments_lexer": "ipython3",
   "version": "3.10.6"
  }
 },
 "nbformat": 4,
 "nbformat_minor": 5
}
