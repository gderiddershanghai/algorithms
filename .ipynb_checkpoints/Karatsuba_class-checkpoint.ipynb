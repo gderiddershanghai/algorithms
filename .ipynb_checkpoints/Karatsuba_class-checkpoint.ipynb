{
 "cells": [
  {
   "cell_type": "code",
   "execution_count": 7,
   "id": "54fa161e-ff69-451d-9f04-b1a32c858a72",
   "metadata": {},
   "outputs": [],
   "source": [
    "class Karatsuba:\n",
    "    @staticmethod\n",
    "    def product(x, y):\n",
    "        # Convert input data to strings\n",
    "        x_string = str(x)\n",
    "        y_string = str(y)\n",
    "\n",
    "        # Define the longest string and set it up as 'n'\n",
    "        n = max(len(x_string), len(y_string))\n",
    "\n",
    "        # Return simple product if there are one-digit numbers\n",
    "        if n == 1:\n",
    "            return x * y\n",
    "\n",
    "        # Middle point\n",
    "        middle = (n + 1) // 2\n",
    "        print('middle: ', middle)\n",
    "        \n",
    "        # Define a, b, c, d\n",
    "        if n > len(x_string):\n",
    "            a = 0\n",
    "            b = x\n",
    "        else:\n",
    "            a = int(x_string[:-middle]) if x_string[:-middle] else 0\n",
    "            b = int(x_string[-middle:]) if x_string[-middle:] else 0\n",
    "\n",
    "        if n > len(y_string):\n",
    "            c = 0\n",
    "            d = y\n",
    "        else:\n",
    "            c = int(y_string[:-middle]) if y_string[:-middle] else 0\n",
    "            d = int(y_string[-middle:]) if y_string[-middle:] else 0\n",
    "\n",
    "        # Recursive calculations\n",
    "        ac = Karatsuba.product(a, c)\n",
    "        bd = Karatsuba.product(b, d)\n",
    "        gauss_trick = Karatsuba.product(a + b, c + d)\n",
    "\n",
    "        gauss_trick = gauss_trick - ac - bd\n",
    "\n",
    "        # The power must be always even, so make it this way\n",
    "        pow = n - (n % 2)\n",
    "        print('pow: ',pow)\n",
    "\n",
    "        # The main calculation by Karatsuba method\n",
    "        return ac * (10 ** pow) + gauss_trick * (10 ** (pow // 2)) + bd\n",
    "\n",
    "\n"
   ]
  },
  {
   "cell_type": "code",
   "execution_count": 16,
   "id": "6cc9ee8e-c615-4575-80a3-714f843d2e93",
   "metadata": {},
   "outputs": [
    {
     "name": "stdout",
     "output_type": "stream",
     "text": [
      "middle:  2\n",
      "middle:  1\n",
      "middle:  1\n",
      "pow:  2\n",
      "pow:  2\n",
      "middle:  1\n",
      "pow:  2\n",
      "pow:  2\n"
     ]
    },
    {
     "data": {
      "text/plain": [
       "1067"
      ]
     },
     "execution_count": 16,
     "metadata": {},
     "output_type": "execute_result"
    }
   ],
   "source": [
    "x=11\n",
    "y=547\n",
    "Karatsuba().product(x, y)"
   ]
  },
  {
   "cell_type": "code",
   "execution_count": null,
   "id": "a979925b-f73d-4d9e-ac21-57c6534a7818",
   "metadata": {},
   "outputs": [],
   "source": [
    "\n"
   ]
  },
  {
   "cell_type": "code",
   "execution_count": 107,
   "id": "9884c4b4-13a1-43e3-a2f2-23d424bf239c",
   "metadata": {},
   "outputs": [],
   "source": [
    "class MergeSort:\n",
    "\n",
    "    @staticmethod\n",
    "    def merge(left, right):\n",
    "        result = []\n",
    "    \n",
    "        while left and right:\n",
    "            if left[0] <= right[0]:\n",
    "                result.append(left[0])\n",
    "                left = left[1:]\n",
    "            else:\n",
    "                result.append(right[0])\n",
    "                right = right[1:]\n",
    "    \n",
    "        # // Either left or right may have elements left; consume them.\n",
    "        # // (Only one of the following loops will actually be entered.)\n",
    "        while left:\n",
    "            result.append(left[0])\n",
    "            left = left[1:]\n",
    "        while right:\n",
    "            result.append(right[0])\n",
    "            right = right[1:]\n",
    "        return result\n",
    "\n",
    "    \n",
    "    @staticmethod\n",
    "    def sort(x):\n",
    "        n = len(x)\n",
    "        if n ==1:\n",
    "            return x\n",
    "        c = [] #output array\n",
    "        \n",
    "        midpoint = (n + 1) // 2\n",
    "        left = x[:midpoint]\n",
    "        right = x[midpoint:]\n",
    "        # print(left, right)\n",
    "\n",
    "        i,j = 0,0\n",
    "        for k in range(n-1):\n",
    "            # print('k : {}, i : {}, j : {}, midpoint: {}'.format(k, i, j, midpoint))\n",
    "\n",
    "            # print('points', left[i] , right[j])\n",
    "            if left[i] <= right[j]:\n",
    "                c.append(left[i])\n",
    "                i+=1\n",
    "                if i==midpoint:\n",
    "                    c.extend(right[j:])\n",
    "                    break\n",
    "            else:\n",
    "                c.append(right[j])\n",
    "                j+=1\n",
    "                if j==midpoint:\n",
    "                    c.extend(left[i:])\n",
    "                    break\n",
    "        left = MergeSort.sort(left)\n",
    "        print('left', c)\n",
    "        right = MergeSort.sort(right)\n",
    "        return MergeSort.merge(left,right)"
   ]
  },
  {
   "cell_type": "code",
   "execution_count": null,
   "id": "444d30d8-023a-4c2b-881d-acd2936fa2e3",
   "metadata": {},
   "outputs": [],
   "source": [
    "class MergeSort:\n",
    "\n",
    "    @staticmethod\n",
    "    def merge(left, right):\n",
    "        result = []\n",
    "        while left and right:\n",
    "            if left[0] <= right[0]:\n",
    "                result.append(left[0])\n",
    "                left = left[1:]\n",
    "            else:\n",
    "                result.append(right[0])\n",
    "                right = right[1:]\n",
    "        # If there are remaining elements in left, add them to result\n",
    "        while left:\n",
    "            result.append(left[0])\n",
    "            left = left[1:]\n",
    "        # If there are remaining elements in right, add them to result\n",
    "        while right:\n",
    "            result.append(right[0])\n",
    "            right = right[1:]\n",
    "        return result\n",
    "\n",
    "    @staticmethod\n",
    "    def sort(x):\n",
    "        # Base case: a list with 0 or 1 elements is already sorted\n",
    "        if len(x) <= 1:\n",
    "            return x\n",
    "        # Find the midpoint of the list\n",
    "        midpoint = len(x) // 2\n",
    "        # Divide the list into two halves\n",
    "        left = x[:midpoint]\n",
    "        right = x[midpoint:]\n",
    "        # Recursively sort both halves\n",
    "        left = MergeSort.sort(left)\n",
    "        right = MergeSort.sort(right)\n",
    "        # Merge the two sorted halves\n",
    "        return MergeSort.merge(left, right)\n",
    "\n",
    "# Example usage\n",
    "arr = [38, 27, 43, 3, 9, 82, 10]\n",
    "sorted_arr = MergeSort.sort(arr)\n",
    "print(sorted_arr)  # Output: [3, 9, 10, 27, 38, 43, 82]\n"
   ]
  },
  {
   "cell_type": "code",
   "execution_count": 108,
   "id": "40357162-44dc-4c2a-acea-4f5be856b22a",
   "metadata": {},
   "outputs": [
    {
     "name": "stdout",
     "output_type": "stream",
     "text": [
      "left [4, 8]\n",
      "left [3, 1, 4, 8]\n",
      "left [1, 3]\n",
      "left [4, 6, 5, 7, 2, 8, 3, 1]\n",
      "left [5, 6]\n",
      "left [6, 5, 7, 2]\n",
      "left [2, 7]\n"
     ]
    },
    {
     "data": {
      "text/plain": [
       "[1, 2, 3, 4, 5, 6, 7, 8]"
      ]
     },
     "execution_count": 108,
     "metadata": {},
     "output_type": "execute_result"
    }
   ],
   "source": [
    "x = [4,8,3,1,6,5,7,2] \n",
    "MergeSort().sort(x)"
   ]
  },
  {
   "cell_type": "code",
   "execution_count": null,
   "id": "efbd93e0-2496-4afb-a9a3-52211ae66d69",
   "metadata": {},
   "outputs": [],
   "source": [
    "[4, 6, 5, 7, 2, 8, 3, 1]\n"
   ]
  },
  {
   "cell_type": "code",
   "execution_count": null,
   "id": "d35bde8f-c284-4be9-9a19-aa31047bb4fe",
   "metadata": {},
   "outputs": [],
   "source": []
  }
 ],
 "metadata": {
  "kernelspec": {
   "display_name": "Python 3 (ipykernel)",
   "language": "python",
   "name": "python3"
  },
  "language_info": {
   "codemirror_mode": {
    "name": "ipython",
    "version": 3
   },
   "file_extension": ".py",
   "mimetype": "text/x-python",
   "name": "python",
   "nbconvert_exporter": "python",
   "pygments_lexer": "ipython3",
   "version": "3.10.6"
  }
 },
 "nbformat": 4,
 "nbformat_minor": 5
}
