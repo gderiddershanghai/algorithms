{
 "cells": [
  {
   "cell_type": "code",
   "execution_count": 2,
   "id": "057fe69c-8c93-48fb-b4cc-37f9923ad477",
   "metadata": {},
   "outputs": [
    {
     "name": "stdout",
     "output_type": "stream",
     "text": [
      "Euler's Totient Function φ(33) = 20\n"
     ]
    }
   ],
   "source": [
    "def gcd(a, b):\n",
    "    while b:\n",
    "        a, b = b, a % b\n",
    "    return a\n",
    "\n",
    "def euler_totient(n):\n",
    "    count = 0\n",
    "    for i in range(1, n + 1):\n",
    "        if gcd(n, i) == 1:\n",
    "            count += 1\n",
    "    return count\n",
    "\n",
    "# Example usage\n",
    "n = 33\n",
    "print(f\"Euler's Totient Function φ({n}) = {euler_totient(n)}\")\n"
   ]
  },
  {
   "cell_type": "code",
   "execution_count": 6,
   "id": "317cbd3d-436d-467a-8b14-b8cde7a94de5",
   "metadata": {},
   "outputs": [
    {
     "data": {
      "text/plain": [
       "4"
      ]
     },
     "execution_count": 6,
     "metadata": {},
     "output_type": "execute_result"
    }
   ],
   "source": [
    "euler_totient(12)"
   ]
  },
  {
   "cell_type": "code",
   "execution_count": 4,
   "id": "f958f1f9-5a43-4017-9b17-f76cda494af4",
   "metadata": {},
   "outputs": [
    {
     "data": {
      "text/plain": [
       "1"
      ]
     },
     "execution_count": 4,
     "metadata": {},
     "output_type": "execute_result"
    }
   ],
   "source": [
    "(7**20)%33"
   ]
  },
  {
   "cell_type": "code",
   "execution_count": 5,
   "id": "0f5fbc86-e165-4d36-9a0f-70e18e1c01cb",
   "metadata": {},
   "outputs": [
    {
     "data": {
      "text/plain": [
       "1"
      ]
     },
     "execution_count": 5,
     "metadata": {},
     "output_type": "execute_result"
    }
   ],
   "source": [
    "gcd(7, 20)"
   ]
  }
 ],
 "metadata": {
  "kernelspec": {
   "display_name": "Python 3 (ipykernel)",
   "language": "python",
   "name": "python3"
  },
  "language_info": {
   "codemirror_mode": {
    "name": "ipython",
    "version": 3
   },
   "file_extension": ".py",
   "mimetype": "text/x-python",
   "name": "python",
   "nbconvert_exporter": "python",
   "pygments_lexer": "ipython3",
   "version": "3.10.6"
  }
 },
 "nbformat": 4,
 "nbformat_minor": 5
}
