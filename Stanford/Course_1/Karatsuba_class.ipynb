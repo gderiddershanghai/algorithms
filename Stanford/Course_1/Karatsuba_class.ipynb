{
 "cells": [
  {
   "cell_type": "code",
   "execution_count": 7,
   "id": "54fa161e-ff69-451d-9f04-b1a32c858a72",
   "metadata": {},
   "outputs": [],
   "source": [
    "class Karatsuba:\n",
    "    @staticmethod\n",
    "    def product(x, y):\n",
    "        # Convert input data to strings\n",
    "        x_string = str(x)\n",
    "        y_string = str(y)\n",
    "\n",
    "        # Define the longest string and set it up as 'n'\n",
    "        n = max(len(x_string), len(y_string))\n",
    "\n",
    "        # Return simple product if there are one-digit numbers\n",
    "        if n == 1:\n",
    "            return x * y\n",
    "\n",
    "        # Middle point\n",
    "        middle = (n + 1) // 2\n",
    "        print('middle: ', middle)\n",
    "        \n",
    "        # Define a, b, c, d\n",
    "        if n > len(x_string):\n",
    "            a = 0\n",
    "            b = x\n",
    "        else:\n",
    "            a = int(x_string[:-middle]) if x_string[:-middle] else 0\n",
    "            b = int(x_string[-middle:]) if x_string[-middle:] else 0\n",
    "\n",
    "        if n > len(y_string):\n",
    "            c = 0\n",
    "            d = y\n",
    "        else:\n",
    "            c = int(y_string[:-middle]) if y_string[:-middle] else 0\n",
    "            d = int(y_string[-middle:]) if y_string[-middle:] else 0\n",
    "\n",
    "        # Recursive calculations\n",
    "        ac = Karatsuba.product(a, c)\n",
    "        bd = Karatsuba.product(b, d)\n",
    "        gauss_trick = Karatsuba.product(a + b, c + d)\n",
    "\n",
    "        gauss_trick = gauss_trick - ac - bd\n",
    "\n",
    "        # The power must be always even, so make it this way\n",
    "        pow = n - (n % 2)\n",
    "        print('pow: ',pow)\n",
    "\n",
    "        # The main calculation by Karatsuba method\n",
    "        return ac * (10 ** pow) + gauss_trick * (10 ** (pow // 2)) + bd\n",
    "\n",
    "\n"
   ]
  },
  {
   "cell_type": "code",
   "execution_count": 143,
   "id": "24b322e2-985b-4b01-911c-1d70adca7eb9",
   "metadata": {},
   "outputs": [
    {
     "name": "stdout",
     "output_type": "stream",
     "text": [
      "middle:  2\n",
      "pow:  2\n"
     ]
    },
    {
     "data": {
      "text/plain": [
       "100"
      ]
     },
     "execution_count": 143,
     "metadata": {},
     "output_type": "execute_result"
    }
   ],
   "source": [
    "x=100\n",
    "y=100\n",
    "Karatsuba.product(x,y)"
   ]
  },
  {
   "cell_type": "code",
   "execution_count": null,
   "id": "e115a762-7c83-4e72-800c-31e073b049e6",
   "metadata": {},
   "outputs": [],
   "source": []
  }
 ],
 "metadata": {
  "kernelspec": {
   "display_name": "Python 3 (ipykernel)",
   "language": "python",
   "name": "python3"
  },
  "language_info": {
   "codemirror_mode": {
    "name": "ipython",
    "version": 3
   },
   "file_extension": ".py",
   "mimetype": "text/x-python",
   "name": "python",
   "nbconvert_exporter": "python",
   "pygments_lexer": "ipython3",
   "version": "3.10.6"
  }
 },
 "nbformat": 4,
 "nbformat_minor": 5
}
