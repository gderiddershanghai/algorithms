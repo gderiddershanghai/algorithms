{
 "cells": [
  {
   "cell_type": "markdown",
   "id": "e7e82a14-09e6-4839-88fc-ebdbcfafd823",
   "metadata": {},
   "source": [
    "# Naive algorithm:\r\n",
    "\r\n"
   ]
  },
  {
   "cell_type": "code",
   "execution_count": null,
   "id": "fa0acbb5-59e7-4e30-9cfd-41600bcaee80",
   "metadata": {},
   "outputs": [],
   "source": [
    "def gcd(a, b):\n",
    "  assert a >= 0 and b >= 0 and a + b > 0\n",
    "\n",
    "  if a == 0 or b == 0:\n",
    "    return max(a, b)\n",
    "\n",
    "  for d in range(min(a, b), 0, -1):\n",
    "    if a % d == 0 and b % d == 0:\n",
    "      return d\n",
    "\n",
    "  return 1\n",
    "\n",
    "print(gcd(0, 1))\n",
    "print(gcd(24, 16))\n",
    "# The following call would take too long\n",
    "#print(gcd(790933790547, 1849639579327))"
   ]
  },
  {
   "cell_type": "markdown",
   "id": "c5f3e723-03a9-41a4-840d-2f7aa4fec375",
   "metadata": {},
   "source": [
    "# Euclid's algorithm, slow implementation:\r\n",
    "\r\n"
   ]
  },
  {
   "cell_type": "code",
   "execution_count": null,
   "id": "eed23ced-89ae-4fc6-b8b3-a8f2759ff9c6",
   "metadata": {},
   "outputs": [],
   "source": [
    "def gcd(a, b):\n",
    "  assert a >= 0 and b >= 0 and a + b > 0\n",
    "\n",
    "  while a > 0 and b > 0:\n",
    "    print(\"a: {} | b: {}\".format(a,b))\n",
    "    if a >= b:\n",
    "      a = a - b\n",
    "    else:\n",
    "      b = b - a\n",
    "\n",
    "  return max(a, b)\n",
    "\n",
    "\n",
    "# print(gcd(24, 16))\n",
    "print(gcd(162, 27))\n",
    "# print(gcd(790933790547, 1849639579327))\n",
    "# The following call would take too long\n",
    "#print(gcd(790933790548, 2))\n",
    "\n"
   ]
  },
  {
   "cell_type": "markdown",
   "id": "55fbcdbb-1fb6-464c-9457-5112a800049a",
   "metadata": {},
   "source": [
    "# Euclid's algorithm, efficient implementation:\r\n",
    "\r\n"
   ]
  },
  {
   "cell_type": "code",
   "execution_count": null,
   "id": "7ba7bda3-0790-4746-80ae-650ac6c4f1ec",
   "metadata": {},
   "outputs": [],
   "source": [
    "def gcd(a, b):\n",
    "  assert a >= 0 and b >= 0 and a + b > 0\n",
    "\n",
    "  while a > 0 and b > 0:\n",
    "    print(\"a: {} | b: {}\".format(a,b))\n",
    "    if a >= b:\n",
    "      a = a % b\n",
    "    else:\n",
    "      b = b % a\n",
    "\n",
    "  return max(a, b)\n",
    "\n",
    "\n",
    "# print(gcd(24, 16))\n",
    "print(gcd(1625, 169))\n",
    "# print(gcd(790933790547, 1849639579327))\n",
    "# print(gcd(790933790548, 2))"
   ]
  },
  {
   "cell_type": "markdown",
   "id": "26824e73-64c8-4dd8-b3a5-67f1c46af0af",
   "metadata": {},
   "source": [
    "# Extended Euclid's Algorithm: Code\r\n",
    "The function extended_gcd(a,b) returns three values: the greatest common divisor of a and b: d=gcd(a,b); and two numbers x and y such tha\n",
    "- d = ax + byt"
   ]
  },
  {
   "cell_type": "code",
   "execution_count": null,
   "id": "3ae161dc-d077-46cd-b744-6c5d811cc24f",
   "metadata": {},
   "outputs": [],
   "source": [
    "def extended_gcd(a, b):\n",
    "  assert a >= b and b >= 0 and a + b > 0\n",
    "\n",
    "  if b == 0:\n",
    "    d, x, y = a, 1, 0\n",
    "  else:\n",
    "    (d, p, q) = extended_gcd(b, a % b)\n",
    "    print(d,p,q)\n",
    "    x = q\n",
    "    y = p - q * (a // b)\n",
    "\n",
    "  assert a % d == 0 and b % d == 0\n",
    "  assert d == a * x + b * y\n",
    "  return (d, x, y)\n",
    "\n",
    "# extended_gcd(10,6)\n",
    "# extended_gcd(7,5)\n",
    "# extended_gcd(391,299)\n",
    "extended_gcd(239,201)\n"
   ]
  }
 ],
 "metadata": {
  "kernelspec": {
   "display_name": "Python 3 (ipykernel)",
   "language": "python",
   "name": "python3"
  },
  "language_info": {
   "codemirror_mode": {
    "name": "ipython",
    "version": 3
   },
   "file_extension": ".py",
   "mimetype": "text/x-python",
   "name": "python",
   "nbconvert_exporter": "python",
   "pygments_lexer": "ipython3",
   "version": "3.10.6"
  }
 },
 "nbformat": 4,
 "nbformat_minor": 5
}
