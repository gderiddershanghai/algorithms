{
 "cells": [
  {
   "cell_type": "markdown",
   "id": "2ba624f6-e72d-4cc4-aadc-23b1627318dc",
   "metadata": {},
   "source": [
    "## Least Common Multiple"
   ]
  },
  {
   "cell_type": "code",
   "execution_count": 2,
   "id": "a2bc577f-425b-4359-afb2-be1655b5229c",
   "metadata": {},
   "outputs": [],
   "source": [
    "def gcd(a, b):\n",
    "    while b != 0:\n",
    "        a, b = b, a % b\n",
    "    return a\n",
    "\n",
    "def lcm(a, b):\n",
    "    return abs(a * b) // gcd(a, b)"
   ]
  },
  {
   "cell_type": "code",
   "execution_count": 3,
   "id": "cb2fb2bb-fd75-46a3-bdb8-095a34cf4d54",
   "metadata": {},
   "outputs": [
    {
     "data": {
      "text/plain": [
       "1384518"
      ]
     },
     "execution_count": 3,
     "metadata": {},
     "output_type": "execute_result"
    }
   ],
   "source": [
    "a = 654\n",
    "b = 4234\n",
    "lcm(a, b)"
   ]
  },
  {
   "cell_type": "markdown",
   "id": "b9a2980a-f8de-49d4-88f9-95c425e15214",
   "metadata": {},
   "source": [
    "## Diophantine Equations"
   ]
  },
  {
   "cell_type": "code",
   "execution_count": 10,
   "id": "2b3d17fe-bdfb-44c2-8ea0-1b9ffb80a3f7",
   "metadata": {},
   "outputs": [
    {
     "name": "stdout",
     "output_type": "stream",
     "text": [
      "a: 391 | b: 299\n",
      "a: 92 | b: 299\n",
      "a: 92 | b: 23\n",
      "23 1 0\n",
      "23 0 1\n",
      "23 1 -3\n",
      "d and c 23 -69\n",
      "Solution: x = 9, y = -12\n"
     ]
    }
   ],
   "source": [
    "def gcd(a, b):\n",
    "  assert a >= 0 and b >= 0 and a + b > 0\n",
    "\n",
    "  while a > 0 and b > 0:\n",
    "    print(\"a: {} | b: {}\".format(a,b))\n",
    "    if a >= b:\n",
    "      a = a % b\n",
    "    else:\n",
    "      b = b % a\n",
    "\n",
    "  return max(a, b)\n",
    "\n",
    "def extended_gcd(a, b):\n",
    "  assert a >= b and b >= 0 and a + b > 0\n",
    "\n",
    "  if b == 0:\n",
    "    d, x, y = a, 1, 0\n",
    "  else:\n",
    "    (d, p, q) = extended_gcd(b, a % b)\n",
    "    print(d,p,q)\n",
    "    x = q\n",
    "    y = p - q * (a // b)\n",
    "\n",
    "  assert a % d == 0 and b % d == 0\n",
    "  assert d == a * x + b * y\n",
    "  return (d, x, y)\n",
    "    \n",
    "def diophantine(a, b, c):\n",
    "  assert c % gcd(a, b) == 0\n",
    "  # return (x, y) such that a * x + b * y = c\n",
    "  # return (???, ???)\n",
    "  if b == 0:\n",
    "    d, x, y = a, 1, 0\n",
    "  else:\n",
    "    (d, p, q) = extended_gcd(b, a % b)\n",
    "    print(d,p,q)\n",
    "    x = q\n",
    "    y = p - q * (a // b)\n",
    "  print('d and c',d,c)\n",
    "  assert a % d == 0 and b % d == 0\n",
    "  assert d == a * x + b * y\n",
    "  mult = c/d\n",
    "  return (int(x*mult), int(y*mult))\n",
    "a, b, c = 391, 299, -69\n",
    "x, y = diophantine(a, b, c)\n",
    "print(f\"Solution: x = {x}, y = {y}\")"
   ]
  },
  {
   "cell_type": "code",
   "execution_count": 11,
   "id": "9b20f471-59b7-43d4-a97a-9f07e1bb5720",
   "metadata": {},
   "outputs": [
    {
     "name": "stdout",
     "output_type": "stream",
     "text": [
      "a: 391 | b: 299\n",
      "a: 92 | b: 299\n",
      "a: 92 | b: 23\n",
      "23 1 0\n",
      "23 0 1\n",
      "23 1 -3\n",
      "Solution: x = 9.0, y = -12.0\n"
     ]
    }
   ],
   "source": [
    "def diophantine(a, b, c):\n",
    "    assert c % gcd(a, b) == 0\n",
    "  # return (x, y) such that a * x + b * y = c\n",
    "  # return (???, ???)\n",
    "    (d, x, y) = extended_gcd(a, b)\n",
    "    x0,y0 = x*(c/d), y*(c/d)\n",
    "    return x0,y0\n",
    "a, b, c = 391, 299, -69\n",
    "x, y = diophantine(a, b, c)\n",
    "print(f\"Solution: x = {x}, y = {y}\")"
   ]
  },
  {
   "cell_type": "code",
   "execution_count": 9,
   "id": "d273e27a-ff80-45cd-8f2d-3c162a606263",
   "metadata": {},
   "outputs": [
    {
     "name": "stdout",
     "output_type": "stream",
     "text": [
      "a: 391 | b: 299\n",
      "a: 92 | b: 299\n",
      "a: 92 | b: 23\n",
      "23 1 0\n",
      "23 0 1\n",
      "23 1 -3\n",
      "d and c 23 -69\n",
      "Solution: x = 9, y = -12\n"
     ]
    }
   ],
   "source": [
    "a, b, c = 391, 299, -69\n",
    "x, y = diophantine(a, b, c)\n",
    "print(f\"Solution: x = {x}, y = {y}\")\n"
   ]
  },
  {
   "cell_type": "markdown",
   "id": "753f612a-aabe-4538-b0d4-f2dd9ac4ccb1",
   "metadata": {},
   "source": [
    "## Modular Division"
   ]
  },
  {
   "cell_type": "code",
   "execution_count": 18,
   "id": "10db524d-e5dd-4cb3-8b9a-70fdc31f47fd",
   "metadata": {},
   "outputs": [
    {
     "name": "stdout",
     "output_type": "stream",
     "text": [
      "1 -1\n",
      "---  3\n",
      "---  3\n",
      "10\n"
     ]
    }
   ],
   "source": [
    "def gcd(a, b):\n",
    "  assert a >= 0 and b >= 0 and a + b > 0\n",
    "\n",
    "  while a > 0 and b > 0:\n",
    "    if a >= b:\n",
    "      a = a % b\n",
    "    else:\n",
    "      b = b % a\n",
    "  return max(a, b)\n",
    "\n",
    "def extended_gcd(a, b):\n",
    "    if a == 0:\n",
    "        return (b, 0, 1)\n",
    "    else:\n",
    "        gcd, x, y = extended_gcd(b % a, a)\n",
    "        return (gcd, y - (b // a) * x, x)\n",
    "\n",
    "def divide(a, b, n):\n",
    "    assert n > 1 and a > 0 and extended_gcd(a, n)[0] == 1\n",
    "\n",
    "    # Find the modular inverse of a modulo n\n",
    "    d, inv_a, y = extended_gcd(a, n)\n",
    "    print(d, y)\n",
    "    print('--- ',inv_a)\n",
    "    inv_a %= n  # Ensure the modular inverse is positive\n",
    "    print('--- ',inv_a)\n",
    "\n",
    "    # Multiply b by the modular inverse of a modulo n\n",
    "    x = (b * inv_a) % n\n",
    "    return x\n",
    "\n",
    "# Test the function\n",
    "a, b, n = 4, 7, 11\n",
    "print(divide(a, b, n))  # Example usage"
   ]
  },
  {
   "cell_type": "code",
   "execution_count": 16,
   "id": "300c5a17-9638-4195-8b17-b21a9662989c",
   "metadata": {},
   "outputs": [
    {
     "data": {
      "text/plain": [
       "7"
      ]
     },
     "execution_count": 16,
     "metadata": {},
     "output_type": "execute_result"
    }
   ],
   "source": [
    "40%11"
   ]
  }
 ],
 "metadata": {
  "kernelspec": {
   "display_name": "Python 3 (ipykernel)",
   "language": "python",
   "name": "python3"
  },
  "language_info": {
   "codemirror_mode": {
    "name": "ipython",
    "version": 3
   },
   "file_extension": ".py",
   "mimetype": "text/x-python",
   "name": "python",
   "nbconvert_exporter": "python",
   "pygments_lexer": "ipython3",
   "version": "3.10.6"
  }
 },
 "nbformat": 4,
 "nbformat_minor": 5
}
