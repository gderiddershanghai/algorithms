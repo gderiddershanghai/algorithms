{
 "cells": [
  {
   "cell_type": "code",
   "execution_count": 7,
   "id": "0c46b0a8-9109-4ed2-9ace-200d0fdfbc96",
   "metadata": {},
   "outputs": [
    {
     "name": "stdout",
     "output_type": "stream",
     "text": [
      "If x=3 mod 5 and x=7 mod 12, then x=43\n",
      "If x=3 mod 10 and x=8 mod 13, then x=73\n",
      "If x=3 mod 10 and x=1 mod 14, then x=113\n"
     ]
    },
    {
     "ename": "AssertionError",
     "evalue": "",
     "output_type": "error",
     "traceback": [
      "\u001b[0;31m---------------------------------------------------------------------------\u001b[0m",
      "\u001b[0;31mAssertionError\u001b[0m                            Traceback (most recent call last)",
      "Cell \u001b[0;32mIn [7], line 22\u001b[0m\n\u001b[1;32m     13\u001b[0m     \u001b[38;5;28;01mreturn\u001b[39;00m (n1 \u001b[38;5;241m*\u001b[39m x\u001b[38;5;241m+\u001b[39mr1) \u001b[38;5;241m%\u001b[39m (n1 \u001b[38;5;241m*\u001b[39m n2)\n\u001b[1;32m     16\u001b[0m \u001b[38;5;28;01mfor\u001b[39;00m n1, r1, n2, r2 \u001b[38;5;129;01min\u001b[39;00m (\n\u001b[1;32m     17\u001b[0m     (\u001b[38;5;241m5\u001b[39m, \u001b[38;5;241m3\u001b[39m, \u001b[38;5;241m12\u001b[39m, \u001b[38;5;241m7\u001b[39m),\n\u001b[1;32m     18\u001b[0m     (\u001b[38;5;241m10\u001b[39m, \u001b[38;5;241m3\u001b[39m, \u001b[38;5;241m13\u001b[39m, \u001b[38;5;241m8\u001b[39m),\n\u001b[1;32m     19\u001b[0m     (\u001b[38;5;241m10\u001b[39m, \u001b[38;5;241m3\u001b[39m, \u001b[38;5;241m14\u001b[39m, \u001b[38;5;241m1\u001b[39m),\n\u001b[1;32m     20\u001b[0m     (\u001b[38;5;241m10\u001b[39m, \u001b[38;5;241m3\u001b[39m, \u001b[38;5;241m14\u001b[39m, \u001b[38;5;241m2\u001b[39m)\n\u001b[1;32m     21\u001b[0m ):\n\u001b[0;32m---> 22\u001b[0m     result \u001b[38;5;241m=\u001b[39m \u001b[43mchinese_remainder_theorem\u001b[49m\u001b[43m(\u001b[49m\u001b[43mn1\u001b[49m\u001b[43m,\u001b[49m\u001b[43m \u001b[49m\u001b[43mr1\u001b[49m\u001b[43m,\u001b[49m\u001b[43m \u001b[49m\u001b[43mn2\u001b[49m\u001b[43m,\u001b[49m\u001b[43m \u001b[49m\u001b[43mr2\u001b[49m\u001b[43m)\u001b[49m\n\u001b[1;32m     23\u001b[0m     \u001b[38;5;28mprint\u001b[39m(\u001b[38;5;124mf\u001b[39m\u001b[38;5;124m'\u001b[39m\u001b[38;5;124mIf x=\u001b[39m\u001b[38;5;132;01m{\u001b[39;00mr1\u001b[38;5;132;01m}\u001b[39;00m\u001b[38;5;124m mod \u001b[39m\u001b[38;5;132;01m{\u001b[39;00mn1\u001b[38;5;132;01m}\u001b[39;00m\u001b[38;5;124m and x=\u001b[39m\u001b[38;5;132;01m{\u001b[39;00mr2\u001b[38;5;132;01m}\u001b[39;00m\u001b[38;5;124m mod \u001b[39m\u001b[38;5;132;01m{\u001b[39;00mn2\u001b[38;5;132;01m}\u001b[39;00m\u001b[38;5;124m, then x=\u001b[39m\u001b[38;5;132;01m{\u001b[39;00mresult\u001b[38;5;132;01m}\u001b[39;00m\u001b[38;5;124m'\u001b[39m)\n",
      "Cell \u001b[0;32mIn [7], line 9\u001b[0m, in \u001b[0;36mchinese_remainder_theorem\u001b[0;34m(n1, r1, n2, r2)\u001b[0m\n\u001b[1;32m      7\u001b[0m y \u001b[38;5;241m=\u001b[39m \u001b[38;5;241m-\u001b[39my\n\u001b[1;32m      8\u001b[0m \u001b[38;5;28;01massert\u001b[39;00m n1 \u001b[38;5;241m*\u001b[39m x \u001b[38;5;241m-\u001b[39m n2 \u001b[38;5;241m*\u001b[39m y \u001b[38;5;241m==\u001b[39m d\n\u001b[0;32m----> 9\u001b[0m \u001b[38;5;28;01massert\u001b[39;00m (r2 \u001b[38;5;241m-\u001b[39m r1) \u001b[38;5;241m%\u001b[39m d \u001b[38;5;241m==\u001b[39m \u001b[38;5;241m0\u001b[39m\n\u001b[1;32m     10\u001b[0m x \u001b[38;5;241m*\u001b[39m\u001b[38;5;241m=\u001b[39m (r2\u001b[38;5;241m-\u001b[39mr1) \u001b[38;5;241m/\u001b[39m\u001b[38;5;241m/\u001b[39m d\n\u001b[1;32m     11\u001b[0m y \u001b[38;5;241m*\u001b[39m\u001b[38;5;241m=\u001b[39m (r2\u001b[38;5;241m-\u001b[39mr1) \u001b[38;5;241m/\u001b[39m\u001b[38;5;241m/\u001b[39m d\n",
      "\u001b[0;31mAssertionError\u001b[0m: "
     ]
    }
   ],
   "source": [
    "from sympy import gcdex\n",
    "\n",
    "\n",
    "def chinese_remainder_theorem(n1, r1, n2, r2):\n",
    "    x, y, d = gcdex(n1, n2)\n",
    "    assert n1 * x + n2 * y == d  # == gcd(n1, n2)\n",
    "    y = -y\n",
    "    assert n1 * x - n2 * y == d\n",
    "    assert (r2 - r1) % d == 0\n",
    "    x *= (r2-r1) // d\n",
    "    y *= (r2-r1) // d\n",
    "    assert n1 * x - n2 * y == r2 - r1\n",
    "    return (n1 * x+r1) % (n1 * n2)\n",
    "\n",
    "\n",
    "for n1, r1, n2, r2 in (\n",
    "    (5, 3, 12, 7),\n",
    "    (10, 3, 13, 8),\n",
    "    (10, 3, 14, 1),\n",
    "    (10, 3, 14, 2)\n",
    "):\n",
    "    result = chinese_remainder_theorem(n1, r1, n2, r2)\n",
    "    print(f'If x={r1} mod {n1} and x={r2} mod {n2}, then x={result}')"
   ]
  },
  {
   "cell_type": "code",
   "execution_count": 8,
   "id": "26e2e343-802e-4338-8ff8-7a7ec9ec39d9",
   "metadata": {},
   "outputs": [
    {
     "name": "stdout",
     "output_type": "stream",
     "text": [
      "2 -1\n",
      "r 8\n",
      "8\n"
     ]
    }
   ],
   "source": [
    "def ExtendedEuclid(a, b):\n",
    "    if b == 0:\n",
    "        return (1, 0, a)\n",
    "    else:\n",
    "        x, y, gcd = ExtendedEuclid(b, a % b)\n",
    "        return (y, x - (a // b) * y, gcd)\n",
    "\n",
    "def ChineseRemainderTheorem(n1, r1, n2, r2):\n",
    "    x, y, gcd = ExtendedEuclid(n1, n2)\n",
    "    print(x, y)\n",
    "    # Calculate the result based on the formula\n",
    "    r = (r1 * y * n2 + r2 * x * n1) % (n1 * n2)\n",
    "    print('r', r)\n",
    "    # Ensure the result is positive\n",
    "    if r < 0:\n",
    "        r += n1 * n2\n",
    "\n",
    "    return r\n",
    "\n",
    "# Test case\n",
    "n1, r1, n2, r2 = 3, 2, 5, 3\n",
    "print(ChineseRemainderTheorem(n1, r1, n2, r2))\n"
   ]
  },
  {
   "cell_type": "code",
   "execution_count": 13,
   "id": "9400e12f-1cf2-409a-8654-305edff77ca0",
   "metadata": {},
   "outputs": [
    {
     "data": {
      "text/plain": [
       "4"
      ]
     },
     "execution_count": 13,
     "metadata": {},
     "output_type": "execute_result"
    }
   ],
   "source": [
    "(21*4)%5"
   ]
  },
  {
   "cell_type": "code",
   "execution_count": 16,
   "id": "d777aced-2b73-40e9-b7ee-98e79cb26de3",
   "metadata": {},
   "outputs": [
    {
     "data": {
      "text/plain": [
       "(3, 236)"
      ]
     },
     "execution_count": 16,
     "metadata": {},
     "output_type": "execute_result"
    }
   ],
   "source": [
    "divmod(953,239)"
   ]
  },
  {
   "cell_type": "code",
   "execution_count": 18,
   "id": "3371c477-3321-48ef-a643-97e630321c13",
   "metadata": {},
   "outputs": [
    {
     "data": {
      "text/plain": [
       "1"
      ]
     },
     "execution_count": 18,
     "metadata": {},
     "output_type": "execute_result"
    }
   ],
   "source": [
    "pow(34,60,77)"
   ]
  },
  {
   "cell_type": "code",
   "execution_count": null,
   "id": "c1dafe4e-632b-4e48-8375-f89d4674c61b",
   "metadata": {},
   "outputs": [],
   "source": []
  }
 ],
 "metadata": {
  "kernelspec": {
   "display_name": "Python 3 (ipykernel)",
   "language": "python",
   "name": "python3"
  },
  "language_info": {
   "codemirror_mode": {
    "name": "ipython",
    "version": 3
   },
   "file_extension": ".py",
   "mimetype": "text/x-python",
   "name": "python",
   "nbconvert_exporter": "python",
   "pygments_lexer": "ipython3",
   "version": "3.10.6"
  }
 },
 "nbformat": 4,
 "nbformat_minor": 5
}
