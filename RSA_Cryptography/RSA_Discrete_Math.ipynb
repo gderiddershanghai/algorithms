{
 "cells": [
  {
   "cell_type": "markdown",
   "id": "bf9f6023-f1ef-4bcc-991c-21d17ce71d40",
   "metadata": {},
   "source": [
    "## Toy RSA Example"
   ]
  },
  {
   "cell_type": "code",
   "execution_count": 8,
   "id": "3d2c5aa1-a528-41f0-8d88-140a7cb3e32e",
   "metadata": {},
   "outputs": [
    {
     "name": "stdout",
     "output_type": "stream",
     "text": [
      "n=55\n"
     ]
    }
   ],
   "source": [
    "from math import gcd\n",
    "p, q = 5,11\n",
    "\n",
    "n = p * q\n",
    "print(f'n={n}')"
   ]
  },
  {
   "cell_type": "code",
   "execution_count": 9,
   "id": "0b819c2f-7442-4f99-9988-9ee7cfbf2655",
   "metadata": {},
   "outputs": [
    {
     "name": "stdout",
     "output_type": "stream",
     "text": [
      "phi=40\n",
      "e=3\n"
     ]
    }
   ],
   "source": [
    "phi = (p - 1) * (q - 1)\n",
    "print(f'phi={phi}')\n",
    "e = 3\n",
    "print(f'e={e}')\n",
    "assert gcd(phi, e) == 1"
   ]
  },
  {
   "cell_type": "code",
   "execution_count": 37,
   "id": "7ee2e5fe-c643-4878-83df-ff1948fb4879",
   "metadata": {},
   "outputs": [
    {
     "name": "stdout",
     "output_type": "stream",
     "text": [
      "d=27\n"
     ]
    }
   ],
   "source": [
    "d = pow(e, -1, phi)\n",
    "print(f'd={d}')\n",
    "assert d * e % phi == 1"
   ]
  },
  {
   "cell_type": "code",
   "execution_count": 23,
   "id": "c2caf36a-3685-4018-b38c-90d5172a4f7c",
   "metadata": {},
   "outputs": [
    {
     "name": "stdout",
     "output_type": "stream",
     "text": [
      "message: 41\n",
      "cipher_text: 6\n"
     ]
    }
   ],
   "source": [
    "def encode(m):\n",
    "    assert 0 <= m < n\n",
    "    return pow(m, e, n)\n",
    "\n",
    "\n",
    "message = 41\n",
    "print(f'message: {message}')\n",
    "cipher_text = encode(message)\n",
    "print(f'cipher_text: {cipher_text}')"
   ]
  },
  {
   "cell_type": "code",
   "execution_count": 32,
   "id": "6dd3ff3b-59d7-49eb-b2f0-75f7e0870b8d",
   "metadata": {},
   "outputs": [
    {
     "name": "stdout",
     "output_type": "stream",
     "text": [
      "decoded: 41\n"
     ]
    }
   ],
   "source": [
    "def decode(c):\n",
    "    return pow(c, d, n)\n",
    "\n",
    "\n",
    "print(f'decoded: {decode(cipher_text)}')"
   ]
  },
  {
   "cell_type": "markdown",
   "id": "b3e4d86d-b88b-4933-b1d2-d21752fdf0bf",
   "metadata": {},
   "source": [
    "## RSA Quiz"
   ]
  },
  {
   "cell_type": "code",
   "execution_count": 33,
   "id": "ad3c9ffe-435a-402b-9f49-cb9c14529f27",
   "metadata": {},
   "outputs": [],
   "source": [
    "def Encrypt(message, modulo, exponent):\n",
    "  # Fix this implementation\n",
    "  m = ConvertToInt(message)\n",
    "  cipher = PowMod(m, exponent, modulo)\n",
    "  return cipher"
   ]
  },
  {
   "cell_type": "code",
   "execution_count": 36,
   "id": "ca3f76b6-bd77-4909-8769-e9ae16b260a3",
   "metadata": {},
   "outputs": [
    {
     "ename": "NameError",
     "evalue": "name 'ConvertToInt' is not defined",
     "output_type": "error",
     "traceback": [
      "\u001b[0;31m---------------------------------------------------------------------------\u001b[0m",
      "\u001b[0;31mNameError\u001b[0m                                 Traceback (most recent call last)",
      "Cell \u001b[0;32mIn [36], line 13\u001b[0m\n\u001b[1;32m     11\u001b[0m exponent \u001b[38;5;241m=\u001b[39m \u001b[38;5;241m23917\u001b[39m\n\u001b[1;32m     12\u001b[0m modulo \u001b[38;5;241m=\u001b[39m p \u001b[38;5;241m*\u001b[39m q\n\u001b[0;32m---> 13\u001b[0m ciphertext \u001b[38;5;241m=\u001b[39m \u001b[43mEncrypt\u001b[49m\u001b[43m(\u001b[49m\u001b[38;5;124;43m\"\u001b[39;49m\u001b[38;5;124;43mattack\u001b[39;49m\u001b[38;5;124;43m\"\u001b[39;49m\u001b[43m,\u001b[49m\u001b[43m \u001b[49m\u001b[43mmodulo\u001b[49m\u001b[43m,\u001b[49m\u001b[43m \u001b[49m\u001b[43mexponent\u001b[49m\u001b[43m)\u001b[49m\n\u001b[1;32m     14\u001b[0m message \u001b[38;5;241m=\u001b[39m Decrypt(ciphertext, p, q, exponent)\n\u001b[1;32m     15\u001b[0m \u001b[38;5;28mprint\u001b[39m(\u001b[38;5;124m'\u001b[39m\u001b[38;5;124mmessage: \u001b[39m\u001b[38;5;124m'\u001b[39m, message, \u001b[38;5;124m'\u001b[39m\u001b[38;5;124mciphertext: \u001b[39m\u001b[38;5;124m'\u001b[39m, ciphertext)\n",
      "Cell \u001b[0;32mIn [33], line 3\u001b[0m, in \u001b[0;36mEncrypt\u001b[0;34m(message, modulo, exponent)\u001b[0m\n\u001b[1;32m      1\u001b[0m \u001b[38;5;28;01mdef\u001b[39;00m \u001b[38;5;21mEncrypt\u001b[39m(message, modulo, exponent):\n\u001b[1;32m      2\u001b[0m   \u001b[38;5;66;03m# Fix this implementation\u001b[39;00m\n\u001b[0;32m----> 3\u001b[0m   m \u001b[38;5;241m=\u001b[39m \u001b[43mConvertToInt\u001b[49m(message)\n\u001b[1;32m      4\u001b[0m   cipher \u001b[38;5;241m=\u001b[39m PowMod(m, exponent, modulo)\n\u001b[1;32m      5\u001b[0m   \u001b[38;5;28;01mreturn\u001b[39;00m cipher\n",
      "\u001b[0;31mNameError\u001b[0m: name 'ConvertToInt' is not defined"
     ]
    }
   ],
   "source": [
    "def Decrypt(ciphertext, p, q, exponent):\n",
    "  return ConvertToStr(PowMod(ciphertext, exponent, p * q))\n",
    "  \n",
    "a = 3\n",
    "b = 7\n",
    "# c = InvertModulo(a, b)\n",
    "# print(c)\n",
    "\n",
    "p = 1000000007\n",
    "q = 1000000009\n",
    "exponent = 23917\n",
    "modulo = p * q\n",
    "ciphertext = Encrypt(\"attack\", modulo, exponent)\n",
    "message = Decrypt(ciphertext, p, q, exponent)\n",
    "print('message: ', message, 'ciphertext: ', ciphertext)"
   ]
  },
  {
   "cell_type": "code",
   "execution_count": null,
   "id": "a7b00bba-c836-4071-8e24-28ea63fd9708",
   "metadata": {},
   "outputs": [],
   "source": []
  },
  {
   "cell_type": "code",
   "execution_count": null,
   "id": "d8a4dc50-caa1-46ae-88ac-f94401f8bb62",
   "metadata": {},
   "outputs": [],
   "source": []
  },
  {
   "cell_type": "code",
   "execution_count": null,
   "id": "13849bdf-a92e-4535-9443-af7247e0dcff",
   "metadata": {},
   "outputs": [],
   "source": []
  },
  {
   "cell_type": "code",
   "execution_count": null,
   "id": "19b07730-4672-42c1-8275-3c24fcfc1794",
   "metadata": {},
   "outputs": [],
   "source": [
    "def DecipherSimple(ciphertext, modulo, exponent, potential_messages):\n",
    "    # Fix this implementation\n",
    "    if ciphertext == Encrypt(potential_messages[0], modulo, exponent):\n",
    "        return potential_messages[0]\n",
    "    return \"don't know\"\n",
    "\n",
    "\n",
    "modulo = 101\n",
    "exponent = 12\n",
    "ciphertext = Encrypt(\"attack\", modulo, exponent)\n",
    "print(ciphertext)\n",
    "print(DecipherSimple(ciphertext, modulo, exponent,\n",
    "                      [\"attack\", \"don't attack\", \"wait\"]))"
   ]
  }
 ],
 "metadata": {
  "kernelspec": {
   "display_name": "Python 3 (ipykernel)",
   "language": "python",
   "name": "python3"
  },
  "language_info": {
   "codemirror_mode": {
    "name": "ipython",
    "version": 3
   },
   "file_extension": ".py",
   "mimetype": "text/x-python",
   "name": "python",
   "nbconvert_exporter": "python",
   "pygments_lexer": "ipython3",
   "version": "3.10.6"
  }
 },
 "nbformat": 4,
 "nbformat_minor": 5
}
