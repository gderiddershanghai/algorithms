{
 "cells": [
  {
   "cell_type": "code",
   "execution_count": 20,
   "id": "589596fe-2340-4fed-a26b-6208f426af38",
   "metadata": {},
   "outputs": [
    {
     "name": "stdout",
     "output_type": "stream",
     "text": [
      "Factoring of 7: [7]\n",
      "Factoring of 60: [5, 3, 2, 2]\n",
      "Factoring of 1001: [13, 11, 7]\n",
      "Factoring of 4294967297: [6700417, 641]\n",
      "Factoring of 18446744073709551617: [67280421310721, 274177]\n"
     ]
    }
   ],
   "source": [
    "# Finds the minimal divisor>1 of the given integer m>1\n",
    "def min_divisor(m):\n",
    "    for d in range(2, m + 1):\n",
    "        if m % d == 0:\n",
    "            return d\n",
    "        # optimization:\n",
    "        if d * d > m:\n",
    "            return m\n",
    "\n",
    "\n",
    "def is_prime(m):\n",
    "    return m == min_divisor(m)\n",
    "\n",
    "\n",
    "def factoring(m):\n",
    "    if is_prime(m):\n",
    "        return [m]\n",
    "    else:\n",
    "        divisor = min_divisor(m)\n",
    "        factors = factoring(m // divisor)\n",
    "        factors.append(divisor)\n",
    "        return factors\n",
    "\n",
    "\n",
    "for i in (7, 60, 1001, 2 ** 32 + 1, 2 ** 64 + 1):\n",
    "    print(f'Factoring of {i}: {factoring(i)}')"
   ]
  },
  {
   "cell_type": "code",
   "execution_count": 21,
   "id": "36c3e81b-adc3-4ff7-9341-a22faa2be3d6",
   "metadata": {},
   "outputs": [
    {
     "data": {
      "text/plain": [
       "[11, 7]"
      ]
     },
     "execution_count": 21,
     "metadata": {},
     "output_type": "execute_result"
    }
   ],
   "source": [
    "factoring(77)"
   ]
  },
  {
   "cell_type": "code",
   "execution_count": 23,
   "id": "53e93dab-c94a-4ef0-bdf1-a1bb864ebc59",
   "metadata": {},
   "outputs": [],
   "source": [
    "a= 1- (1/11)\n",
    "b= 1- (1/7)\n"
   ]
  },
  {
   "cell_type": "code",
   "execution_count": 25,
   "id": "72bf7e2d-04be-4975-8a37-c962aff5e446",
   "metadata": {},
   "outputs": [
    {
     "data": {
      "text/plain": [
       "60.0"
      ]
     },
     "execution_count": 25,
     "metadata": {},
     "output_type": "execute_result"
    }
   ],
   "source": [
    "a*b*77"
   ]
  }
 ],
 "metadata": {
  "kernelspec": {
   "display_name": "Python 3 (ipykernel)",
   "language": "python",
   "name": "python3"
  },
  "language_info": {
   "codemirror_mode": {
    "name": "ipython",
    "version": 3
   },
   "file_extension": ".py",
   "mimetype": "text/x-python",
   "name": "python",
   "nbconvert_exporter": "python",
   "pygments_lexer": "ipython3",
   "version": "3.10.6"
  }
 },
 "nbformat": 4,
 "nbformat_minor": 5
}
