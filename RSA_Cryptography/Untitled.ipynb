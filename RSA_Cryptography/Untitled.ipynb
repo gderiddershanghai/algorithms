{
 "cells": [
  {
   "cell_type": "code",
   "execution_count": 14,
   "id": "3d2c5aa1-a528-41f0-8d88-140a7cb3e32e",
   "metadata": {},
   "outputs": [
    {
     "data": {
      "text/plain": [
       "12"
      ]
     },
     "execution_count": 14,
     "metadata": {},
     "output_type": "execute_result"
    }
   ],
   "source": [
    "48 % 18"
   ]
  },
  {
   "cell_type": "code",
   "execution_count": 15,
   "id": "0b819c2f-7442-4f99-9988-9ee7cfbf2655",
   "metadata": {},
   "outputs": [
    {
     "data": {
      "text/plain": [
       "6"
      ]
     },
     "execution_count": 15,
     "metadata": {},
     "output_type": "execute_result"
    }
   ],
   "source": [
    "18 % 12"
   ]
  },
  {
   "cell_type": "code",
   "execution_count": 16,
   "id": "7ee2e5fe-c643-4878-83df-ff1948fb4879",
   "metadata": {},
   "outputs": [
    {
     "data": {
      "text/plain": [
       "(288, 216)"
      ]
     },
     "execution_count": 16,
     "metadata": {},
     "output_type": "execute_result"
    }
   ],
   "source": [
    "48*6, 18*12"
   ]
  },
  {
   "cell_type": "code",
   "execution_count": 7,
   "id": "c2caf36a-3685-4018-b38c-90d5172a4f7c",
   "metadata": {},
   "outputs": [
    {
     "data": {
      "text/plain": [
       "(96, 98)"
      ]
     },
     "execution_count": 7,
     "metadata": {},
     "output_type": "execute_result"
    }
   ],
   "source": [
    "48*2, 14*7"
   ]
  },
  {
   "cell_type": "code",
   "execution_count": 18,
   "id": "6dd3ff3b-59d7-49eb-b2f0-75f7e0870b8d",
   "metadata": {},
   "outputs": [],
   "source": [
    "def extended_gcd(a,b):\n",
    "    if b==0:\n",
    "        (d,x,y) = (a,1,0)\n",
    "    else:\n",
    "        (d,x1,y1) = extended_gcd(b,a%b)\n",
    "        x=y1\n",
    "        y=x1-(y1*(a//b))\n",
    "    return (d,x,y)\n",
    "        "
   ]
  },
  {
   "cell_type": "code",
   "execution_count": null,
   "id": "6a5dc145-9860-4a16-b852-2758e31eea73",
   "metadata": {},
   "outputs": [],
   "source": [
    "#391x+299y=−69"
   ]
  },
  {
   "cell_type": "code",
   "execution_count": 42,
   "id": "84e801c8-e5fc-4ccc-b5fc-77c5646a3627",
   "metadata": {},
   "outputs": [
    {
     "data": {
      "text/plain": [
       "(23, -3, 4)"
      ]
     },
     "execution_count": 42,
     "metadata": {},
     "output_type": "execute_result"
    }
   ],
   "source": [
    "extended_gcd(391,299)"
   ]
  },
  {
   "cell_type": "code",
   "execution_count": 47,
   "id": "39b2a23c-ce68-4d2c-8f85-8761cde23b7d",
   "metadata": {},
   "outputs": [],
   "source": [
    "a=391\n",
    "b=299\n",
    "d = 23\n",
    "c=-69\n",
    "x=-3\n",
    "y=4"
   ]
  },
  {
   "cell_type": "code",
   "execution_count": 56,
   "id": "a29634a5-9eb9-47b7-b867-9c90f84ace5d",
   "metadata": {},
   "outputs": [
    {
     "data": {
      "text/plain": [
       "(9.0, -12.0)"
      ]
     },
     "execution_count": 56,
     "metadata": {},
     "output_type": "execute_result"
    }
   ],
   "source": [
    "x0,y0 = x*(c/d), y*(c/d)\n",
    "x0,y0"
   ]
  },
  {
   "cell_type": "code",
   "execution_count": 59,
   "id": "a95f707f-e4e7-4688-b22e-8b786322a1a5",
   "metadata": {},
   "outputs": [
    {
     "data": {
      "text/plain": [
       "13.0"
      ]
     },
     "execution_count": 59,
     "metadata": {},
     "output_type": "execute_result"
    }
   ],
   "source": [
    "(b/d)"
   ]
  }
 ],
 "metadata": {
  "kernelspec": {
   "display_name": "Python 3 (ipykernel)",
   "language": "python",
   "name": "python3"
  },
  "language_info": {
   "codemirror_mode": {
    "name": "ipython",
    "version": 3
   },
   "file_extension": ".py",
   "mimetype": "text/x-python",
   "name": "python",
   "nbconvert_exporter": "python",
   "pygments_lexer": "ipython3",
   "version": "3.10.6"
  }
 },
 "nbformat": 4,
 "nbformat_minor": 5
}
