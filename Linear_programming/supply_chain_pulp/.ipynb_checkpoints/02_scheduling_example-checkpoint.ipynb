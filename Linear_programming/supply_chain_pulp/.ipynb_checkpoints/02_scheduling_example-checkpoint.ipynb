{
 "cells": [
  {
   "cell_type": "markdown",
   "metadata": {},
   "source": [
    "**Truck Drivers Scheduling Example**\n",
    "\n",
    "Demand and constraint:\n",
    "<img src=\"files/images/02_scheduling_prob.PNG\" width=\"500\" align=\"center\">\n",
    "\n",
    "Be careful how to define your decision variables. Defining Xi as the number of drivers working on day i is not correct since it will lead to counting the same driver multiple days, and it's hard to model the constraint with this decision variable setup.\n",
    "\n",
    "Xi should be defined as the number of drivers who **start** working on day i.\n",
    "<img src=\"files/images/02_scheduling_prob2.PNG\" width=\"500\" align=\"center\">\n"
   ]
  },
  {
   "cell_type": "code",
   "execution_count": 1,
   "metadata": {},
   "outputs": [],
   "source": [
    "from pulp import *\n",
    "import pandas as pd"
   ]
  },
  {
   "cell_type": "markdown",
   "metadata": {},
   "source": [
    "**Scheduling workers problem**\n",
    "\n",
    "You are looking to hire workers to work in a warehouse. Each worker is expected to work 5 consecutive days and then have two days off. The chart below has the estimated number of workers you will need each day. You are looking to hire the minimum number of workers to handle the workload for each day.\n",
    "\n",
    "Expected Workload\n",
    "\n",
    "|Day of Week|Employees Needed|\n",
    "|-----------|----------------|\n",
    "|0 = Monday|\t31|\n",
    "|1 = Tuesday|\t45|\n",
    "|2 = Wednesday|\t40|\n",
    "|3 = Thursday|\t40|\n",
    "|4 = Friday\t|48|\n",
    "|5 = Saturday|\t30|\n",
    "|6 = Sunday\t|25|\n",
    "\n",
    "Solution:"
   ]
  },
  {
   "cell_type": "code",
   "execution_count": 48,
   "metadata": {},
   "outputs": [
    {
     "data": {
      "text/plain": [
       "{0: X0, 1: X1, 2: X2, 3: X3, 4: X4, 5: X5, 6: X6}"
      ]
     },
     "execution_count": 48,
     "metadata": {},
     "output_type": "execute_result"
    }
   ],
   "source": [
    "days_employees = {\n",
    "    0: 31,  # Monday\n",
    "    1: 45,  # Tuesday\n",
    "    2: 40,  # Wednesday\n",
    "    3: 40,  # Thursday\n",
    "    4: 48,  # Friday\n",
    "    5: 30,  # Saturday\n",
    "    6: 25   # Sunday\n",
    "}\n",
    "\n",
    "\n"
   ]
  },
  {
   "cell_type": "code",
   "execution_count": null,
   "metadata": {},
   "outputs": [],
   "source": []
  },
  {
   "cell_type": "code",
   "execution_count": null,
   "metadata": {},
   "outputs": [],
   "source": []
  },
  {
   "cell_type": "code",
   "execution_count": null,
   "metadata": {},
   "outputs": [],
   "source": []
  },
  {
   "cell_type": "code",
   "execution_count": null,
   "metadata": {},
   "outputs": [],
   "source": []
  },
  {
   "cell_type": "code",
   "execution_count": null,
   "metadata": {},
   "outputs": [],
   "source": []
  },
  {
   "cell_type": "code",
   "execution_count": 55,
   "metadata": {},
   "outputs": [
    {
     "name": "stdout",
     "output_type": "stream",
     "text": [
      "Welcome to the CBC MILP Solver \n",
      "Version: 2.10.3 \n",
      "Build Date: Dec 15 2019 \n",
      "\n",
      "command line - /home/ginger/.pyenv/versions/3.10.6/lib/python3.10/site-packages/pulp/solverdir/cbc/linux/64/cbc /tmp/46032f81dad44379835ad7c8e98e338b-pulp.mps timeMode elapsed branch printingOptions all solution /tmp/46032f81dad44379835ad7c8e98e338b-pulp.sol (default strategy 1)\n",
      "At line 2 NAME          MODEL\n",
      "At line 3 ROWS\n",
      "At line 12 COLUMNS\n",
      "At line 69 RHS\n",
      "At line 77 BOUNDS\n",
      "At line 85 ENDATA\n",
      "Problem MODEL has 7 rows, 7 columns and 35 elements\n",
      "Coin0008I MODEL read with 0 errors\n",
      "Option for timeMode changed from cpu to elapsed\n",
      "Continuous objective value is 52.6667 - 0.00 seconds\n",
      "Cgl0003I 0 fixed, 7 tightened bounds, 0 strengthened rows, 0 substitutions\n",
      "Cgl0004I processed model has 7 rows, 7 columns (7 integer (0 of which binary)) and 35 elements\n",
      "Cutoff increment increased from 1e-05 to 0.9999\n",
      "Cbc0012I Integer solution of 54 found by greedy cover after 0 iterations and 0 nodes (0.00 seconds)\n",
      "Cbc0038I Full problem 7 rows 7 columns, reduced to 5 rows 4 columns\n",
      "Cbc0012I Integer solution of 53 found by DiveCoefficient after 1 iterations and 0 nodes (0.00 seconds)\n",
      "Cbc0031I 1 added rows had average density of 7\n",
      "Cbc0013I At root node, 1 cuts changed objective from 52.666667 to 53 in 2 passes\n",
      "Cbc0014I Cut generator 0 (Probing) - 0 row cuts average 0.0 elements, 1 column cuts (1 active)  in 0.000 seconds - new frequency is 1\n",
      "Cbc0014I Cut generator 1 (Gomory) - 1 row cuts average 7.0 elements, 0 column cuts (0 active)  in 0.000 seconds - new frequency is 1\n",
      "Cbc0014I Cut generator 2 (Knapsack) - 0 row cuts average 0.0 elements, 0 column cuts (0 active)  in 0.000 seconds - new frequency is -100\n",
      "Cbc0014I Cut generator 3 (Clique) - 0 row cuts average 0.0 elements, 0 column cuts (0 active)  in 0.000 seconds - new frequency is -100\n",
      "Cbc0014I Cut generator 4 (MixedIntegerRounding2) - 0 row cuts average 0.0 elements, 0 column cuts (0 active)  in 0.000 seconds - new frequency is -100\n",
      "Cbc0014I Cut generator 5 (FlowCover) - 0 row cuts average 0.0 elements, 0 column cuts (0 active)  in 0.000 seconds - new frequency is -100\n",
      "Cbc0001I Search completed - best objective 53, took 1 iterations and 0 nodes (0.00 seconds)\n",
      "Cbc0035I Maximum depth 0, 0 variables fixed on reduced cost\n",
      "Cuts at root node changed objective from 52.6667 to 53\n",
      "Probing was tried 2 times and created 1 cuts of which 0 were active after adding rounds of cuts (0.000 seconds)\n",
      "Gomory was tried 2 times and created 1 cuts of which 0 were active after adding rounds of cuts (0.000 seconds)\n",
      "Knapsack was tried 2 times and created 0 cuts of which 0 were active after adding rounds of cuts (0.000 seconds)\n",
      "Clique was tried 2 times and created 0 cuts of which 0 were active after adding rounds of cuts (0.000 seconds)\n",
      "MixedIntegerRounding2 was tried 2 times and created 0 cuts of which 0 were active after adding rounds of cuts (0.000 seconds)\n",
      "FlowCover was tried 2 times and created 0 cuts of which 0 were active after adding rounds of cuts (0.000 seconds)\n",
      "TwoMirCuts was tried 1 times and created 0 cuts of which 0 were active after adding rounds of cuts (0.000 seconds)\n",
      "ZeroHalf was tried 1 times and created 0 cuts of which 0 were active after adding rounds of cuts (0.000 seconds)\n",
      "\n",
      "Result - Optimal solution found\n",
      "\n",
      "Objective value:                53.00000000\n",
      "Enumerated nodes:               0\n",
      "Total iterations:               1\n",
      "Time (CPU seconds):             0.00\n",
      "Time (Wallclock seconds):       0.00\n",
      "\n",
      "Option for printingOptions changed from normal to all\n",
      "Total time (CPU seconds):       0.00   (Wallclock seconds):       0.00\n",
      "\n"
     ]
    },
    {
     "data": {
      "text/plain": [
       "1"
      ]
     },
     "execution_count": 55,
     "metadata": {},
     "output_type": "execute_result"
    }
   ],
   "source": [
    "model2 = LpProblem(\"Minimize_Staffing\", LpMinimize)\n",
    "days = list(range(7))\n",
    "x = LpVariable.dicts('staff_', days, lowBound=0, cat='Integer')\n",
    "model2 += lpSum([x[i] for i in days])\n",
    "\n",
    "# Define Constraints\n",
    "model2 += x[0] + x[3] + x[4] + x[5] + x[6] >= 31\n",
    "model2 += x[0] + x[1] + x[4] + x[5] + x[6] >= 45\n",
    "model2 += x[0] + x[1] + x[2] + x[5] + x[6] >= 40\n",
    "model2 += x[0] + x[1] + x[2] + x[3] + x[6] >= 40\n",
    "model2 += x[0] + x[1] + x[2] + x[3] + x[4] >= 48\n",
    "model2 += x[1] + x[2] + x[3] + x[4] + x[5] >= 30\n",
    "model2 += x[2] + x[3] + x[4] + x[5] + x[6] >= 25\n",
    "\n",
    "model2.solve()"
   ]
  },
  {
   "cell_type": "code",
   "execution_count": 56,
   "metadata": {},
   "outputs": [
    {
     "name": "stdout",
     "output_type": "stream",
     "text": [
      "staff__0 = 14.0\n",
      "staff__1 = 14.0\n",
      "staff__2 = 8.0\n",
      "staff__3 = 0.0\n",
      "staff__4 = 13.0\n",
      "staff__5 = 0.0\n",
      "staff__6 = 4.0\n"
     ]
    }
   ],
   "source": [
    "# variable values\n",
    "for v in model2.variables():\n",
    "    print(v.name, '=', v.varValue)"
   ]
  },
  {
   "cell_type": "code",
   "execution_count": 57,
   "metadata": {},
   "outputs": [
    {
     "data": {
      "text/plain": [
       "53.0"
      ]
     },
     "execution_count": 57,
     "metadata": {},
     "output_type": "execute_result"
    }
   ],
   "source": [
    "# objective value\n",
    "model2.objective.value()"
   ]
  },
  {
   "cell_type": "code",
   "execution_count": null,
   "metadata": {},
   "outputs": [],
   "source": []
  }
 ],
 "metadata": {
  "kernelspec": {
   "display_name": "Python 3 (ipykernel)",
   "language": "python",
   "name": "python3"
  },
  "language_info": {
   "codemirror_mode": {
    "name": "ipython",
    "version": 3
   },
   "file_extension": ".py",
   "mimetype": "text/x-python",
   "name": "python",
   "nbconvert_exporter": "python",
   "pygments_lexer": "ipython3",
   "version": "3.10.6"
  }
 },
 "nbformat": 4,
 "nbformat_minor": 4
}
