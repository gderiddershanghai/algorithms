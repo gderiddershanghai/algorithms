{
 "cells": [
  {
   "cell_type": "markdown",
   "metadata": {},
   "source": [
    "**Logical constraint exercise**\n",
    "\n",
    "Your customer has ordered six products to be delivered over the next month. You will need to ship multiple truck loads to deliver all of the products. There is a weight limit on your trucks of 25,000 lbs. For cash flow reasons you desire to ship the most profitable combination of products that can fit on your truck.\n",
    "\n",
    "|Product\tWeight| (lbs)\t|Profitability ($US)|\n",
    "|-----------------|---------|-------------------|\n",
    "|A|\t12,583|\t102,564|\n",
    "|B|\t9,204|\t130,043|\n",
    "|C|\t12,611|\t127,648|\n",
    "|D|\t12,131|\t155,058|\n",
    "|E|\t12,889|\t238,846|\n",
    "|F|\t11,529|\t197,030|"
   ]
  },
  {
   "cell_type": "code",
   "execution_count": null,
   "metadata": {},
   "outputs": [],
   "source": []
  },
  {
   "cell_type": "code",
   "execution_count": null,
   "metadata": {},
   "outputs": [],
   "source": []
  },
  {
   "cell_type": "code",
   "execution_count": null,
   "metadata": {},
   "outputs": [],
   "source": []
  },
  {
   "cell_type": "code",
   "execution_count": null,
   "metadata": {},
   "outputs": [],
   "source": []
  },
  {
   "cell_type": "code",
   "execution_count": null,
   "metadata": {},
   "outputs": [],
   "source": []
  },
  {
   "cell_type": "code",
   "execution_count": null,
   "metadata": {},
   "outputs": [],
   "source": []
  },
  {
   "cell_type": "code",
   "execution_count": null,
   "metadata": {},
   "outputs": [],
   "source": []
  },
  {
   "cell_type": "code",
   "execution_count": null,
   "metadata": {},
   "outputs": [],
   "source": []
  },
  {
   "cell_type": "code",
   "execution_count": 1,
   "metadata": {},
   "outputs": [],
   "source": [
    "from pulp import *"
   ]
  },
  {
   "cell_type": "code",
   "execution_count": 2,
   "metadata": {},
   "outputs": [],
   "source": [
    "weight = {'A': 12583, 'B': 9204, 'C': 12611, 'D': 12131, 'E': 12889, 'F': 11529}\n",
    "prof = {'A': 102564, 'B': 130043, 'C': 127648, 'D': 155058, 'E': 238846, 'F': 197030}\n",
    "prod = ['A', 'B', 'C', 'D', 'E', 'F']"
   ]
  },
  {
   "cell_type": "markdown",
   "metadata": {},
   "source": [
    "**Add a constraint so that the model will, at most, select only one of the products between D, E, and F**"
   ]
  },
  {
   "cell_type": "code",
   "execution_count": 6,
   "metadata": {},
   "outputs": [
    {
     "data": {
      "text/plain": [
       "{'A': ship__A,\n",
       " 'B': ship__B,\n",
       " 'C': ship__C,\n",
       " 'D': ship__D,\n",
       " 'E': ship__E,\n",
       " 'F': ship__F}"
      ]
     },
     "execution_count": 6,
     "metadata": {},
     "output_type": "execute_result"
    }
   ],
   "source": [
    "x"
   ]
  },
  {
   "cell_type": "code",
   "execution_count": 7,
   "metadata": {},
   "outputs": [
    {
     "data": {
      "text/plain": [
       "[12583*ship__A + 0,\n",
       " 9204*ship__B + 0,\n",
       " 12611*ship__C + 0,\n",
       " 12131*ship__D + 0,\n",
       " 12889*ship__E + 0,\n",
       " 11529*ship__F + 0]"
      ]
     },
     "execution_count": 7,
     "metadata": {},
     "output_type": "execute_result"
    }
   ],
   "source": [
    "[weight[i] * x[i] for i in prod]"
   ]
  },
  {
   "cell_type": "code",
   "execution_count": 3,
   "metadata": {},
   "outputs": [
    {
     "name": "stdout",
     "output_type": "stream",
     "text": [
      "Welcome to the CBC MILP Solver \n",
      "Version: 2.10.3 \n",
      "Build Date: Dec 15 2019 \n",
      "\n",
      "command line - /home/ginger/.pyenv/versions/3.10.6/lib/python3.10/site-packages/pulp/solverdir/cbc/linux/64/cbc /tmp/33975b43ccd048f0b96d9d1d6de3f7ce-pulp.mps max timeMode elapsed branch printingOptions all solution /tmp/33975b43ccd048f0b96d9d1d6de3f7ce-pulp.sol (default strategy 1)\n",
      "At line 2 NAME          MODEL\n",
      "At line 3 ROWS\n",
      "At line 7 COLUMNS\n",
      "At line 35 RHS\n",
      "At line 38 BOUNDS\n",
      "At line 45 ENDATA\n",
      "Problem MODEL has 2 rows, 6 columns and 9 elements\n",
      "Coin0008I MODEL read with 0 errors\n",
      "Option for timeMode changed from cpu to elapsed\n",
      "Continuous objective value is 398314 - 0.00 seconds\n",
      "Cgl0003I 0 fixed, 0 tightened bounds, 1 strengthened rows, 0 substitutions\n",
      "Cgl0004I processed model has 2 rows, 6 columns (6 integer (6 of which binary)) and 9 elements\n",
      "Cbc0038I Initial state - 1 integers unsatisfied sum - 0.338355\n",
      "Cbc0038I Solution found of -327073\n",
      "Cbc0038I Before mini branch and bound, 5 integers at bound fixed and 0 continuous\n",
      "Cbc0038I Full problem 2 rows 6 columns, reduced to 0 rows 0 columns\n",
      "Cbc0038I Mini branch and bound did not improve solution (0.00 seconds)\n",
      "Cbc0038I Round again with cutoff of -331392\n",
      "Cbc0038I Reduced cost fixing fixed 1 variables on major pass 2\n",
      "Cbc0038I Pass   1: suminf.    0.03384 (1) obj. -331392 iterations 1\n",
      "Cbc0038I Pass   2: suminf.    0.33836 (1) obj. -370263 iterations 1\n",
      "Cbc0038I Pass   3: suminf.    0.33836 (1) obj. -370263 iterations 0\n",
      "Cbc0038I Pass   4: suminf.    0.33911 (1) obj. -361853 iterations 1\n",
      "Cbc0038I Pass   5: suminf.    0.03384 (1) obj. -331392 iterations 2\n",
      "Cbc0038I Pass   6: suminf.    0.33836 (1) obj. -370263 iterations 1\n",
      "Cbc0038I Pass   7: suminf.    0.70316 (2) obj. -331392 iterations 1\n",
      "Cbc0038I Pass   8: suminf.    0.15699 (1) obj. -331392 iterations 3\n",
      "Cbc0038I Solution found of -368889\n",
      "Cbc0038I Before mini branch and bound, 2 integers at bound fixed and 0 continuous\n",
      "Cbc0038I Full problem 2 rows 6 columns, reduced to 2 rows 3 columns\n",
      "Cbc0038I Mini branch and bound did not improve solution (0.00 seconds)\n",
      "Cbc0038I Round again with cutoff of -369164\n",
      "Cbc0038I Reduced cost fixing fixed 4 variables on major pass 3\n",
      "Cbc0038I Pass   9: suminf.    0.32974 (1) obj. -369164 iterations 0\n",
      "Cbc0038I Pass  10: suminf.    0.33836 (1) obj. -370263 iterations 1\n",
      "Cbc0038I Pass  11: suminf.    0.32974 (1) obj. -369164 iterations 1\n",
      "Cbc0038I Pass  12: suminf.    0.33836 (1) obj. -370263 iterations 1\n",
      "Cbc0038I Pass  13: suminf.    0.32974 (1) obj. -369164 iterations 1\n",
      "Cbc0038I Pass  14: suminf.    0.32974 (1) obj. -369164 iterations 0\n",
      "Cbc0038I Pass  15: suminf.    0.32974 (1) obj. -369164 iterations 0\n",
      "Cbc0038I Pass  16: suminf.    0.32974 (1) obj. -369164 iterations 0\n",
      "Cbc0038I Pass  17: suminf.    0.32974 (1) obj. -369164 iterations 0\n",
      "Cbc0038I Pass  18: suminf.    0.32974 (1) obj. -369164 iterations 0\n",
      "Cbc0038I Pass  19: suminf.    0.32974 (1) obj. -369164 iterations 0\n",
      "Cbc0038I Pass  20: suminf.    0.32974 (1) obj. -369164 iterations 0\n",
      "Cbc0038I Pass  21: suminf.    0.32974 (1) obj. -369164 iterations 0\n",
      "Cbc0038I Pass  22: suminf.    0.33836 (1) obj. -370263 iterations 1\n",
      "Cbc0038I Pass  23: suminf.    0.33836 (1) obj. -370263 iterations 0\n",
      "Cbc0038I Pass  24: suminf.    0.32974 (1) obj. -369164 iterations 1\n",
      "Cbc0038I Pass  25: suminf.    0.32974 (1) obj. -369164 iterations 0\n",
      "Cbc0038I Pass  26: suminf.    0.32974 (1) obj. -369164 iterations 0\n",
      "Cbc0038I Pass  27: suminf.    0.32974 (1) obj. -369164 iterations 0\n",
      "Cbc0038I Pass  28: suminf.    0.32974 (1) obj. -369164 iterations 0\n",
      "Cbc0038I Pass  29: suminf.    0.32974 (1) obj. -369164 iterations 0\n",
      "Cbc0038I Pass  30: suminf.    0.32974 (1) obj. -369164 iterations 0\n",
      "Cbc0038I Pass  31: suminf.    0.32974 (1) obj. -369164 iterations 0\n",
      "Cbc0038I Pass  32: suminf.    0.33836 (1) obj. -370263 iterations 1\n",
      "Cbc0038I Pass  33: suminf.    0.32974 (1) obj. -369164 iterations 1\n",
      "Cbc0038I Pass  34: suminf.    0.32974 (1) obj. -369164 iterations 0\n",
      "Cbc0038I Pass  35: suminf.    0.32974 (1) obj. -369164 iterations 0\n",
      "Cbc0038I Pass  36: suminf.    0.33836 (1) obj. -370263 iterations 1\n",
      "Cbc0038I Pass  37: suminf.    0.33836 (1) obj. -370263 iterations 0\n",
      "Cbc0038I Pass  38: suminf.    0.33836 (1) obj. -370263 iterations 0\n",
      "Cbc0038I No solution found this major pass\n",
      "Cbc0038I Before mini branch and bound, 5 integers at bound fixed and 0 continuous\n",
      "Cbc0038I Mini branch and bound did not improve solution (0.00 seconds)\n",
      "Cbc0038I After 0.00 seconds - Feasibility pump exiting with objective of -368889 - took 0.00 seconds\n",
      "Cbc0012I Integer solution of -368889 found by feasibility pump after 0 iterations and 0 nodes (0.00 seconds)\n",
      "Cbc0038I Full problem 2 rows 6 columns, reduced to 1 rows 2 columns\n",
      "Cbc0006I The LP relaxation is infeasible or too expensive\n",
      "Cbc0013I At root node, 0 cuts changed objective from -370263.39 to -370263.39 in 1 passes\n",
      "Cbc0014I Cut generator 0 (Probing) - 1 row cuts average 0.0 elements, 0 column cuts (0 active)  in 0.000 seconds - new frequency is 1\n",
      "Cbc0014I Cut generator 1 (Gomory) - 0 row cuts average 0.0 elements, 0 column cuts (0 active)  in 0.000 seconds - new frequency is -100\n",
      "Cbc0014I Cut generator 2 (Knapsack) - 0 row cuts average 0.0 elements, 0 column cuts (0 active)  in 0.000 seconds - new frequency is -100\n",
      "Cbc0014I Cut generator 3 (Clique) - 0 row cuts average 0.0 elements, 0 column cuts (0 active)  in 0.000 seconds - new frequency is -100\n",
      "Cbc0014I Cut generator 4 (MixedIntegerRounding2) - 0 row cuts average 0.0 elements, 0 column cuts (0 active)  in 0.000 seconds - new frequency is -100\n",
      "Cbc0014I Cut generator 5 (FlowCover) - 0 row cuts average 0.0 elements, 0 column cuts (0 active)  in 0.000 seconds - new frequency is -100\n",
      "Cbc0014I Cut generator 6 (TwoMirCuts) - 0 row cuts average 0.0 elements, 0 column cuts (0 active)  in 0.000 seconds - new frequency is -100\n",
      "Cbc0014I Cut generator 7 (ZeroHalf) - 0 row cuts average 0.0 elements, 0 column cuts (0 active)  in 0.000 seconds - new frequency is -100\n",
      "Cbc0001I Search completed - best objective -368889, took 0 iterations and 0 nodes (0.00 seconds)\n",
      "Cbc0035I Maximum depth 0, 4 variables fixed on reduced cost\n",
      "Cuts at root node changed objective from -370263 to -370263\n",
      "Probing was tried 1 times and created 1 cuts of which 0 were active after adding rounds of cuts (0.000 seconds)\n",
      "Gomory was tried 0 times and created 0 cuts of which 0 were active after adding rounds of cuts (0.000 seconds)\n",
      "Knapsack was tried 0 times and created 0 cuts of which 0 were active after adding rounds of cuts (0.000 seconds)\n",
      "Clique was tried 0 times and created 0 cuts of which 0 were active after adding rounds of cuts (0.000 seconds)\n",
      "MixedIntegerRounding2 was tried 0 times and created 0 cuts of which 0 were active after adding rounds of cuts (0.000 seconds)\n",
      "FlowCover was tried 0 times and created 0 cuts of which 0 were active after adding rounds of cuts (0.000 seconds)\n",
      "TwoMirCuts was tried 0 times and created 0 cuts of which 0 were active after adding rounds of cuts (0.000 seconds)\n",
      "ZeroHalf was tried 0 times and created 0 cuts of which 0 were active after adding rounds of cuts (0.000 seconds)\n",
      "\n",
      "Result - Optimal solution found\n",
      "\n",
      "Objective value:                368889.00000000\n",
      "Enumerated nodes:               0\n",
      "Total iterations:               0\n",
      "Time (CPU seconds):             0.00\n",
      "Time (Wallclock seconds):       0.00\n",
      "\n",
      "Option for printingOptions changed from normal to all\n",
      "Total time (CPU seconds):       0.00   (Wallclock seconds):       0.00\n",
      "\n",
      "A status 0.0\n",
      "B status 1.0\n",
      "C status 0.0\n",
      "D status 0.0\n",
      "E status 1.0\n",
      "F status 0.0\n"
     ]
    }
   ],
   "source": [
    "# Initialized model, defined decision variables and objective\n",
    "model = LpProblem(\"Loading_Truck_Problem\", LpMaximize)\n",
    "x = LpVariable.dicts('ship_', prod, cat='Binary')\n",
    "model += lpSum([prof[i] * x[i] for i in prod])\n",
    "\n",
    "# Define Constraint\n",
    "model += lpSum([weight[i] * x[i] for i in prod]) <= 25000\n",
    "# only one (or none) of D, E, and F is selected\n",
    "model += x['D'] + x['E'] + x['F'] <= 1\n",
    "\n",
    "model.solve()\n",
    "for i in prod:\n",
    "    print(\"{} status {}\".format(i, x[i].varValue))"
   ]
  },
  {
   "cell_type": "code",
   "execution_count": 8,
   "metadata": {},
   "outputs": [
    {
     "name": "stdout",
     "output_type": "stream",
     "text": [
      "A status 0.0\n",
      "B status 0.0\n",
      "C status 0.0\n",
      "D status 0.0\n",
      "E status 1.0\n",
      "F status 0.0\n"
     ]
    }
   ],
   "source": [
    "for i in prod:\n",
    "    print(\"{} status {}\".format(i, x[i].varValue))"
   ]
  },
  {
   "cell_type": "markdown",
   "metadata": {},
   "source": [
    "<img src=\"files/images/04_lc1.PNG\" width=\"500\" align=\"center\">"
   ]
  },
  {
   "cell_type": "markdown",
   "metadata": {},
   "source": [
    "**Logical constraints exercise 2**\n",
    "\n",
    "You work at a trucking distribution center and you need to decide which of 6 customer locations you will send a truck to. Your goal is to minimize the distance a truck travels.\n",
    "\n",
    "|Location|\tDistance|\n",
    "|--------|----------|\n",
    "|A|\t86|\n",
    "|B|\t95|\n",
    "|C|\t205|\n",
    "|D|\t229|\n",
    "|E|\t101|\n",
    "|F|\t209|\n"
   ]
  },
  {
   "cell_type": "code",
   "execution_count": 4,
   "metadata": {},
   "outputs": [],
   "source": [
    "dist = {'A': 86, 'B': 95, 'C': 205, 'D': 229, 'E': 101, 'F': 209}\n",
    "cust = ['A', 'B', 'C', 'D', 'E', 'F']"
   ]
  },
  {
   "cell_type": "code",
   "execution_count": 5,
   "metadata": {},
   "outputs": [
    {
     "name": "stdout",
     "output_type": "stream",
     "text": [
      "Welcome to the CBC MILP Solver \n",
      "Version: 2.10.3 \n",
      "Build Date: Dec 15 2019 \n",
      "\n",
      "command line - /home/ginger/.pyenv/versions/3.10.6/lib/python3.10/site-packages/pulp/solverdir/cbc/linux/64/cbc /tmp/ed095a8ad3494d8991dc93da9e6df179-pulp.mps timeMode elapsed branch printingOptions all solution /tmp/ed095a8ad3494d8991dc93da9e6df179-pulp.sol (default strategy 1)\n",
      "At line 2 NAME          MODEL\n",
      "At line 3 ROWS\n",
      "At line 8 COLUMNS\n",
      "At line 37 RHS\n",
      "At line 41 BOUNDS\n",
      "At line 48 ENDATA\n",
      "Problem MODEL has 3 rows, 6 columns and 10 elements\n",
      "Coin0008I MODEL read with 0 errors\n",
      "Option for timeMode changed from cpu to elapsed\n",
      "Continuous objective value is 98 - 0.00 seconds\n",
      "Cgl0003I 0 fixed, 0 tightened bounds, 1 strengthened rows, 0 substitutions\n",
      "Cgl0004I processed model has 2 rows, 5 columns (5 integer (5 of which binary)) and 7 elements\n",
      "Cutoff increment increased from 1e-05 to 0.9999\n",
      "Cbc0038I Initial state - 0 integers unsatisfied sum - 0\n",
      "Cbc0038I Solution found of 101\n",
      "Cbc0038I Before mini branch and bound, 5 integers at bound fixed and 0 continuous\n",
      "Cbc0038I Mini branch and bound did not improve solution (0.00 seconds)\n",
      "Cbc0038I After 0.00 seconds - Feasibility pump exiting with objective of 101 - took 0.00 seconds\n",
      "Cbc0012I Integer solution of 101 found by feasibility pump after 0 iterations and 0 nodes (0.00 seconds)\n",
      "Cbc0001I Search completed - best objective 101, took 0 iterations and 0 nodes (0.00 seconds)\n",
      "Cbc0035I Maximum depth 0, 0 variables fixed on reduced cost\n",
      "Cuts at root node changed objective from 101 to 101\n",
      "Probing was tried 0 times and created 0 cuts of which 0 were active after adding rounds of cuts (0.000 seconds)\n",
      "Gomory was tried 0 times and created 0 cuts of which 0 were active after adding rounds of cuts (0.000 seconds)\n",
      "Knapsack was tried 0 times and created 0 cuts of which 0 were active after adding rounds of cuts (0.000 seconds)\n",
      "Clique was tried 0 times and created 0 cuts of which 0 were active after adding rounds of cuts (0.000 seconds)\n",
      "MixedIntegerRounding2 was tried 0 times and created 0 cuts of which 0 were active after adding rounds of cuts (0.000 seconds)\n",
      "FlowCover was tried 0 times and created 0 cuts of which 0 were active after adding rounds of cuts (0.000 seconds)\n",
      "TwoMirCuts was tried 0 times and created 0 cuts of which 0 were active after adding rounds of cuts (0.000 seconds)\n",
      "ZeroHalf was tried 0 times and created 0 cuts of which 0 were active after adding rounds of cuts (0.000 seconds)\n",
      "\n",
      "Result - Optimal solution found\n",
      "\n",
      "Objective value:                101.00000000\n",
      "Enumerated nodes:               0\n",
      "Total iterations:               0\n",
      "Time (CPU seconds):             0.00\n",
      "Time (Wallclock seconds):       0.00\n",
      "\n",
      "Option for printingOptions changed from normal to all\n",
      "Total time (CPU seconds):       0.00   (Wallclock seconds):       0.00\n",
      "\n",
      "A status 0.0\n",
      "B status 0.0\n",
      "C status 0.0\n",
      "D status 0.0\n",
      "E status 1.0\n",
      "F status 0.0\n"
     ]
    }
   ],
   "source": [
    "model = LpProblem(\"Loading_Truck_Problem\", LpMinimize)\n",
    "x = LpVariable.dicts('ship_', cust, cat='Binary')\n",
    "model += lpSum([dist[i]*x[i] for i in cust])\n",
    "\n",
    "# Define Constraints\n",
    "# at least one location is selected\n",
    "model += x['A'] + x['B'] + x['C'] + x['D'] + x['E'] + x['F'] >= 1\n",
    "# if location A is selected then location D is also selected\n",
    "model += x['A'] - x['D'] <= 0\n",
    "# if location B is selected then location E is also selected\n",
    "model += x['B'] - x['E'] <= 0\n",
    "\n",
    "model.solve()\n",
    "for i in cust:\n",
    "    print(\"{} status {}\".format(i, x[i].varValue))"
   ]
  },
  {
   "cell_type": "code",
   "execution_count": null,
   "metadata": {},
   "outputs": [],
   "source": []
  },
  {
   "cell_type": "code",
   "execution_count": null,
   "metadata": {},
   "outputs": [],
   "source": []
  },
  {
   "cell_type": "code",
   "execution_count": null,
   "metadata": {},
   "outputs": [],
   "source": []
  }
 ],
 "metadata": {
  "kernelspec": {
   "display_name": "Python 3 (ipykernel)",
   "language": "python",
   "name": "python3"
  },
  "language_info": {
   "codemirror_mode": {
    "name": "ipython",
    "version": 3
   },
   "file_extension": ".py",
   "mimetype": "text/x-python",
   "name": "python",
   "nbconvert_exporter": "python",
   "pygments_lexer": "ipython3",
   "version": "3.10.6"
  }
 },
 "nbformat": 4,
 "nbformat_minor": 4
}
