{
 "cells": [
  {
   "cell_type": "markdown",
   "metadata": {},
   "source": [
    "**Maximize Profit for a Glass Manufacturer**"
   ]
  },
  {
   "cell_type": "markdown",
   "metadata": {},
   "source": [
    "In this exercise you are planning the production at a glass manufacturer. This manufacturer only produces wine and beer glasses:\n",
    "\n",
    "- there is a maximum production capacity of 60 hours\n",
    "- each batch of wine and beer glasses takes 6 and 5 hours respectively\n",
    "- the warehouse has a maximum capacity of 150 rack spaces\n",
    "- each batch of the wine and beer glasses takes 10 and 20 spaces respectively\n",
    "- the production equipment can only make full batches, no partial batches\n",
    "\n",
    "Also, we only have orders for 6 batches of wine glasses. Therefore, we do not want to produce more than this. Each batch of the wine glasses earns a profit of \\\\$5 and the beer \\\\$4.5.\n",
    "\n",
    "The objective is to maximize the profit for the manufacturer."
   ]
  },
  {
   "cell_type": "code",
   "execution_count": 2,
   "metadata": {},
   "outputs": [],
   "source": [
    "# importing pulp\n",
    "from pulp import *"
   ]
  },
  {
   "cell_type": "code",
   "execution_count": 11,
   "metadata": {},
   "outputs": [],
   "source": [
    "model = LpProblem(name='chairs and tables', sense=LpMaximize)"
   ]
  },
  {
   "cell_type": "code",
   "execution_count": 12,
   "metadata": {},
   "outputs": [],
   "source": [
    "obj_fun = lpSum([chair*20,table*30])\n",
    "model += obj_fun"
   ]
  },
  {
   "cell_type": "code",
   "execution_count": 13,
   "metadata": {},
   "outputs": [],
   "source": [
    "chair = LpVariable(name='chair',lowBound= 0, upBound=None, cat='Integer')\n",
    "table = LpVariable(name='table', lowBound=0, upBound=None, cat='Integer')\n",
    "model +=chair\n",
    "model +=table"
   ]
  },
  {
   "cell_type": "code",
   "execution_count": 14,
   "metadata": {},
   "outputs": [],
   "source": [
    "wood_constraint = lpSum([chair*3,table*4])<=60\n",
    "model += wood_constraint\n",
    "labor_constraint = lpSum([chair*2,table*3])<=40\n",
    "model += labor_constraint"
   ]
  },
  {
   "cell_type": "code",
   "execution_count": 15,
   "metadata": {},
   "outputs": [
    {
     "name": "stdout",
     "output_type": "stream",
     "text": [
      "Welcome to the CBC MILP Solver \n",
      "Version: 2.10.3 \n",
      "Build Date: Dec 15 2019 \n",
      "\n",
      "command line - /home/ginger/.pyenv/versions/3.10.6/lib/python3.10/site-packages/pulp/solverdir/cbc/linux/64/cbc /tmp/d3df94f0ec584dfd9684044b0b112194-pulp.mps max timeMode elapsed branch printingOptions all solution /tmp/d3df94f0ec584dfd9684044b0b112194-pulp.sol (default strategy 1)\n",
      "At line 2 NAME          MODEL\n",
      "At line 3 ROWS\n",
      "At line 7 COLUMNS\n",
      "At line 17 RHS\n",
      "At line 20 BOUNDS\n",
      "At line 23 ENDATA\n",
      "Problem MODEL has 2 rows, 2 columns and 4 elements\n",
      "Coin0008I MODEL read with 0 errors\n",
      "Option for timeMode changed from cpu to elapsed\n",
      "Continuous objective value is 13.3333 - 0.00 seconds\n",
      "Cgl0004I processed model has 0 rows, 0 columns (0 integer (0 of which binary)) and 0 elements\n",
      "Cbc3007W No integer variables - nothing to do\n",
      "Cuts at root node changed objective from -13 to -1.79769e+308\n",
      "Probing was tried 0 times and created 0 cuts of which 0 were active after adding rounds of cuts (0.000 seconds)\n",
      "Gomory was tried 0 times and created 0 cuts of which 0 were active after adding rounds of cuts (0.000 seconds)\n",
      "Knapsack was tried 0 times and created 0 cuts of which 0 were active after adding rounds of cuts (0.000 seconds)\n",
      "Clique was tried 0 times and created 0 cuts of which 0 were active after adding rounds of cuts (0.000 seconds)\n",
      "MixedIntegerRounding2 was tried 0 times and created 0 cuts of which 0 were active after adding rounds of cuts (0.000 seconds)\n",
      "FlowCover was tried 0 times and created 0 cuts of which 0 were active after adding rounds of cuts (0.000 seconds)\n",
      "TwoMirCuts was tried 0 times and created 0 cuts of which 0 were active after adding rounds of cuts (0.000 seconds)\n",
      "ZeroHalf was tried 0 times and created 0 cuts of which 0 were active after adding rounds of cuts (0.000 seconds)\n",
      "\n",
      "Result - Optimal solution found\n",
      "\n",
      "Objective value:                13.00000000\n",
      "Enumerated nodes:               0\n",
      "Total iterations:               1\n",
      "Time (CPU seconds):             0.00\n",
      "Time (Wallclock seconds):       0.00\n",
      "\n",
      "Option for printingOptions changed from normal to all\n",
      "Total time (CPU seconds):       0.00   (Wallclock seconds):       0.00\n",
      "\n"
     ]
    }
   ],
   "source": [
    "status = model.solve()"
   ]
  },
  {
   "cell_type": "code",
   "execution_count": 18,
   "metadata": {},
   "outputs": [
    {
     "data": {
      "text/plain": [
       "(0.0, 13.0)"
      ]
     },
     "execution_count": 18,
     "metadata": {},
     "output_type": "execute_result"
    }
   ],
   "source": [
    "chair.varValue, table.varValue"
   ]
  },
  {
   "cell_type": "code",
   "execution_count": null,
   "metadata": {},
   "outputs": [],
   "source": []
  },
  {
   "cell_type": "code",
   "execution_count": 20,
   "metadata": {},
   "outputs": [
    {
     "name": "stdout",
     "output_type": "stream",
     "text": [
      "Welcome to the CBC MILP Solver \n",
      "Version: 2.10.3 \n",
      "Build Date: Dec 15 2019 \n",
      "\n",
      "command line - /home/ginger/.pyenv/versions/3.10.6/lib/python3.10/site-packages/pulp/solverdir/cbc/linux/64/cbc /tmp/07d66737cdca44d29648489fab204955-pulp.mps max timeMode elapsed branch printingOptions all solution /tmp/07d66737cdca44d29648489fab204955-pulp.sol (default strategy 1)\n",
      "At line 2 NAME          MODEL\n",
      "At line 3 ROWS\n",
      "At line 8 COLUMNS\n",
      "At line 20 RHS\n",
      "At line 24 BOUNDS\n",
      "At line 27 ENDATA\n",
      "Problem MODEL has 3 rows, 2 columns and 5 elements\n",
      "Coin0008I MODEL read with 0 errors\n",
      "Option for timeMode changed from cpu to elapsed\n",
      "Continuous objective value is 50.25 - 0.00 seconds\n",
      "Cgl0004I processed model has 2 rows, 2 columns (2 integer (0 of which binary)) and 4 elements\n",
      "Cutoff increment increased from 1e-05 to 0.4999\n",
      "Cbc0012I Integer solution of -48 found by DiveCoefficient after 0 iterations and 0 nodes (0.01 seconds)\n",
      "Cbc0006I The LP relaxation is infeasible or too expensive\n",
      "Cbc0013I At root node, 0 cuts changed objective from -50.25 to -50.25 in 1 passes\n",
      "Cbc0014I Cut generator 0 (Probing) - 1 row cuts average 0.0 elements, 0 column cuts (0 active)  in 0.000 seconds - new frequency is 1\n",
      "Cbc0014I Cut generator 1 (Gomory) - 0 row cuts average 0.0 elements, 0 column cuts (0 active)  in 0.000 seconds - new frequency is -100\n",
      "Cbc0014I Cut generator 2 (Knapsack) - 0 row cuts average 0.0 elements, 0 column cuts (0 active)  in 0.000 seconds - new frequency is -100\n",
      "Cbc0014I Cut generator 3 (Clique) - 0 row cuts average 0.0 elements, 0 column cuts (0 active)  in 0.000 seconds - new frequency is -100\n",
      "Cbc0014I Cut generator 4 (MixedIntegerRounding2) - 0 row cuts average 0.0 elements, 0 column cuts (0 active)  in 0.000 seconds - new frequency is -100\n",
      "Cbc0014I Cut generator 5 (FlowCover) - 0 row cuts average 0.0 elements, 0 column cuts (0 active)  in 0.000 seconds - new frequency is -100\n",
      "Cbc0014I Cut generator 6 (TwoMirCuts) - 0 row cuts average 0.0 elements, 0 column cuts (0 active)  in 0.000 seconds - new frequency is -100\n",
      "Cbc0014I Cut generator 7 (ZeroHalf) - 0 row cuts average 0.0 elements, 0 column cuts (0 active)  in 0.000 seconds - new frequency is -100\n",
      "Cbc0001I Search completed - best objective -48, took 0 iterations and 0 nodes (0.01 seconds)\n",
      "Cbc0035I Maximum depth 0, 0 variables fixed on reduced cost\n",
      "Cuts at root node changed objective from -50.25 to -50.25\n",
      "Probing was tried 1 times and created 1 cuts of which 0 were active after adding rounds of cuts (0.000 seconds)\n",
      "Gomory was tried 0 times and created 0 cuts of which 0 were active after adding rounds of cuts (0.000 seconds)\n",
      "Knapsack was tried 0 times and created 0 cuts of which 0 were active after adding rounds of cuts (0.000 seconds)\n",
      "Clique was tried 0 times and created 0 cuts of which 0 were active after adding rounds of cuts (0.000 seconds)\n",
      "MixedIntegerRounding2 was tried 0 times and created 0 cuts of which 0 were active after adding rounds of cuts (0.000 seconds)\n",
      "FlowCover was tried 0 times and created 0 cuts of which 0 were active after adding rounds of cuts (0.000 seconds)\n",
      "TwoMirCuts was tried 0 times and created 0 cuts of which 0 were active after adding rounds of cuts (0.000 seconds)\n",
      "ZeroHalf was tried 0 times and created 0 cuts of which 0 were active after adding rounds of cuts (0.000 seconds)\n",
      "\n",
      "Result - Optimal solution found\n",
      "\n",
      "Objective value:                48.00000000\n",
      "Enumerated nodes:               0\n",
      "Total iterations:               0\n",
      "Time (CPU seconds):             0.00\n",
      "Time (Wallclock seconds):       0.01\n",
      "\n",
      "Option for printingOptions changed from normal to all\n",
      "Total time (CPU seconds):       0.00   (Wallclock seconds):       0.01\n",
      "\n",
      "Make 6.0 batches of wine\n",
      "Make 4.0 batches of beer\n"
     ]
    }
   ],
   "source": [
    "# Initialize Class\n",
    "model = LpProblem('glass_mfg', sense=LpMaximize)\n",
    "# decision variables\n",
    "W = LpVariable('W', lowBound=0, upBound=None, cat='Integer')\n",
    "B = LpVariable('B', lowBound=0, upBound=None, cat='Integer')\n",
    "# objective funcrion\n",
    "model += 5*W + 4.5*B\n",
    "# constraints\n",
    "model += 6*W + 5*B <= 60\n",
    "model += 10*W + 20*B <= 150\n",
    "model += W <= 6\n",
    "# solve the model\n",
    "model.solve()\n",
    "print('Make {} batches of wine'.format(W.varValue))\n",
    "print('Make {} batches of beer'.format(B.varValue))"
   ]
  },
  {
   "cell_type": "markdown",
   "metadata": {},
   "source": [
    "**What if too many variables?**\n",
    "\n",
    "- `lpSum()` to the rescue\n",
    "- uses Python list comprehension\n",
    "\n",
    "Example:\n",
    "\n",
    "```Python\n",
    "# Define Objective Function\n",
    "model += 20*A + 40*B + 33*C + 14*D + 6*E + 60*F\n",
    "\n",
    "Equivalent to:\n",
    "\n",
    "# Define Objective Function\n",
    "var_list = [20*A, 40*B, 33*C, 14*D, 6*E, 60*F]\n",
    "model += lpSum(var_list)\n",
    "\n",
    "# Define Objective Function\n",
    "cake_types = [\"A\", \"B\", \"C\", \"D\", \"E\", \"F\"]\n",
    "profit_by_cake = {\"A\":20, \"B\":40, \"C\":33, \"D\":14, \"E\":6, \"F\":60}\n",
    "var_dict = {\"A\":A, \"B\":B, \"C\":C, \"D\":D, \"E\":E,\"F\":F}\n",
    "model += lpSum([profit_by_cake[type] * var_dict[type]\n",
    "                for type in cake_types])\n",
    "```\n",
    "\n",
    "**Note**:\n",
    "\n",
    "Variable creation is a little different for a large scale probmlem with many variables. Need to use `LpVariable(name, lowBound=None, upBound=None, cat='Continuous', e=None)` to create variables and assign their categories (i.e. integer/continuous).\n",
    "\n",
    "- `name` = The prex to the name of each LP variable created\n",
    "- `lowBound` = Lower bound\n",
    "- `upBound` = Upper bound\n",
    "- `cat` = The type of variable this is\n",
    "    - Integer\n",
    "    - Binary\n",
    "    - Continuous (default)"
   ]
  },
  {
   "cell_type": "markdown",
   "metadata": {},
   "source": [
    "**Logistics planning problem**\n",
    "\n",
    "You are consulting for kitchen oven manufacturer helping to plan their logistics for next month. There are two warehouse locations (New York, and Atlanta), and four regional customer locations (East, South, Midwest, West). The expected demand next month for East it is 1,800, for South it is 1,200, for the Midwest it is 1,100, and for West it is 1000. The cost for shipping each of the warehouse locations to the regional customer's is listed in the table below. Your goal is to fulfill the regional demand at the lowest price.\n",
    "\n",
    "|Customer|New York|Atlanta\n",
    "|--------|--------|-------\n",
    "|East\t|\\\\$211\t|\\\\$232\n",
    "|South\t|\\\\$232\t|\\\\$212\n",
    "|Midwest|\\\\$240\t|\\\\$230\n",
    "|West\t|\\\\$300\t|\\\\$280\n",
    "\n",
    "Solution:"
   ]
  },
  {
   "cell_type": "code",
   "execution_count": 24,
   "metadata": {},
   "outputs": [
    {
     "data": {
      "text/plain": [
       "{('New York', 'East'): shipments_('New_York',_'East'),\n",
       " ('New York', 'South'): shipments_('New_York',_'South'),\n",
       " ('New York', 'Midwest'): shipments_('New_York',_'Midwest'),\n",
       " ('New York', 'West'): shipments_('New_York',_'West'),\n",
       " ('Atlanta', 'East'): shipments_('Atlanta',_'East'),\n",
       " ('Atlanta', 'South'): shipments_('Atlanta',_'South'),\n",
       " ('Atlanta', 'Midwest'): shipments_('Atlanta',_'Midwest'),\n",
       " ('Atlanta', 'West'): shipments_('Atlanta',_'West')}"
      ]
     },
     "execution_count": 24,
     "metadata": {},
     "output_type": "execute_result"
    }
   ],
   "source": [
    "var_dict"
   ]
  },
  {
   "cell_type": "code",
   "execution_count": 21,
   "metadata": {},
   "outputs": [
    {
     "name": "stdout",
     "output_type": "stream",
     "text": [
      "Welcome to the CBC MILP Solver \n",
      "Version: 2.10.3 \n",
      "Build Date: Dec 15 2019 \n",
      "\n",
      "command line - /home/ginger/.pyenv/versions/3.10.6/lib/python3.10/site-packages/pulp/solverdir/cbc/linux/64/cbc /tmp/bfa8ba2ae422404ab4c1686eec8df0c5-pulp.mps timeMode elapsed branch printingOptions all solution /tmp/bfa8ba2ae422404ab4c1686eec8df0c5-pulp.sol (default strategy 1)\n",
      "At line 2 NAME          MODEL\n",
      "At line 3 ROWS\n",
      "At line 9 COLUMNS\n",
      "At line 42 RHS\n",
      "At line 47 BOUNDS\n",
      "At line 56 ENDATA\n",
      "Problem MODEL has 4 rows, 8 columns and 8 elements\n",
      "Coin0008I MODEL read with 0 errors\n",
      "Option for timeMode changed from cpu to elapsed\n",
      "Continuous objective value is 1.1672e+06 - 0.00 seconds\n",
      "Cgl0004I processed model has 0 rows, 0 columns (0 integer (0 of which binary)) and 0 elements\n",
      "Cbc3007W No integer variables - nothing to do\n",
      "Cuts at root node changed objective from 1.1672e+06 to -1.79769e+308\n",
      "Probing was tried 0 times and created 0 cuts of which 0 were active after adding rounds of cuts (0.000 seconds)\n",
      "Gomory was tried 0 times and created 0 cuts of which 0 were active after adding rounds of cuts (0.000 seconds)\n",
      "Knapsack was tried 0 times and created 0 cuts of which 0 were active after adding rounds of cuts (0.000 seconds)\n",
      "Clique was tried 0 times and created 0 cuts of which 0 were active after adding rounds of cuts (0.000 seconds)\n",
      "MixedIntegerRounding2 was tried 0 times and created 0 cuts of which 0 were active after adding rounds of cuts (0.000 seconds)\n",
      "FlowCover was tried 0 times and created 0 cuts of which 0 were active after adding rounds of cuts (0.000 seconds)\n",
      "TwoMirCuts was tried 0 times and created 0 cuts of which 0 were active after adding rounds of cuts (0.000 seconds)\n",
      "ZeroHalf was tried 0 times and created 0 cuts of which 0 were active after adding rounds of cuts (0.000 seconds)\n",
      "\n",
      "Result - Optimal solution found\n",
      "\n",
      "Objective value:                1167200.00000000\n",
      "Enumerated nodes:               0\n",
      "Total iterations:               0\n",
      "Time (CPU seconds):             0.00\n",
      "Time (Wallclock seconds):       0.00\n",
      "\n",
      "Option for printingOptions changed from normal to all\n",
      "Total time (CPU seconds):       0.00   (Wallclock seconds):       0.00\n",
      "\n"
     ]
    },
    {
     "data": {
      "text/plain": [
       "1"
      ]
     },
     "execution_count": 21,
     "metadata": {},
     "output_type": "execute_result"
    }
   ],
   "source": [
    "# Initialize Model\n",
    "model = LpProblem(\"MinimizeTransportationCosts\", LpMinimize)\n",
    "\n",
    "# build costs dictionary\n",
    "costs = {('Atlanta', 'East'): 232, \n",
    "         ('Atlanta', 'Midwest'): 230, \n",
    "         ('Atlanta', 'South'): 212, \n",
    "         ('Atlanta', 'West'): 280, \n",
    "         ('New York', 'East'): 211, \n",
    "         ('New York', 'Midwest'): 240, \n",
    "         ('New York', 'South'): 232, \n",
    "         ('New York', 'West'): 300}\n",
    "\n",
    "# Build the lists and the demand dictionary\n",
    "warehouse = ['New York', 'Atlanta']\n",
    "customers = ['East', 'South', 'Midwest', 'West']\n",
    "regional_demand = [1800, 1200, 1100, 1000]\n",
    "demand = dict(zip(customers, regional_demand))\n",
    "\n",
    "# define decision variables by first using list comprehension to \n",
    "# iterate over the warehouse, and customers lists to create a list of keys.\n",
    "# Use that list of keys with LpVariable.dicts() to define the variables needed.\n",
    "key = [(w, c) for w in warehouse for c in customers]\n",
    "var_dict = LpVariable.dicts('shipments', \n",
    "                            key, \n",
    "                            lowBound = 0, \n",
    "                            upBound=None, \n",
    "                            cat='Integer')\n",
    "\n",
    "# Define Objective\n",
    "model += lpSum([costs[(w, c)] * var_dict[(w, c)] \n",
    "                for c in customers for w in warehouse])\n",
    "\n",
    "# For each customer, sum warehouse shipments and set equal to customer demand\n",
    "for c in customers:\n",
    "    model += lpSum([var_dict[(w, c)] for w in warehouse]) == demand[c]\n",
    "\n",
    "model.solve()"
   ]
  },
  {
   "cell_type": "code",
   "execution_count": 22,
   "metadata": {},
   "outputs": [
    {
     "name": "stdout",
     "output_type": "stream",
     "text": [
      "shipments_('Atlanta',_'East') = 0.0\n",
      "shipments_('Atlanta',_'Midwest') = 1100.0\n",
      "shipments_('Atlanta',_'South') = 1200.0\n",
      "shipments_('Atlanta',_'West') = 1000.0\n",
      "shipments_('New_York',_'East') = 1800.0\n",
      "shipments_('New_York',_'Midwest') = 0.0\n",
      "shipments_('New_York',_'South') = 0.0\n",
      "shipments_('New_York',_'West') = 0.0\n"
     ]
    }
   ],
   "source": [
    "# variables values\n",
    "for v in model.variables():\n",
    "    print(v.name, \"=\", v.varValue)"
   ]
  },
  {
   "cell_type": "markdown",
   "metadata": {},
   "source": [
    "**Run cell below for more info about the method `LpVariable.dicts()`**"
   ]
  },
  {
   "cell_type": "code",
   "execution_count": 23,
   "metadata": {},
   "outputs": [
    {
     "data": {
      "text/plain": [
       "\u001b[0;31mSignature:\u001b[0m\n",
       "\u001b[0mLpVariable\u001b[0m\u001b[0;34m.\u001b[0m\u001b[0mdicts\u001b[0m\u001b[0;34m(\u001b[0m\u001b[0;34m\u001b[0m\n",
       "\u001b[0;34m\u001b[0m    \u001b[0mname\u001b[0m\u001b[0;34m,\u001b[0m\u001b[0;34m\u001b[0m\n",
       "\u001b[0;34m\u001b[0m    \u001b[0mindices\u001b[0m\u001b[0;34m=\u001b[0m\u001b[0;32mNone\u001b[0m\u001b[0;34m,\u001b[0m\u001b[0;34m\u001b[0m\n",
       "\u001b[0;34m\u001b[0m    \u001b[0mlowBound\u001b[0m\u001b[0;34m=\u001b[0m\u001b[0;32mNone\u001b[0m\u001b[0;34m,\u001b[0m\u001b[0;34m\u001b[0m\n",
       "\u001b[0;34m\u001b[0m    \u001b[0mupBound\u001b[0m\u001b[0;34m=\u001b[0m\u001b[0;32mNone\u001b[0m\u001b[0;34m,\u001b[0m\u001b[0;34m\u001b[0m\n",
       "\u001b[0;34m\u001b[0m    \u001b[0mcat\u001b[0m\u001b[0;34m=\u001b[0m\u001b[0;34m'Continuous'\u001b[0m\u001b[0;34m,\u001b[0m\u001b[0;34m\u001b[0m\n",
       "\u001b[0;34m\u001b[0m    \u001b[0mindexStart\u001b[0m\u001b[0;34m=\u001b[0m\u001b[0;34m[\u001b[0m\u001b[0;34m]\u001b[0m\u001b[0;34m,\u001b[0m\u001b[0;34m\u001b[0m\n",
       "\u001b[0;34m\u001b[0m    \u001b[0mindexs\u001b[0m\u001b[0;34m=\u001b[0m\u001b[0;32mNone\u001b[0m\u001b[0;34m,\u001b[0m\u001b[0;34m\u001b[0m\n",
       "\u001b[0;34m\u001b[0m\u001b[0;34m)\u001b[0m\u001b[0;34m\u001b[0m\u001b[0;34m\u001b[0m\u001b[0m\n",
       "\u001b[0;31mDocstring:\u001b[0m\n",
       "This function creates a dictionary of :py:class:`LpVariable` with the specified associated parameters.\n",
       "\n",
       ":param name: The prefix to the name of each LP variable created\n",
       ":param indices: A list of strings of the keys to the dictionary of LP\n",
       "    variables, and the main part of the variable name itself\n",
       ":param lowBound: The lower bound on these variables' range. Default is\n",
       "    negative infinity\n",
       ":param upBound: The upper bound on these variables' range. Default is\n",
       "    positive infinity\n",
       ":param cat: The category these variables are in, Integer or\n",
       "    Continuous(default)\n",
       ":param indexs: (deprecated) Replaced with `indices` parameter\n",
       "\n",
       ":return: A dictionary of :py:class:`LpVariable`\n",
       "\u001b[0;31mFile:\u001b[0m      ~/.pyenv/versions/3.10.6/lib/python3.10/site-packages/pulp/pulp.py\n",
       "\u001b[0;31mType:\u001b[0m      method\n"
      ]
     },
     "metadata": {},
     "output_type": "display_data"
    }
   ],
   "source": [
    "LpVariable.dicts?"
   ]
  },
  {
   "cell_type": "code",
   "execution_count": null,
   "metadata": {},
   "outputs": [],
   "source": []
  },
  {
   "cell_type": "code",
   "execution_count": null,
   "metadata": {},
   "outputs": [],
   "source": []
  }
 ],
 "metadata": {
  "kernelspec": {
   "display_name": "Python 3 (ipykernel)",
   "language": "python",
   "name": "python3"
  },
  "language_info": {
   "codemirror_mode": {
    "name": "ipython",
    "version": 3
   },
   "file_extension": ".py",
   "mimetype": "text/x-python",
   "name": "python",
   "nbconvert_exporter": "python",
   "pygments_lexer": "ipython3",
   "version": "3.10.6"
  }
 },
 "nbformat": 4,
 "nbformat_minor": 4
}
