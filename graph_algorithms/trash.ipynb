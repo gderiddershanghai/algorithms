{
 "cells": [
  {
   "cell_type": "code",
   "execution_count": 4,
   "id": "f133fe9b-ad0c-4d62-97b2-9a7983acaa77",
   "metadata": {},
   "outputs": [],
   "source": [
    "import numpy as np\n",
    "class Solution:\n",
    "    def search(self, nums , target):\n",
    "\n",
    "        iterations = int(np.log2(len(nums)+1))\n",
    "        pivot = len(nums)//2\n",
    "        idx = pivot\n",
    "        if nums[pivot]==target:\n",
    "            return pivot\n",
    "        for iteration in range(iterations):\n",
    "            print('pivot', pivot, nums[pivot])\n",
    "            if nums[pivot]==target:\n",
    "                return pivot\n",
    "            elif nums[pivot]>target:\n",
    "                # nums = nums[:pivot]\n",
    "                pivot = pivot - (pivot//2)\n",
    "            elif nums[pivot] < target:\n",
    "                # nums = nums[:pivot]\n",
    "                pivot = pivot + (pivot//2)\n",
    "        return -1\n",
    "\n",
    "\n",
    "            \n",
    "\n"
   ]
  },
  {
   "cell_type": "code",
   "execution_count": 12,
   "id": "62e46f44-81ef-4b97-8701-f8f5451fea71",
   "metadata": {},
   "outputs": [],
   "source": [
    "nums = [-1,0,3,5,9,12,8]\n",
    "target = 0\n",
    "sol = Solution()"
   ]
  },
  {
   "cell_type": "code",
   "execution_count": 13,
   "id": "7ba87010-b085-4db4-a719-4e09f797dcdc",
   "metadata": {},
   "outputs": [
    {
     "name": "stdout",
     "output_type": "stream",
     "text": [
      "pivot 3 5\n",
      "pivot 2 3\n",
      "pivot 1 0\n"
     ]
    },
    {
     "data": {
      "text/plain": [
       "1"
      ]
     },
     "execution_count": 13,
     "metadata": {},
     "output_type": "execute_result"
    }
   ],
   "source": [
    "sol.search(nums, target)"
   ]
  },
  {
   "cell_type": "code",
   "execution_count": 14,
   "id": "76957d6d-c0d1-492f-8987-53e48a206a1f",
   "metadata": {},
   "outputs": [
    {
     "data": {
      "text/plain": [
       "[-1, 0, 3]"
      ]
     },
     "execution_count": 14,
     "metadata": {},
     "output_type": "execute_result"
    }
   ],
   "source": [
    "pivot = len(nums)//2\n",
    "nums[:pivot]\n"
   ]
  },
  {
   "cell_type": "code",
   "execution_count": 16,
   "id": "cf2d004a-a85c-4c3a-ade4-cabcd2d787a8",
   "metadata": {},
   "outputs": [],
   "source": [
    "piv1= pivot - (pivot//2)\n",
    "piv2= pivot + (pivot//2)"
   ]
  },
  {
   "cell_type": "code",
   "execution_count": 15,
   "id": "a8ff0950-4a51-4222-9952-2dfc6a6cb867",
   "metadata": {},
   "outputs": [
    {
     "data": {
      "text/plain": [
       "[5, 9, 12, 8]"
      ]
     },
     "execution_count": 15,
     "metadata": {},
     "output_type": "execute_result"
    }
   ],
   "source": [
    "nums[pivot:]"
   ]
  },
  {
   "cell_type": "code",
   "execution_count": 19,
   "id": "f1ebac94-1b42-4d4c-982d-d5c6232a124f",
   "metadata": {},
   "outputs": [
    {
     "data": {
      "text/plain": [
       "([5], [9, 12, 8])"
      ]
     },
     "execution_count": 19,
     "metadata": {},
     "output_type": "execute_result"
    }
   ],
   "source": [
    "nums[pivot:piv2],nums[piv2:]"
   ]
  },
  {
   "cell_type": "code",
   "execution_count": 1,
   "id": "443e7c2c-3cd8-4554-9bcf-2118d91c7b3c",
   "metadata": {},
   "outputs": [],
   "source": [
    "import numpy as np"
   ]
  },
  {
   "cell_type": "code",
   "execution_count": 26,
   "id": "15c0c7e2-f0b1-4e2f-9ee7-e0eab28d6514",
   "metadata": {},
   "outputs": [],
   "source": [
    "A = np.array([[1,2,3],[4,5,6],[7,8,9]])"
   ]
  },
  {
   "cell_type": "code",
   "execution_count": 27,
   "id": "50c6e09d-f75a-4501-ba81-17cbcada4217",
   "metadata": {},
   "outputs": [],
   "source": [
    "# A = np.array([[1,2],[0,1]])"
   ]
  },
  {
   "cell_type": "code",
   "execution_count": 29,
   "id": "98187c44-34f3-4145-8c26-3ef6785d79ae",
   "metadata": {},
   "outputs": [
    {
     "data": {
      "text/plain": [
       "2"
      ]
     },
     "execution_count": 29,
     "metadata": {},
     "output_type": "execute_result"
    }
   ],
   "source": [
    "np.linalg.matrix_rank(A)"
   ]
  },
  {
   "cell_type": "code",
   "execution_count": 25,
   "id": "e3ff06c2-a2f1-4242-b53e-adafee10c986",
   "metadata": {},
   "outputs": [
    {
     "data": {
      "text/plain": [
       "array([[1.        , 0.89442719],\n",
       "       [0.        , 0.4472136 ]])"
      ]
     },
     "execution_count": 25,
     "metadata": {},
     "output_type": "execute_result"
    }
   ],
   "source": [
    "vals, vecs = np.linalg.eig(A)\n",
    "vecs"
   ]
  },
  {
   "cell_type": "code",
   "execution_count": 30,
   "id": "68827fa6-333f-4ae1-8f07-86c32d3a5907",
   "metadata": {},
   "outputs": [
    {
     "data": {
      "text/plain": [
       "0.0"
      ]
     },
     "execution_count": 30,
     "metadata": {},
     "output_type": "execute_result"
    }
   ],
   "source": [
    "np.linalg.det(A)"
   ]
  },
  {
   "cell_type": "code",
   "execution_count": 87,
   "id": "d14bba16-8761-4f6d-95e3-6e078163f325",
   "metadata": {},
   "outputs": [],
   "source": [
    "class Solution:\n",
    "    def groupAnagrams(self, strs):\n",
    "        print(len(strs))\n",
    "        # if len(strs)<=1:\n",
    "        #     print('ss')\n",
    "        #     return strs\n",
    "        s = set()\n",
    "        sorted_strs = [s.add(''.join(sorted(st))) for st in strs] \n",
    "\n",
    "        answer = [[]]*len(s)\n",
    "        d = {v:[] for k,v in enumerate(s)}\n",
    "        print(d)\n",
    "        for string in strs:\n",
    "            d[''.join(sorted(string))].append(string)\n",
    "            # idx = d[''.join(sorted(string))]\n",
    "            # print(idx, string)\n",
    "            # print(answer[idx])\n",
    "            # answer[idx].append(string)\n",
    "        return [v for v in d.values()]"
   ]
  },
  {
   "cell_type": "code",
   "execution_count": 88,
   "id": "a1a7e588-8a85-43ca-af1d-ddfbf2d306c1",
   "metadata": {},
   "outputs": [],
   "source": [
    "strs = [\"eat\",\"tea\",\"tan\",\"ate\",\"nat\",\"bat\"]"
   ]
  },
  {
   "cell_type": "code",
   "execution_count": 89,
   "id": "e5443fda-5fbc-451b-84ef-e3c2ace55bad",
   "metadata": {},
   "outputs": [],
   "source": [
    "sol = Solution()"
   ]
  },
  {
   "cell_type": "code",
   "execution_count": 90,
   "id": "13cef698-0257-4c39-843b-49aedbf453f2",
   "metadata": {},
   "outputs": [
    {
     "name": "stdout",
     "output_type": "stream",
     "text": [
      "6\n",
      "{'abt': [], 'aet': [], 'ant': []}\n"
     ]
    },
    {
     "data": {
      "text/plain": [
       "[['bat'], ['eat', 'tea', 'ate'], ['tan', 'nat']]"
      ]
     },
     "execution_count": 90,
     "metadata": {},
     "output_type": "execute_result"
    }
   ],
   "source": [
    "sol.groupAnagrams(strs)"
   ]
  },
  {
   "cell_type": "code",
   "execution_count": 66,
   "id": "91703672-278a-455a-8653-0bf037c57730",
   "metadata": {},
   "outputs": [
    {
     "data": {
      "text/plain": [
       "[[], [], []]"
      ]
     },
     "execution_count": 66,
     "metadata": {},
     "output_type": "execute_result"
    }
   ],
   "source": [
    "[[]]*3"
   ]
  },
  {
   "cell_type": "code",
   "execution_count": 95,
   "id": "ce4fbef7-f49f-4b80-8005-c07976d8e67d",
   "metadata": {},
   "outputs": [],
   "source": [
    "def fact(n):\n",
    "    if n==1:\n",
    "        return 1\n",
    "    return n* fact(n-1)\n"
   ]
  },
  {
   "cell_type": "code",
   "execution_count": 100,
   "id": "97dd19f2-ad42-411c-83a0-12f16e681828",
   "metadata": {},
   "outputs": [
    {
     "data": {
      "text/plain": [
       "87178291200"
      ]
     },
     "execution_count": 100,
     "metadata": {},
     "output_type": "execute_result"
    }
   ],
   "source": [
    "fact(14)"
   ]
  },
  {
   "cell_type": "code",
   "execution_count": null,
   "id": "5bba1d6b-727f-430e-9987-7505c821931c",
   "metadata": {},
   "outputs": [],
   "source": []
  }
 ],
 "metadata": {
  "kernelspec": {
   "display_name": "Python 3 (ipykernel)",
   "language": "python",
   "name": "python3"
  },
  "language_info": {
   "codemirror_mode": {
    "name": "ipython",
    "version": 3
   },
   "file_extension": ".py",
   "mimetype": "text/x-python",
   "name": "python",
   "nbconvert_exporter": "python",
   "pygments_lexer": "ipython3",
   "version": "3.10.6"
  }
 },
 "nbformat": 4,
 "nbformat_minor": 5
}
