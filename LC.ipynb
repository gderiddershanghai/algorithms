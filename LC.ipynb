{
 "cells": [
  {
   "cell_type": "code",
   "execution_count": 5,
   "id": "083e5b4a-8368-41ce-a0b0-166e0ccc904e",
   "metadata": {},
   "outputs": [
    {
     "data": {
      "text/plain": [
       "Counter({'a': 1, 'b': 12})"
      ]
     },
     "execution_count": 5,
     "metadata": {},
     "output_type": "execute_result"
    }
   ],
   "source": []
  },
  {
   "cell_type": "code",
   "execution_count": 86,
   "id": "cb06fb6d-dbed-4566-a08a-fdc944a1ab37",
   "metadata": {},
   "outputs": [
    {
     "data": {
      "text/plain": [
       "['a', 'a', 'c', 'b', 'b', 'b', 'b', 'b', 'b', 'b', 'b', 'c']"
      ]
     },
     "execution_count": 86,
     "metadata": {},
     "output_type": "execute_result"
    }
   ],
   "source": [
    "chars = [\"a\",'a', 'c', \"b\",\"b\",\"b\",\"b\",\"b\",\"b\",\"b\",\"b\", 'c']\n",
    "chars"
   ]
  },
  {
   "cell_type": "code",
   "execution_count": 87,
   "id": "291a9c2f-5722-4ace-a911-dbb7f744ad9a",
   "metadata": {},
   "outputs": [
    {
     "data": {
      "text/plain": [
       "'ac2b2c9'"
      ]
     },
     "execution_count": 87,
     "metadata": {},
     "output_type": "execute_result"
    }
   ],
   "source": [
    "s = chars[0]\n",
    "tmp = ''\n",
    "n = len(chars)\n",
    "count = 0\n",
    "prev = chars[0]\n",
    "for i,char in enumerate(chars):\n",
    "    # print('prev and char',prev, char)\n",
    "    # we're just starting out OR same as previous\n",
    "    if char==prev:\n",
    "        # print('not the same', prev)\n",
    "        count += 1\n",
    "        # if i == n-1:\n",
    "        #     print('end of the line')\n",
    "        #     print(s)\n",
    "        #     s+=tmp\n",
    "        #     print(s)\n",
    "        #     s+=str(v%10)\n",
    "        #     tmp=''\n",
    "    \n",
    "    # not the same\n",
    "    elif char!=prev:\n",
    "        if count == 1:\n",
    "            # s+=char\n",
    "            tmp = str(1)\n",
    "        else:\n",
    "            s+=char\n",
    "            s+=tmp\n",
    "            s+=str(count%10)\n",
    "            tmp=''\n",
    "    prev = char\n",
    "s"
   ]
  },
  {
   "cell_type": "code",
   "execution_count": 24,
   "id": "52bdbddb-f1b8-4895-8e25-49d821b0a9d5",
   "metadata": {},
   "outputs": [],
   "source": [
    "from collections import Counter\n",
    "def compress(chars):\n",
    "    c = Counter(chars)\n",
    "    s = ''\n",
    "    tmp = ''\n",
    "    for i,v in c.items():\n",
    "        \n",
    "        s+=i\n",
    "        if v==1:\n",
    "            tmp+=str(v)\n",
    "        else:\n",
    "            s+=tmp\n",
    "            s+=str(v%10)\n",
    "            tmp=''\n",
    "    \n",
    "    for i,v in enumerate(s):\n",
    "        chars[i]=s[i]\n",
    "    return chars"
   ]
  },
  {
   "cell_type": "code",
   "execution_count": 32,
   "id": "72c56466-dde8-43ba-96ae-23bdec0cdddd",
   "metadata": {},
   "outputs": [],
   "source": [
    "chars = [\"a\",\"b\",\"b\",\"b\",\"b\",\"b\",\"b\",\"b\",\"b\",\"b\",\"b\",\"b\",\"b\"]\n",
    "# compress(chars)"
   ]
  },
  {
   "cell_type": "code",
   "execution_count": 26,
   "id": "d7647e08-88a8-40dd-9675-9a9787c37c7a",
   "metadata": {},
   "outputs": [
    {
     "data": {
      "text/plain": [
       "['a', '2', 'b', '2', 'c', '3', 'c']"
      ]
     },
     "execution_count": 26,
     "metadata": {},
     "output_type": "execute_result"
    }
   ],
   "source": [
    "chars = [\"a\",\"a\",\"b\",\"b\",\"c\",\"c\",\"c\"]\n",
    "compress(chars)"
   ]
  },
  {
   "cell_type": "code",
   "execution_count": null,
   "id": "c4285d77-32c6-4b40-a17b-00ac51925ef5",
   "metadata": {},
   "outputs": [],
   "source": []
  }
 ],
 "metadata": {
  "kernelspec": {
   "display_name": "Python 3 (ipykernel)",
   "language": "python",
   "name": "python3"
  },
  "language_info": {
   "codemirror_mode": {
    "name": "ipython",
    "version": 3
   },
   "file_extension": ".py",
   "mimetype": "text/x-python",
   "name": "python",
   "nbconvert_exporter": "python",
   "pygments_lexer": "ipython3",
   "version": "3.10.6"
  }
 },
 "nbformat": 4,
 "nbformat_minor": 5
}
