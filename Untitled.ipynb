{
 "cells": [
  {
   "cell_type": "code",
   "execution_count": 245,
   "id": "ed2c82bc-6275-44cb-8bdd-103b8f2b759c",
   "metadata": {},
   "outputs": [
    {
     "name": "stdout",
     "output_type": "stream",
     "text": [
      "vpf hinf sqwirk eidjlyb czxa tziuomg\n"
     ]
    }
   ],
   "source": [
    "encrypt(message='dog', private_exponent=1, modulo=1)"
   ]
  },
  {
   "cell_type": "code",
   "execution_count": 218,
   "id": "ee402332-4d00-4e57-b567-6038336c8f3b",
   "metadata": {},
   "outputs": [],
   "source": [
    "p,q = 5,11\n",
    "n = p*q"
   ]
  },
  {
   "cell_type": "code",
   "execution_count": 220,
   "id": "4990ab47-7a88-45ab-b64b-0e1f37ac1bde",
   "metadata": {},
   "outputs": [
    {
     "data": {
      "text/plain": [
       "3"
      ]
     },
     "execution_count": 220,
     "metadata": {},
     "output_type": "execute_result"
    }
   ],
   "source": [
    "n%4"
   ]
  },
  {
   "cell_type": "code",
   "execution_count": 221,
   "id": "0b30fa57-f325-480d-bac7-a5aa60a94a6c",
   "metadata": {},
   "outputs": [],
   "source": [
    "def gcd(m,n):\n",
    "    if n==0:\n",
    "        return m\n",
    "    remainder = m%n\n",
    "    return gcd(n,remainder)"
   ]
  },
  {
   "cell_type": "code",
   "execution_count": 277,
   "id": "ef9b77b4-99f2-41c2-856c-500807e993e8",
   "metadata": {},
   "outputs": [],
   "source": [
    "def relative_prime(n):\n",
    "    'returns private exponent'\n",
    "    l = []\n",
    "    for e in range(0,n):\n",
    "        if gcd(n,e) == 1:\n",
    "            l.append(e)\n",
    "    return l\n",
    "        "
   ]
  },
  {
   "cell_type": "code",
   "execution_count": 282,
   "id": "b59ce46b-fca0-45c2-9c47-bb0e04cfc7a8",
   "metadata": {},
   "outputs": [
    {
     "data": {
      "text/plain": [
       "1"
      ]
     },
     "execution_count": 282,
     "metadata": {},
     "output_type": "execute_result"
    }
   ],
   "source": [
    "10**60 % 77"
   ]
  },
  {
   "cell_type": "code",
   "execution_count": 280,
   "id": "c2282a21-9a39-4dfa-b7be-a03551a9f230",
   "metadata": {},
   "outputs": [
    {
     "data": {
      "text/plain": [
       "4"
      ]
     },
     "execution_count": 280,
     "metadata": {},
     "output_type": "execute_result"
    }
   ],
   "source": [
    "n=12\n",
    "len(relative_prime(n))"
   ]
  },
  {
   "cell_type": "code",
   "execution_count": 264,
   "id": "038397c8-b00a-4d7b-bd9c-349795e5eb82",
   "metadata": {},
   "outputs": [],
   "source": [
    "def encrypt(message, private_exponent, modulo):\n",
    "    ciphertext = hash(message)\n",
    "    print(ciphertext)\n",
    "    ciphertext= max([int(i) for i in str(ciphertext)])\n",
    "    print(ciphertext)\n",
    "    return pow(ciphertext, private_exponent, modulo)"
   ]
  },
  {
   "cell_type": "code",
   "execution_count": null,
   "id": "56840b82-aab1-4437-bb9b-a1ec63cd1846",
   "metadata": {},
   "outputs": [],
   "source": [
    "def decrypt(ciphertext, private_exponent, modulo):\n",
    "    return 1"
   ]
  },
  {
   "cell_type": "code",
   "execution_count": 271,
   "id": "2c3cd969-5153-427d-8257-dcc7db9d663b",
   "metadata": {},
   "outputs": [
    {
     "name": "stdout",
     "output_type": "stream",
     "text": [
      "4432038326449660531\n",
      "9\n"
     ]
    },
    {
     "data": {
      "text/plain": [
       "1"
      ]
     },
     "execution_count": 271,
     "metadata": {},
     "output_type": "execute_result"
    }
   ],
   "source": [
    "encrypt(message='my bed', private_exponent=4, modulo=2)"
   ]
  },
  {
   "cell_type": "code",
   "execution_count": 272,
   "id": "74638867-251d-4c3a-a98a-735271d52507",
   "metadata": {},
   "outputs": [],
   "source": [
    "def Decrypt(ciphertext, modulo, private_exponent):\n",
    "    # Decrypt the message using the private key (d, n)\n",
    "    decrypted_int = pow(ciphertext, private_exponent, modulo)\n",
    "    return decrypted_int"
   ]
  },
  {
   "cell_type": "code",
   "execution_count": 273,
   "id": "326cffd6-c409-4563-865f-3ea6ce4b491b",
   "metadata": {},
   "outputs": [
    {
     "data": {
      "text/plain": [
       "1"
      ]
     },
     "execution_count": 273,
     "metadata": {},
     "output_type": "execute_result"
    }
   ],
   "source": [
    "Decrypt(ciphertext=1, modulo=2, private_exponent=14)"
   ]
  },
  {
   "cell_type": "code",
   "execution_count": null,
   "id": "258f0cb3-c575-4ef3-af7e-67d452fb3b34",
   "metadata": {},
   "outputs": [],
   "source": []
  }
 ],
 "metadata": {
  "kernelspec": {
   "display_name": "Python 3 (ipykernel)",
   "language": "python",
   "name": "python3"
  },
  "language_info": {
   "codemirror_mode": {
    "name": "ipython",
    "version": 3
   },
   "file_extension": ".py",
   "mimetype": "text/x-python",
   "name": "python",
   "nbconvert_exporter": "python",
   "pygments_lexer": "ipython3",
   "version": "3.10.6"
  }
 },
 "nbformat": 4,
 "nbformat_minor": 5
}
