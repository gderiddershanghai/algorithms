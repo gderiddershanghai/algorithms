{
 "cells": [
  {
   "cell_type": "code",
   "execution_count": 75,
   "id": "9944b4b8-4c99-49a9-b81c-0926167ddd80",
   "metadata": {},
   "outputs": [],
   "source": [
    "class Solution:\n",
    "    def findMinArrowShots(self, points):\n",
    "        overlap = 0\n",
    "        n = len(points)\n",
    "        pts = sorted(points, key=lambda x: (x[1], x[0]))\n",
    "        print(pts)\n",
    "        if pts[-1][0] < pts[0][1]:\n",
    "            return 1\n",
    "        for i in range(n):\n",
    "            if i == 0:\n",
    "                continue \n",
    "            a_now,b_now = pts[i]\n",
    "            a_past,b_past = pts[i-1]\n",
    "            if a_now <= b_past:\n",
    "                overlap+=1\n",
    "        print(f'overlap {overlap} _ n: {n}')\n",
    "        if n == 2:\n",
    "            arrows = min(n - overlap, n)\n",
    "        else:\n",
    "            arrows = min(n+1 - overlap, n)\n",
    "        return arrows  \n",
    "        \n",
    "        "
   ]
  },
  {
   "cell_type": "code",
   "execution_count": 76,
   "id": "642b725c-5283-45c4-90ea-cbc8d0dd72f6",
   "metadata": {},
   "outputs": [
    {
     "name": "stdout",
     "output_type": "stream",
     "text": [
      "[[1, 6], [2, 8], [7, 12], [10, 16]]\n",
      "overlap 3 _ n: 4\n"
     ]
    },
    {
     "data": {
      "text/plain": [
       "2"
      ]
     },
     "execution_count": 76,
     "metadata": {},
     "output_type": "execute_result"
    }
   ],
   "source": [
    "points = [[10,16],[2,8],[1,6],[7,12]]\n",
    "Solution().findMinArrowShots(points)"
   ]
  },
  {
   "cell_type": "code",
   "execution_count": 77,
   "id": "d15f6b60-a4b3-44d1-9503-348dd8fa2915",
   "metadata": {},
   "outputs": [
    {
     "name": "stdout",
     "output_type": "stream",
     "text": [
      "[[1, 2], [3, 4], [5, 6], [7, 8]]\n",
      "overlap 0 _ n: 4\n"
     ]
    },
    {
     "data": {
      "text/plain": [
       "4"
      ]
     },
     "execution_count": 77,
     "metadata": {},
     "output_type": "execute_result"
    }
   ],
   "source": [
    "points = [[1,2],[3,4],[5,6],[7,8]]\n",
    "Solution().findMinArrowShots(points)"
   ]
  },
  {
   "cell_type": "code",
   "execution_count": 78,
   "id": "d11324c0-c70b-4578-93f9-9ffb81f06673",
   "metadata": {},
   "outputs": [
    {
     "name": "stdout",
     "output_type": "stream",
     "text": [
      "[[2, 7], [4, 8], [4, 9], [3, 10], [5, 10], [4, 11], [4, 11], [6, 11], [6, 15]]\n"
     ]
    },
    {
     "data": {
      "text/plain": [
       "1"
      ]
     },
     "execution_count": 78,
     "metadata": {},
     "output_type": "execute_result"
    }
   ],
   "source": [
    "points =[[5,10],[4,11],[6,11],[6,15],[3,10],[4,9],[2,7],[4,11],[4,8]]\n",
    "Solution().findMinArrowShots(points)"
   ]
  },
  {
   "cell_type": "code",
   "execution_count": 79,
   "id": "e3267ee9-8877-4b7d-948e-3f2a6caff731",
   "metadata": {},
   "outputs": [
    {
     "name": "stdout",
     "output_type": "stream",
     "text": [
      "[[6, 7], [3, 9], [6, 9], [1, 10], [4, 11], [8, 12], [9, 12]]\n",
      "overlap 6 _ n: 7\n"
     ]
    },
    {
     "data": {
      "text/plain": [
       "2"
      ]
     },
     "execution_count": 79,
     "metadata": {},
     "output_type": "execute_result"
    }
   ],
   "source": [
    "[[9,12],[1,10],[4,11],[8,12],[3,9],[6,9],[6,7]]\n",
    "\n",
    "points = [[9,12],[1,10],[4,11],[8,12],[3,9],[6,9],[6,7]]\n",
    "Solution().findMinArrowShots(points)"
   ]
  },
  {
   "cell_type": "code",
   "execution_count": 141,
   "id": "08952cef-6921-4329-9c54-5cb47755580a",
   "metadata": {},
   "outputs": [],
   "source": [
    "def ceasar(shift, s):\n",
    "    alphabet = 'abcdefghijklmnopqrstuvwxyz'\n",
    "    key = alphabet[shift:] + alphabet[:shift]\n",
    "    d = {k:v for k,v in zip(alphabet,key)}\n",
    "    d[' '] = ' '\n",
    "    answer = ''\n",
    "    for char in s:\n",
    "        answer+=d[char]\n",
    "    return answer"
   ]
  },
  {
   "cell_type": "code",
   "execution_count": 138,
   "id": "f630c137-e810-49f9-a7c5-e00e51a7dba9",
   "metadata": {},
   "outputs": [
    {
     "name": "stdout",
     "output_type": "stream",
     "text": [
      "Decoded message: kyv wzmv sfozex nzqriuj aldg hlztbcp\n",
      "Decoded message: jxu vylu renydw mypqhti zkcf gkysabo\n",
      "Decoded message: iwt uxkt qdmxcv lxopgsh yjbe fjxrzan\n",
      "Decoded message: hvs twjs pclwbu kwnofrg xiad eiwqyzm\n",
      "Decoded message: gur svir obkvat jvmneqf whzc dhvpxyl\n",
      "Decoded message: ftq ruhq najuzs iulmdpe vgyb cguowxk\n",
      "Decoded message: esp qtgp mzityr htklcod ufxa bftnvwj\n",
      "Decoded message: dro psfo lyhsxq gsjkbnc tewz aesmuvi\n",
      "Decoded message: cqn oren kxgrwp frijamb sdvy zdrltuh\n",
      "Decoded message: bpm nqdm jwfqvo eqhizla rcux ycqkstg\n",
      "Decoded message: aol mpcl ivepun dpghykz qbtw xbpjrsf\n",
      "Decoded message: znk lobk hudotm cofgxjy pasv waoiqre\n",
      "Decoded message: ymj knaj gtcnsl bnefwix ozru vznhpqd\n",
      "Decoded message: xli jmzi fsbmrk amdevhw nyqt uymgopc\n",
      "Decoded message: wkh ilyh eralqj zlcdugv mxps txlfnob\n",
      "Decoded message: vjg hkxg dqzkpi ykbctfu lwor swkemna\n",
      "Decoded message: uif gjwf cpyjoh xjabset kvnq rvjdlmz\n",
      "Decoded message: the five boxing wizards jump quickly\n",
      "Decoded message: sgd ehud anwhmf vhyzqcr itlo pthbjkx\n",
      "Decoded message: rfc dgtc zmvgle ugxypbq hskn osgaijw\n",
      "Decoded message: qeb cfsb ylufkd tfwxoap grjm nrfzhiv\n",
      "Decoded message: pda bera xktejc sevwnzo fqil mqeyghu\n",
      "Decoded message: ocz adqz wjsdib rduvmyn ephk lpdxfgt\n",
      "Decoded message: nby zcpy vircha qctulxm dogj kocwefs\n",
      "Decoded message: max ybox uhqbgz pbstkwl cnfi jnbvder\n",
      "Decoded message: lzw xanw tgpafy oarsjvk bmeh imaucdq\n",
      "Decoded message: kyv wzmv sfozex nzqriuj aldg hlztbcp\n"
     ]
    }
   ],
   "source": [
    "def decode_caesar_cipher(ciphertext, shift):\n",
    "    \"\"\"\n",
    "    Decode a Caesar cipher with a given shift.\n",
    "    \n",
    "    Args:\n",
    "    ciphertext (str): The encoded message.\n",
    "    shift (int): The number of positions each letter in the ciphertext is shifted.\n",
    "    \n",
    "    Returns:\n",
    "    str: The decoded message.\n",
    "    \"\"\"\n",
    "    decoded_message = \"\"\n",
    "    for char in ciphertext:\n",
    "        if char.isalpha():\n",
    "            # Determine if the character is uppercase or lowercase\n",
    "            start = ord('A') if char.isupper() else ord('a')\n",
    "            # Shift the character back and wrap around if necessary\n",
    "            decoded_char = chr((ord(char) - start - shift) % 26 + start)\n",
    "            decoded_message += decoded_char\n",
    "        else:\n",
    "            # Non-alphabetical characters remain the same\n",
    "            decoded_message += char\n",
    "    return decoded_message\n",
    "\n",
    "# Example usage\n",
    "for i in range(27):\n",
    "    ciphertext = 'kyv wzmv sfozex nzqriuj aldg hlztbcp'\n",
    "    shift = i\n",
    "    decoded_message = decode_caesar_cipher(ciphertext, shift)\n",
    "    print(f\"Decoded message: {decoded_message}\")\n"
   ]
  },
  {
   "cell_type": "code",
   "execution_count": 146,
   "id": "cf46bd3c-74bb-4070-a7f0-9305ddbdcddf",
   "metadata": {},
   "outputs": [
    {
     "name": "stdout",
     "output_type": "stream",
     "text": [
      "cwm opum zxdpyr lpkqsfi jgeh agpbvtn\n"
     ]
    }
   ],
   "source": [
    "for i in range(27):\n",
    "    s = 'vpf hinf sqwirk eidjlyb czxa tziuomg'\n",
    "    # s = 'kyv wzmv sfozex nzqriuj aldg hlztbcp'\n",
    "    shift=i\n",
    "    answer = ceasar(shift, s)\n",
    "    if answer.startswith('c'):\n",
    "        print(answer)"
   ]
  },
  {
   "cell_type": "code",
   "execution_count": 129,
   "id": "48b517e9-e53d-4798-a3cb-a4a7716e20b1",
   "metadata": {},
   "outputs": [
    {
     "name": "stdout",
     "output_type": "stream",
     "text": [
      "abcdefghijklmnopqrstuvwxyz\n",
      "defghijklmnopqrstuvwxyzabc\n"
     ]
    }
   ],
   "source": [
    "alphabet = 'abcdefghijklmnopqrstuvwxyz'\n",
    "key = alphabet[3:] + alphabet[:3]\n",
    "\n",
    "print(alphabet)\n",
    "print(key)"
   ]
  },
  {
   "cell_type": "code",
   "execution_count": 133,
   "id": "bffd2be8-12f3-48f2-ada8-7be5a9209f96",
   "metadata": {},
   "outputs": [
    {
     "data": {
      "text/plain": [
       "'o'"
      ]
     },
     "execution_count": 133,
     "metadata": {},
     "output_type": "execute_result"
    }
   ],
   "source": [
    "alphabet[14]"
   ]
  },
  {
   "cell_type": "code",
   "execution_count": 122,
   "id": "e5b6c832-ddb9-4028-b281-fbf478d2c3d2",
   "metadata": {},
   "outputs": [
    {
     "name": "stdout",
     "output_type": "stream",
     "text": [
      "defghijklmnopqrstuvwxyzabc\n",
      "abcdefghijklmnopqrstuvwxyz\n"
     ]
    }
   ],
   "source": [
    "alphabet = 'defghijklmnopqrstuvwxyzabc'\n",
    "key = alphabet[-3:] + alphabet[:-3]\n",
    "\n",
    "print(alphabet)\n",
    "print(key)"
   ]
  },
  {
   "cell_type": "code",
   "execution_count": 150,
   "id": "8bb81321-07f0-4e97-a1d8-382b2f4e1565",
   "metadata": {},
   "outputs": [
    {
     "name": "stdout",
     "output_type": "stream",
     "text": [
      "key: 0, plaintext: 0, ciphertext: 0, decoded: 0\n",
      "key: 1, plaintext: 0, ciphertext: 1, decoded: 0\n",
      "key: 0, plaintext: 1, ciphertext: 1, decoded: 1\n",
      "key: 1, plaintext: 1, ciphertext: 0, decoded: 1\n"
     ]
    }
   ],
   "source": [
    "from itertools import product\n",
    "\n",
    "\n",
    "def encode(plain_text, private_key):\n",
    "    assert plain_text in {0, 1} and private_key in {0, 1}\n",
    "    return plain_text ^ private_key\n",
    "\n",
    "\n",
    "def decode(cypher_text, private_key):\n",
    "    assert cypher_text in {0, 1} and private_key in {0, 1}\n",
    "    return cypher_text ^ private_key\n",
    "\n",
    "\n",
    "for plaintext, private_key in product({0, 1}, repeat=2):\n",
    "    ciphertext = encode(plaintext, private_key)\n",
    "    print(f'key: {private_key}, '\n",
    "          f'plaintext: {plaintext}, '\n",
    "          f'ciphertext: {ciphertext}, '\n",
    "          f'decoded: {decode(ciphertext, private_key)}')"
   ]
  },
  {
   "cell_type": "code",
   "execution_count": null,
   "id": "1577246f-5b72-496d-8f8e-fa57bc4aabf0",
   "metadata": {},
   "outputs": [],
   "source": []
  }
 ],
 "metadata": {
  "kernelspec": {
   "display_name": "Python 3 (ipykernel)",
   "language": "python",
   "name": "python3"
  },
  "language_info": {
   "codemirror_mode": {
    "name": "ipython",
    "version": 3
   },
   "file_extension": ".py",
   "mimetype": "text/x-python",
   "name": "python",
   "nbconvert_exporter": "python",
   "pygments_lexer": "ipython3",
   "version": "3.10.6"
  }
 },
 "nbformat": 4,
 "nbformat_minor": 5
}
